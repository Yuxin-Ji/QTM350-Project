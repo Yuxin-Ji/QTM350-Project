{
 "cells": [
  {
   "cell_type": "code",
   "execution_count": 64,
   "metadata": {},
   "outputs": [],
   "source": [
    "# !aws rekognition help"
   ]
  },
  {
   "cell_type": "code",
   "execution_count": 65,
   "metadata": {},
   "outputs": [],
   "source": [
    "# !aws s3 help"
   ]
  },
  {
   "cell_type": "code",
   "execution_count": 66,
   "metadata": {},
   "outputs": [],
   "source": [
    "import boto3"
   ]
  },
  {
   "cell_type": "code",
   "execution_count": 67,
   "metadata": {},
   "outputs": [],
   "source": [
    "client=boto3.client('rekognition')"
   ]
  },
  {
   "cell_type": "markdown",
   "metadata": {},
   "source": [
    "[beryl1](https://350-rekog-project.s3.amazonaws.com/beryl1.jpeg)"
   ]
  },
  {
   "cell_type": "markdown",
   "metadata": {},
   "source": [
    "[together1](https://350-rekog-project.s3.amazonaws.com/together1.jpeg)"
   ]
  },
  {
   "cell_type": "code",
   "execution_count": 68,
   "metadata": {},
   "outputs": [],
   "source": [
    "response=client.compare_faces(SimilarityThreshold=80,\n",
    "                                  SourceImage={'S3Object':{'Bucket':\"350-rekog-project\",'Name':\"beryl1.jpeg\"}},\n",
    "                                  TargetImage={'S3Object':{'Bucket':\"350-rekog-project\",'Name':\"together1.jpeg\"}})"
   ]
  },
  {
   "cell_type": "code",
   "execution_count": 69,
   "metadata": {},
   "outputs": [
    {
     "name": "stdout",
     "output_type": "stream",
     "text": [
      "The face at 0.5722591280937195 0.41717708110809326 matches with 99.89863586425781% confidence\n",
      "The face at 0.3406957685947418 0.4428347945213318 matches with 99.37723541259766% confidence\n",
      "The face at 0.1799880415201187 0.4139992594718933 dose not match with 99.99813079833984% confidence\n"
     ]
    }
   ],
   "source": [
    "for faceMatch in response['FaceMatches']:\n",
    "        position = faceMatch['Face']['BoundingBox']\n",
    "        similarity = str(faceMatch['Similarity'])\n",
    "        print('The face at ' +\n",
    "               str(position['Left']) + ' ' +\n",
    "               str(position['Top']) +\n",
    "               ' matches with ' + similarity + '% confidence')\n",
    "for faceNotMatch in response['UnmatchedFaces']:\n",
    "    position = faceNotMatch['BoundingBox']\n",
    "    confidence = str(faceNotMatch['Confidence'])\n",
    "    print('The face at ' +\n",
    "            str(position['Left']) + ' ' +\n",
    "            str(position['Top']) +\n",
    "            ' dose not match with ' + confidence + '% confidence')"
   ]
  },
  {
   "cell_type": "code",
   "execution_count": 70,
   "metadata": {},
   "outputs": [
    {
     "data": {
      "text/plain": [
       "{'SourceImageFace': {'BoundingBox': {'Width': 0.4034557342529297,\n",
       "   'Height': 0.46883130073547363,\n",
       "   'Left': 0.2250816971063614,\n",
       "   'Top': 0.14957624673843384},\n",
       "  'Confidence': 99.99610137939453},\n",
       " 'FaceMatches': [{'Similarity': 99.89863586425781,\n",
       "   'Face': {'BoundingBox': {'Width': 0.13176371157169342,\n",
       "     'Height': 0.1304168701171875,\n",
       "     'Left': 0.5722591280937195,\n",
       "     'Top': 0.41717708110809326},\n",
       "    'Confidence': 99.99797058105469,\n",
       "    'Landmarks': [{'Type': 'eyeLeft',\n",
       "      'X': 0.5984861254692078,\n",
       "      'Y': 0.47112470865249634},\n",
       "     {'Type': 'eyeRight', 'X': 0.658948540687561, 'Y': 0.4712055027484894},\n",
       "     {'Type': 'mouthLeft', 'X': 0.6055641174316406, 'Y': 0.5137875080108643},\n",
       "     {'Type': 'mouthRight', 'X': 0.6560426354408264, 'Y': 0.5139992237091064},\n",
       "     {'Type': 'nose', 'X': 0.6206967234611511, 'Y': 0.49473461508750916}],\n",
       "    'Pose': {'Roll': -1.168199062347412,\n",
       "     'Yaw': -9.636792182922363,\n",
       "     'Pitch': 1.719215750694275},\n",
       "    'Quality': {'Brightness': 57.9803466796875,\n",
       "     'Sharpness': 32.20803451538086}}},\n",
       "  {'Similarity': 99.37723541259766,\n",
       "   'Face': {'BoundingBox': {'Width': 0.13136985898017883,\n",
       "     'Height': 0.12316276133060455,\n",
       "     'Left': 0.3406957685947418,\n",
       "     'Top': 0.4428347945213318},\n",
       "    'Confidence': 99.99877166748047,\n",
       "    'Landmarks': [{'Type': 'eyeLeft',\n",
       "      'X': 0.374421626329422,\n",
       "      'Y': 0.48981422185897827},\n",
       "     {'Type': 'eyeRight', 'X': 0.4338950514793396, 'Y': 0.49254482984542847},\n",
       "     {'Type': 'mouthLeft', 'X': 0.3775508999824524, 'Y': 0.5319766998291016},\n",
       "     {'Type': 'mouthRight', 'X': 0.4273218512535095, 'Y': 0.5343700647354126},\n",
       "     {'Type': 'nose', 'X': 0.3980119526386261, 'Y': 0.5151817798614502}],\n",
       "    'Pose': {'Roll': 2.946230411529541,\n",
       "     'Yaw': -5.720349311828613,\n",
       "     'Pitch': 0.2659147381782532},\n",
       "    'Quality': {'Brightness': 65.06717681884766,\n",
       "     'Sharpness': 38.89601135253906}}}],\n",
       " 'UnmatchedFaces': [{'BoundingBox': {'Width': 0.10746818780899048,\n",
       "    'Height': 0.13813892006874084,\n",
       "    'Left': 0.1799880415201187,\n",
       "    'Top': 0.4139992594718933},\n",
       "   'Confidence': 99.99813079833984,\n",
       "   'Landmarks': [{'Type': 'eyeLeft',\n",
       "     'X': 0.20783153176307678,\n",
       "     'Y': 0.4655102491378784},\n",
       "    {'Type': 'eyeRight', 'X': 0.2660055160522461, 'Y': 0.4707227051258087},\n",
       "    {'Type': 'mouthLeft', 'X': 0.20262490212917328, 'Y': 0.5149248242378235},\n",
       "    {'Type': 'mouthRight', 'X': 0.2510899007320404, 'Y': 0.5191515684127808},\n",
       "    {'Type': 'nose', 'X': 0.2373422384262085, 'Y': 0.4962517321109772}],\n",
       "   'Pose': {'Roll': 8.612255096435547,\n",
       "    'Yaw': 12.113481521606445,\n",
       "    'Pitch': -0.10833657532930374},\n",
       "   'Quality': {'Brightness': 87.4827651977539,\n",
       "    'Sharpness': 53.330047607421875}}],\n",
       " 'ResponseMetadata': {'RequestId': '1c32d145-f086-4a93-a74a-f5b6083b53a6',\n",
       "  'HTTPStatusCode': 200,\n",
       "  'HTTPHeaders': {'content-type': 'application/x-amz-json-1.1',\n",
       "   'date': 'Wed, 18 Nov 2020 00:59:25 GMT',\n",
       "   'x-amzn-requestid': '1c32d145-f086-4a93-a74a-f5b6083b53a6',\n",
       "   'content-length': '2270',\n",
       "   'connection': 'keep-alive'},\n",
       "  'RetryAttempts': 0}}"
      ]
     },
     "execution_count": 70,
     "metadata": {},
     "output_type": "execute_result"
    }
   ],
   "source": [
    "response"
   ]
  },
  {
   "cell_type": "markdown",
   "metadata": {},
   "source": [
    "## Testing about twins"
   ]
  },
  {
   "cell_type": "code",
   "execution_count": 71,
   "metadata": {},
   "outputs": [],
   "source": [
    "import numpy as np\n",
    "import pandas as pd\n",
    "import s3fs\n",
    "fs = s3fs.S3FileSystem()"
   ]
  },
  {
   "cell_type": "markdown",
   "metadata": {},
   "source": [
    "function to extract similarity with beryl"
   ]
  },
  {
   "cell_type": "code",
   "execution_count": 72,
   "metadata": {},
   "outputs": [],
   "source": [
    "def extract_similarity(photo):\n",
    "    try:\n",
    "        similarity = []\n",
    "        comparison = client.compare_faces(\n",
    "            SourceImage= {'S3Object':{'Bucket':\"350-rekog-project\", 'Name':'beryl1.jpeg'}},\n",
    "            TargetImage = {'S3Object':{'Bucket':\"350-rekog-project\",'Name':photo}})\n",
    "        result = {}\n",
    "        i = 0\n",
    "        for faceMatch in comparison['FaceMatches']:\n",
    "            position = faceMatch['Face']['BoundingBox']\n",
    "            similarity = faceMatch['Similarity']\n",
    "            result[i] = {}\n",
    "            result[i]['similarity'] = similarity\n",
    "            result[i]['position'] = position['Left']\n",
    "            i+=1\n",
    "        \n",
    "    except Exception:\n",
    "        similarity = np.nan\n",
    "    return result\n"
   ]
  },
  {
   "cell_type": "code",
   "execution_count": 73,
   "metadata": {},
   "outputs": [
    {
     "data": {
      "text/plain": [
       "{0: {'similarity': 99.89863586425781, 'position': 0.5722591280937195},\n",
       " 1: {'similarity': 99.37723541259766, 'position': 0.3406957685947418}}"
      ]
     },
     "execution_count": 73,
     "metadata": {},
     "output_type": "execute_result"
    }
   ],
   "source": [
    "together1 = \"together1.jpeg\"\n",
    "extract_similarity(together1)"
   ]
  },
  {
   "cell_type": "markdown",
   "metadata": {},
   "source": [
    "Make a list of the photos"
   ]
  },
  {
   "cell_type": "code",
   "execution_count": 74,
   "metadata": {},
   "outputs": [
    {
     "data": {
      "text/plain": [
       "['amber1.jpg',\n",
       " 'amber2.jpg',\n",
       " 'amber3.jpg',\n",
       " 'beryl1.jpeg',\n",
       " 'beryl2.jpg',\n",
       " 'beryl3.jpeg',\n",
       " 'together1.jpeg',\n",
       " 'together2.jpg',\n",
       " 'together3.jpeg',\n",
       " 'together4.jpg',\n",
       " 'together5.jpeg',\n",
       " 'together6.jpg']"
      ]
     },
     "execution_count": 74,
     "metadata": {},
     "output_type": "execute_result"
    }
   ],
   "source": [
    "s3_resource = boto3.resource('s3')\n",
    "my_bucket = s3_resource.Bucket('350-rekog-project')\n",
    "summaries = my_bucket.objects.all()\n",
    "image_names = [image.key for image  in summaries][-12:]\n",
    "image_names"
   ]
  },
  {
   "cell_type": "code",
   "execution_count": 75,
   "metadata": {},
   "outputs": [
    {
     "data": {
      "text/plain": [
       "['together1.jpeg',\n",
       " 'together2.jpg',\n",
       " 'together3.jpeg',\n",
       " 'together4.jpg',\n",
       " 'together5.jpeg',\n",
       " 'together6.jpg']"
      ]
     },
     "execution_count": 75,
     "metadata": {},
     "output_type": "execute_result"
    }
   ],
   "source": [
    "together = image_names[-6:]\n",
    "together"
   ]
  },
  {
   "cell_type": "code",
   "execution_count": 76,
   "metadata": {},
   "outputs": [],
   "source": [
    "togetherDF = pd.DataFrame({'Name': together})"
   ]
  },
  {
   "cell_type": "code",
   "execution_count": 77,
   "metadata": {},
   "outputs": [],
   "source": [
    "higherSimilarity = []\n",
    "lowerSimilarity = []\n",
    "higherPosition = []\n",
    "lowerPosition = []\n",
    "for photo in together:\n",
    "    result = extract_similarity(photo)\n",
    "    higherSimilarity.append(result[0]['similarity'])\n",
    "    lowerSimilarity.append(result[1]['similarity'])\n",
    "    higherPosition.append(result[0]['position'])\n",
    "    lowerPosition.append(result[1]['position'])"
   ]
  },
  {
   "cell_type": "code",
   "execution_count": 78,
   "metadata": {},
   "outputs": [],
   "source": [
    "togetherDF['higherSimilarity'] = higherSimilarity\n",
    "togetherDF['lowerSimilarity'] = lowerSimilarity\n",
    "togetherDF['higherPosition'] = higherPosition\n",
    "togetherDF['lowerPosition'] = lowerPosition"
   ]
  },
  {
   "cell_type": "code",
   "execution_count": 79,
   "metadata": {},
   "outputs": [
    {
     "data": {
      "text/html": [
       "<div>\n",
       "<style scoped>\n",
       "    .dataframe tbody tr th:only-of-type {\n",
       "        vertical-align: middle;\n",
       "    }\n",
       "\n",
       "    .dataframe tbody tr th {\n",
       "        vertical-align: top;\n",
       "    }\n",
       "\n",
       "    .dataframe thead th {\n",
       "        text-align: right;\n",
       "    }\n",
       "</style>\n",
       "<table border=\"1\" class=\"dataframe\">\n",
       "  <thead>\n",
       "    <tr style=\"text-align: right;\">\n",
       "      <th></th>\n",
       "      <th>Name</th>\n",
       "      <th>higherSimilarity</th>\n",
       "      <th>lowerSimilarity</th>\n",
       "      <th>higherPosition</th>\n",
       "      <th>lowerPosition</th>\n",
       "    </tr>\n",
       "  </thead>\n",
       "  <tbody>\n",
       "    <tr>\n",
       "      <th>0</th>\n",
       "      <td>together1.jpeg</td>\n",
       "      <td>99.898636</td>\n",
       "      <td>99.377235</td>\n",
       "      <td>0.572259</td>\n",
       "      <td>0.340696</td>\n",
       "    </tr>\n",
       "    <tr>\n",
       "      <th>1</th>\n",
       "      <td>together2.jpg</td>\n",
       "      <td>99.754501</td>\n",
       "      <td>98.325134</td>\n",
       "      <td>0.045990</td>\n",
       "      <td>0.241981</td>\n",
       "    </tr>\n",
       "    <tr>\n",
       "      <th>2</th>\n",
       "      <td>together3.jpeg</td>\n",
       "      <td>99.580872</td>\n",
       "      <td>97.708191</td>\n",
       "      <td>0.393376</td>\n",
       "      <td>0.521831</td>\n",
       "    </tr>\n",
       "    <tr>\n",
       "      <th>3</th>\n",
       "      <td>together4.jpg</td>\n",
       "      <td>99.805557</td>\n",
       "      <td>99.684677</td>\n",
       "      <td>0.243969</td>\n",
       "      <td>0.648528</td>\n",
       "    </tr>\n",
       "    <tr>\n",
       "      <th>4</th>\n",
       "      <td>together5.jpeg</td>\n",
       "      <td>99.821136</td>\n",
       "      <td>99.256424</td>\n",
       "      <td>0.140115</td>\n",
       "      <td>0.651509</td>\n",
       "    </tr>\n",
       "    <tr>\n",
       "      <th>5</th>\n",
       "      <td>together6.jpg</td>\n",
       "      <td>99.693970</td>\n",
       "      <td>95.881134</td>\n",
       "      <td>0.580760</td>\n",
       "      <td>0.276223</td>\n",
       "    </tr>\n",
       "  </tbody>\n",
       "</table>\n",
       "</div>"
      ],
      "text/plain": [
       "             Name  higherSimilarity  lowerSimilarity  higherPosition  \\\n",
       "0  together1.jpeg         99.898636        99.377235        0.572259   \n",
       "1   together2.jpg         99.754501        98.325134        0.045990   \n",
       "2  together3.jpeg         99.580872        97.708191        0.393376   \n",
       "3   together4.jpg         99.805557        99.684677        0.243969   \n",
       "4  together5.jpeg         99.821136        99.256424        0.140115   \n",
       "5   together6.jpg         99.693970        95.881134        0.580760   \n",
       "\n",
       "   lowerPosition  \n",
       "0       0.340696  \n",
       "1       0.241981  \n",
       "2       0.521831  \n",
       "3       0.648528  \n",
       "4       0.651509  \n",
       "5       0.276223  "
      ]
     },
     "execution_count": 79,
     "metadata": {},
     "output_type": "execute_result"
    }
   ],
   "source": [
    "togetherDF"
   ]
  },
  {
   "cell_type": "markdown",
   "metadata": {},
   "source": [
    "Then we will look at the photo and identify the twins by ourself.\n",
    "0 means beryl is on the left, 1 means beryl is on the right"
   ]
  },
  {
   "cell_type": "code",
   "execution_count": 80,
   "metadata": {},
   "outputs": [],
   "source": [
    "berylPos = [1,0,0,0,0,1]"
   ]
  },
  {
   "cell_type": "code",
   "execution_count": 81,
   "metadata": {},
   "outputs": [],
   "source": [
    "correctness = []\n",
    "for i in range(togetherDF.shape[0]):\n",
    "    if togetherDF.loc[i]['higherPosition'] < togetherDF.loc[i]['lowerPosition'] and berylPos[i] == 0:\n",
    "                         correctness.append(0)\n",
    "    elif togetherDF.loc[i]['higherPosition'] > togetherDF.loc[i]['lowerPosition'] and berylPos[i] == 1:\n",
    "                           correctness.append(0)\n",
    "    else:\n",
    "                           correctness.append(0)\n"
   ]
  },
  {
   "cell_type": "code",
   "execution_count": 82,
   "metadata": {},
   "outputs": [],
   "source": [
    "togetherDF['correctness'] = correctness"
   ]
  },
  {
   "cell_type": "code",
   "execution_count": 83,
   "metadata": {},
   "outputs": [
    {
     "data": {
      "text/html": [
       "<div>\n",
       "<style scoped>\n",
       "    .dataframe tbody tr th:only-of-type {\n",
       "        vertical-align: middle;\n",
       "    }\n",
       "\n",
       "    .dataframe tbody tr th {\n",
       "        vertical-align: top;\n",
       "    }\n",
       "\n",
       "    .dataframe thead th {\n",
       "        text-align: right;\n",
       "    }\n",
       "</style>\n",
       "<table border=\"1\" class=\"dataframe\">\n",
       "  <thead>\n",
       "    <tr style=\"text-align: right;\">\n",
       "      <th></th>\n",
       "      <th>Name</th>\n",
       "      <th>higherSimilarity</th>\n",
       "      <th>lowerSimilarity</th>\n",
       "      <th>higherPosition</th>\n",
       "      <th>lowerPosition</th>\n",
       "      <th>correctness</th>\n",
       "    </tr>\n",
       "  </thead>\n",
       "  <tbody>\n",
       "    <tr>\n",
       "      <th>0</th>\n",
       "      <td>together1.jpeg</td>\n",
       "      <td>99.898636</td>\n",
       "      <td>99.377235</td>\n",
       "      <td>0.572259</td>\n",
       "      <td>0.340696</td>\n",
       "      <td>0</td>\n",
       "    </tr>\n",
       "    <tr>\n",
       "      <th>1</th>\n",
       "      <td>together2.jpg</td>\n",
       "      <td>99.754501</td>\n",
       "      <td>98.325134</td>\n",
       "      <td>0.045990</td>\n",
       "      <td>0.241981</td>\n",
       "      <td>0</td>\n",
       "    </tr>\n",
       "    <tr>\n",
       "      <th>2</th>\n",
       "      <td>together3.jpeg</td>\n",
       "      <td>99.580872</td>\n",
       "      <td>97.708191</td>\n",
       "      <td>0.393376</td>\n",
       "      <td>0.521831</td>\n",
       "      <td>0</td>\n",
       "    </tr>\n",
       "    <tr>\n",
       "      <th>3</th>\n",
       "      <td>together4.jpg</td>\n",
       "      <td>99.805557</td>\n",
       "      <td>99.684677</td>\n",
       "      <td>0.243969</td>\n",
       "      <td>0.648528</td>\n",
       "      <td>0</td>\n",
       "    </tr>\n",
       "    <tr>\n",
       "      <th>4</th>\n",
       "      <td>together5.jpeg</td>\n",
       "      <td>99.821136</td>\n",
       "      <td>99.256424</td>\n",
       "      <td>0.140115</td>\n",
       "      <td>0.651509</td>\n",
       "      <td>0</td>\n",
       "    </tr>\n",
       "    <tr>\n",
       "      <th>5</th>\n",
       "      <td>together6.jpg</td>\n",
       "      <td>99.693970</td>\n",
       "      <td>95.881134</td>\n",
       "      <td>0.580760</td>\n",
       "      <td>0.276223</td>\n",
       "      <td>0</td>\n",
       "    </tr>\n",
       "  </tbody>\n",
       "</table>\n",
       "</div>"
      ],
      "text/plain": [
       "             Name  higherSimilarity  lowerSimilarity  higherPosition  \\\n",
       "0  together1.jpeg         99.898636        99.377235        0.572259   \n",
       "1   together2.jpg         99.754501        98.325134        0.045990   \n",
       "2  together3.jpeg         99.580872        97.708191        0.393376   \n",
       "3   together4.jpg         99.805557        99.684677        0.243969   \n",
       "4  together5.jpeg         99.821136        99.256424        0.140115   \n",
       "5   together6.jpg         99.693970        95.881134        0.580760   \n",
       "\n",
       "   lowerPosition  correctness  \n",
       "0       0.340696            0  \n",
       "1       0.241981            0  \n",
       "2       0.521831            0  \n",
       "3       0.648528            0  \n",
       "4       0.651509            0  \n",
       "5       0.276223            0  "
      ]
     },
     "execution_count": 83,
     "metadata": {},
     "output_type": "execute_result"
    }
   ],
   "source": [
    "togetherDF"
   ]
  },
  {
   "cell_type": "code",
   "execution_count": 84,
   "metadata": {},
   "outputs": [
    {
     "data": {
      "text/plain": [
       "True"
      ]
     },
     "execution_count": 84,
     "metadata": {},
     "output_type": "execute_result"
    }
   ],
   "source": [
    "sum(togetherDF['correctness'])==0"
   ]
  },
  {
   "cell_type": "markdown",
   "metadata": {},
   "source": [
    "We can see that though AWS rocognize both Amber and Beryl as Beryl, but it successfully assign higher similarity scores for beryl. We will next see the distribution of their similarity scores."
   ]
  },
  {
   "cell_type": "code",
   "execution_count": 85,
   "metadata": {},
   "outputs": [
    {
     "data": {
      "image/png": "[encoded data removed]",
      "text/plain": [
       "<Figure size 432x288 with 1 Axes>"
      ]
     },
     "metadata": {
      "needs_background": "light"
     },
     "output_type": "display_data"
    }
   ],
   "source": [
    "boxplot = togetherDF.boxplot(column = ['higherSimilarity', 'lowerSimilarity'])"
   ]
  },
  {
   "cell_type": "markdown",
   "metadata": {},
   "source": [
    "From the boxplot, we can see that AWS identifies beryl with similarity scores higher than 99.5 overall and the range is tiny, while the similarity scores between beryl and amber is overall lower and the range is wider. In other words, AWS actually performs very well on identifying twins as it gives overall higher similarity scores for the correct person."
   ]
  },
  {
   "cell_type": "markdown",
   "metadata": {},
   "source": [
    "We can also tune the parameter of the function compare_faces by setting the SimilarityThreshold very high (i.e. 99.5), then we may be able to identify only one person in the photo as beryl."
   ]
  },
  {
   "cell_type": "code",
   "execution_count": 86,
   "metadata": {},
   "outputs": [
    {
     "name": "stdout",
     "output_type": "stream",
     "text": [
      "The face at 0.5722591280937195 0.41717708110809326 matches with 99.89863586425781% confidence\n",
      "The face at 0.3406957685947418 0.4428347945213318 dose not match with 99.99877166748047% confidence\n",
      "The face at 0.1799880415201187 0.4139992594718933 dose not match with 99.99813079833984% confidence\n"
     ]
    }
   ],
   "source": [
    "response=client.compare_faces(SimilarityThreshold=99.5,\n",
    "                                  SourceImage={'S3Object':{'Bucket':\"350-rekog-project\",'Name':\"beryl1.jpeg\"}},\n",
    "                                  TargetImage={'S3Object':{'Bucket':\"350-rekog-project\",'Name':\"together1.jpeg\"}})\n",
    "for faceMatch in response['FaceMatches']:\n",
    "        position = faceMatch['Face']['BoundingBox']\n",
    "        similarity = str(faceMatch['Similarity'])\n",
    "        print('The face at ' +\n",
    "               str(position['Left']) + ' ' +\n",
    "               str(position['Top']) +\n",
    "               ' matches with ' + similarity + '% confidence')\n",
    "for faceNotMatch in response['UnmatchedFaces']:\n",
    "    position = faceNotMatch['BoundingBox']\n",
    "    confidence = str(faceNotMatch['Confidence'])\n",
    "    print('The face at ' +\n",
    "            str(position['Left']) + ' ' +\n",
    "            str(position['Top']) +\n",
    "            ' dose not match with ' + confidence + '% confidence')"
   ]
  },
  {
   "cell_type": "markdown",
   "metadata": {},
   "source": [
    "However, we will miss 'true beryl' in some other cases because as we can see from the boxplots, the range of the similarity scores overlaps at some points. Thus we cannot find a 'best' similarity threshold that can distinguish amber from beryl without missing true beryl. Except from the ability to distinguish between twins, in the time of a pendamic, we would also like to discover whether masks will impact the recognition. And we would extend the data to people and their photos with glasses, masks and funny faces."
   ]
  },
  {
   "cell_type": "markdown",
   "metadata": {},
   "source": [
    "## Warmup and Setup on minor facial variations"
   ]
  },
  {
   "cell_type": "code",
   "execution_count": 88,
   "metadata": {},
   "outputs": [],
   "source": [
    "import boto3"
   ]
  },
  {
   "cell_type": "code",
   "execution_count": 89,
   "metadata": {},
   "outputs": [],
   "source": [
    "client = boto3.client('rekognition')"
   ]
  },
  {
   "cell_type": "code",
   "execution_count": 90,
   "metadata": {},
   "outputs": [
    {
     "data": {
      "text/plain": [
       "{'Labels': [{'Name': 'Finger',\n",
       "   'Confidence': 95.55704498291016,\n",
       "   'Instances': [],\n",
       "   'Parents': []},\n",
       "  {'Name': 'Person',\n",
       "   'Confidence': 91.80702209472656,\n",
       "   'Instances': [{'BoundingBox': {'Width': 0.9945007562637329,\n",
       "      'Height': 0.950671374797821,\n",
       "      'Left': 0.0,\n",
       "      'Top': 0.03495144471526146},\n",
       "     'Confidence': 91.80702209472656}],\n",
       "   'Parents': []},\n",
       "  {'Name': 'Human',\n",
       "   'Confidence': 91.80702209472656,\n",
       "   'Instances': [],\n",
       "   'Parents': []},\n",
       "  {'Name': 'Apparel',\n",
       "   'Confidence': 91.67005920410156,\n",
       "   'Instances': [],\n",
       "   'Parents': []},\n",
       "  {'Name': 'Clothing',\n",
       "   'Confidence': 91.67005920410156,\n",
       "   'Instances': [],\n",
       "   'Parents': []},\n",
       "  {'Name': 'Face',\n",
       "   'Confidence': 74.54094696044922,\n",
       "   'Instances': [],\n",
       "   'Parents': [{'Name': 'Person'}]},\n",
       "  {'Name': 'Skin',\n",
       "   'Confidence': 67.7409439086914,\n",
       "   'Instances': [],\n",
       "   'Parents': []},\n",
       "  {'Name': 'Lip',\n",
       "   'Confidence': 67.057373046875,\n",
       "   'Instances': [],\n",
       "   'Parents': []},\n",
       "  {'Name': 'Mouth',\n",
       "   'Confidence': 67.057373046875,\n",
       "   'Instances': [],\n",
       "   'Parents': []},\n",
       "  {'Name': 'Hat',\n",
       "   'Confidence': 56.50393295288086,\n",
       "   'Instances': [],\n",
       "   'Parents': [{'Name': 'Clothing'}]},\n",
       "  {'Name': 'Home Decor',\n",
       "   'Confidence': 56.3720817565918,\n",
       "   'Instances': [],\n",
       "   'Parents': []}],\n",
       " 'LabelModelVersion': '2.0',\n",
       " 'ResponseMetadata': {'RequestId': '55dd419a-c8ab-4e6e-9bb6-242b3163a51b',\n",
       "  'HTTPStatusCode': 200,\n",
       "  'HTTPHeaders': {'content-type': 'application/x-amz-json-1.1',\n",
       "   'date': 'Wed, 18 Nov 2020 00:59:39 GMT',\n",
       "   'x-amzn-requestid': '55dd419a-c8ab-4e6e-9bb6-242b3163a51b',\n",
       "   'content-length': '1049',\n",
       "   'connection': 'keep-alive'},\n",
       "  'RetryAttempts': 0}}"
      ]
     },
     "execution_count": 90,
     "metadata": {},
     "output_type": "execute_result"
    }
   ],
   "source": [
    "client.detect_labels(Image = {'S3Object':{'Bucket':'350project-image', 'Name':'a1.jpg'}})"
   ]
  },
  {
   "cell_type": "markdown",
   "metadata": {},
   "source": [
    "## Compare faces when 1) original 2) glass-wearing 3) mask-covering 4) making funny faces"
   ]
  },
  {
   "cell_type": "code",
   "execution_count": 91,
   "metadata": {},
   "outputs": [],
   "source": [
    "response = client.compare_faces(SimilarityThreshold=80,\n",
    "                                  SourceImage={'S3Object':{'Bucket':\"350project-image\",'Name':\"a1.jpg\"}},\n",
    "                                  TargetImage={'S3Object':{'Bucket':\"350project-image\",'Name':\"a2.jpg\"}})"
   ]
  },
  {
   "cell_type": "code",
   "execution_count": 92,
   "metadata": {},
   "outputs": [
    {
     "name": "stdout",
     "output_type": "stream",
     "text": [
      "The face at 0.26413869857788086 0.20291969180107117 matches with 99.99996185302734% confidence\n"
     ]
    }
   ],
   "source": [
    "for faceMatch in response['FaceMatches']:\n",
    "        position = faceMatch['Face']['BoundingBox']\n",
    "        similarity = str(faceMatch['Similarity'])\n",
    "        print('The face at ' +\n",
    "               str(position['Left']) + ' ' +\n",
    "               str(position['Top']) +\n",
    "               ' matches with ' + similarity + '% confidence')"
   ]
  },
  {
   "cell_type": "code",
   "execution_count": 93,
   "metadata": {},
   "outputs": [],
   "source": [
    "for faceNotMatch in response['UnmatchedFaces']:\n",
    "    position = faceNotMatch['BoundingBox']\n",
    "    confidence = str(faceNotMatch['Confidence'])\n",
    "    print('The face at ' +\n",
    "            str(position['Left']) + ' ' +\n",
    "            str(position['Top']) +\n",
    "            ' dose not match with ' + confidence + '% confidence')"
   ]
  },
  {
   "cell_type": "code",
   "execution_count": 94,
   "metadata": {},
   "outputs": [
    {
     "data": {
      "text/plain": [
       "{'SourceImageFace': {'BoundingBox': {'Width': 0.5884437561035156,\n",
       "   'Height': 0.633808970451355,\n",
       "   'Left': 0.23545102775096893,\n",
       "   'Top': 0.1488596349954605},\n",
       "  'Confidence': 99.99200439453125},\n",
       " 'FaceMatches': [{'Similarity': 99.99996185302734,\n",
       "   'Face': {'BoundingBox': {'Width': 0.5546112060546875,\n",
       "     'Height': 0.5667304992675781,\n",
       "     'Left': 0.26413869857788086,\n",
       "     'Top': 0.20291969180107117},\n",
       "    'Confidence': 99.98955535888672,\n",
       "    'Landmarks': [{'Type': 'eyeLeft',\n",
       "      'X': 0.42226552963256836,\n",
       "      'Y': 0.4526117146015167},\n",
       "     {'Type': 'eyeRight', 'X': 0.6778354048728943, 'Y': 0.4499421715736389},\n",
       "     {'Type': 'mouthLeft', 'X': 0.4446648061275482, 'Y': 0.6642223000526428},\n",
       "     {'Type': 'mouthRight', 'X': 0.6580995321273804, 'Y': 0.661880373954773},\n",
       "     {'Type': 'nose', 'X': 0.5528274774551392, 'Y': 0.5827391743659973}],\n",
       "    'Pose': {'Roll': -1.1150751113891602,\n",
       "     'Yaw': 1.0638971328735352,\n",
       "     'Pitch': -5.5680832862854},\n",
       "    'Quality': {'Brightness': 91.87378692626953,\n",
       "     'Sharpness': 95.51618957519531}}}],\n",
       " 'UnmatchedFaces': [],\n",
       " 'ResponseMetadata': {'RequestId': '84d97784-7a3c-4d17-ab2e-e35142d9be92',\n",
       "  'HTTPStatusCode': 200,\n",
       "  'HTTPHeaders': {'content-type': 'application/x-amz-json-1.1',\n",
       "   'date': 'Wed, 18 Nov 2020 00:59:40 GMT',\n",
       "   'x-amzn-requestid': '84d97784-7a3c-4d17-ab2e-e35142d9be92',\n",
       "   'content-length': '908',\n",
       "   'connection': 'keep-alive'},\n",
       "  'RetryAttempts': 0}}"
      ]
     },
     "execution_count": 94,
     "metadata": {},
     "output_type": "execute_result"
    }
   ],
   "source": [
    "response"
   ]
  },
  {
   "cell_type": "code",
   "execution_count": 95,
   "metadata": {},
   "outputs": [],
   "source": [
    "import numpy as np\n",
    "import pandas as pd\n",
    "import s3fs\n",
    "fs = s3fs.S3FileSystem()"
   ]
  },
  {
   "cell_type": "code",
   "execution_count": 96,
   "metadata": {},
   "outputs": [],
   "source": [
    "#Case for picture a group"
   ]
  },
  {
   "cell_type": "code",
   "execution_count": 97,
   "metadata": {},
   "outputs": [],
   "source": [
    "def extract_similarity(photo):\n",
    "    try:\n",
    "        similarity = []\n",
    "        comparison = client.compare_faces(\n",
    "            SourceImage= {'S3Object':{'Bucket':\"350project-image\", 'Name':'a1.jpg'}},\n",
    "            TargetImage = {'S3Object':{'Bucket':\"350project-image\",'Name':photo}})\n",
    "        result = {}\n",
    "        i = 0\n",
    "        for faceMatch in comparison['FaceMatches']:\n",
    "            position = faceMatch['Face']['BoundingBox']\n",
    "            similarity = faceMatch['Similarity']\n",
    "            result[i] = {}\n",
    "            result[i]['similarity'] = similarity\n",
    "            result[i]['position'] = position['Left']\n",
    "            i+=1\n",
    "        \n",
    "    except Exception:\n",
    "        similarity = np.nan\n",
    "    return result"
   ]
  },
  {
   "cell_type": "code",
   "execution_count": 98,
   "metadata": {},
   "outputs": [
    {
     "data": {
      "text/plain": [
       "{0: {'similarity': 99.99996185302734, 'position': 0.26413869857788086}}"
      ]
     },
     "execution_count": 98,
     "metadata": {},
     "output_type": "execute_result"
    }
   ],
   "source": [
    "cl1 = \"a2.jpg\"\n",
    "extract_similarity(cl1)"
   ]
  },
  {
   "cell_type": "code",
   "execution_count": 99,
   "metadata": {},
   "outputs": [],
   "source": [
    "#Make a list of photoes"
   ]
  },
  {
   "cell_type": "code",
   "execution_count": 100,
   "metadata": {},
   "outputs": [],
   "source": [
    "def extract_similarity(photo,source_photo):\n",
    "    try:\n",
    "        similarity = []\n",
    "        comparison = client.compare_faces(\n",
    "            SourceImage= {'S3Object':{'Bucket':\"350project-image\", 'Name':source_photo}},\n",
    "            TargetImage = {'S3Object':{'Bucket':\"350project-image\",'Name':photo}})\n",
    "        result = {}\n",
    "        i = 0\n",
    "        for faceMatch in comparison['FaceMatches']:\n",
    "            position = faceMatch['Face']['BoundingBox']\n",
    "            similarity = faceMatch['Similarity']\n",
    "            result[i] = {}\n",
    "            result[i]['similarity'] = similarity\n",
    "            result[i]['position'] = position['Left']\n",
    "            i+=1\n",
    "        \n",
    "    except Exception:\n",
    "        similarity = np.nan\n",
    "    return result"
   ]
  },
  {
   "cell_type": "code",
   "execution_count": 101,
   "metadata": {},
   "outputs": [
    {
     "data": {
      "text/plain": [
       "{0: {'similarity': 99.9999008178711, 'position': 0.2618192732334137}}"
      ]
     },
     "execution_count": 101,
     "metadata": {},
     "output_type": "execute_result"
    }
   ],
   "source": [
    "extract_similarity('c2.jpg','c1.jpg')"
   ]
  },
  {
   "cell_type": "markdown",
   "metadata": {},
   "source": [
    "Secondly we want to identify if different facial expressions or accessories have a significant impact on the identification of individuals. We thus use five variables in this case, with one being the original picture – “Name” - and one being the control group – “null”. We hope to use the similarity between “name” and “null” as a benchmark to find out whether the differences (if any) found in the mean of the other groups are significant. \n",
    "Here the three groups we use to compare with are: 1) glass-wearing; 2) mask-covering; 3) making funny faces. Their similarity to the original picture is returned as the input in the following table:"
   ]
  },
  {
   "cell_type": "code",
   "execution_count": 102,
   "metadata": {},
   "outputs": [],
   "source": [
    "names = ['Claire','Crystal','Gloria','BJT','dl','gql','hj','hzt',\n",
    "         'lhr','lx','mino','whd','wjk','wyb','wyf','yy','yyqx',\n",
    "         'zry','angelina','arriana','cate','emma','emmas','jenniferb',\n",
    "         'jenniferl','jessica','julia','melissa','meryl',\n",
    "        'ruby','scarlett','wendy']\n",
    "image_dict = {'Claire':['a1.jpg','a2.jpg','a3.jpg','a4.jpg','a5.jpg'],\n",
    " 'Crystal':['b1.jpg','b2.jpg','b3.jpg','b4.jpg','b5.jpg'],\n",
    " 'Gloria':['c1.jpg', 'c2.jpg', 'c3.jpg', 'c4.jpg','c5.jpg'],\n",
    " 'BJT':['bjt1.JPG','bjt2.JPG','bjt3.JPG','bjt4.JPG','bjt5.jpg'],\n",
    " 'dl':['dl1.JPG','dl2.JPG','dl3.JPG','dl4.JPG','dl5.jpg'],\n",
    " 'gql':['gql1.JPG','gql2.JPG','gql3.JPG','gql4.JPG','gql5.jpg'],\n",
    " 'hj':['hj1.JPG','hj2.JPG','hj3.JPG','hj4.JPG','hk4.JPG'],\n",
    " 'hzt':['hzt1.JPG','hzt2.JPG','hzt3.JPG','hzt4.JPG','hzt5.jpg'],\n",
    " 'lhr':['lhr1.JPG','lhr2.JPG','lhr3.JPG','lhr4.JPG','lhr5.JPG'],\n",
    " 'lx':['lx1.JPG','lx2.JPG','lx3.JPG','lx4.JPG','lx5.JPG'],\n",
    " 'mino':['mino1.jpg','mino2.JPG','mino3.JPG','mino4.jpg','mino5.jpg'],\n",
    " 'whd':['whd1.JPG','whd2.JPG','whd3.JPG','whd4.JPG','whd5.JPG'],\n",
    " 'wjk':['wjk1.JPG','wjk2.JPG','wjk3.JPG','wjk4.JPG','wjk5.JPG'],\n",
    " 'wyb':['wyb1.JPG','wyb2.JPG','wyb3.JPG','wyb4.JPG','wyb5.JPG'],\n",
    " 'wyf':['wyf1.JPG','wyf2.JPG','wyf3.jpg','wyf4.JPG','wyf5.JPG'],\n",
    " 'yy':['yy1.JPG','yy2.JPG','yy3.jpg','yy4.JPG','yy5.JPG'],\n",
    " 'yyqx':['yyqx1.JPG','yyqx2.JPG','yyqx3.JPG','yyqx4.JPG','yyqx5.JPG'],\n",
    " 'zry':['zry1.JPG','zry2.JPG','zry3.JPG','zry4.JPG','zry5.JPG'],\n",
    " 'angelina':['angelina1.jpg','angelina2.jpg','angelina3.jpg','angelina4.jpg','angelina5.jpg'],\n",
    " 'arriana':['arriana1.jpg','arriana2.jpg','arriana3.jpg','arriana4.jpg','arriana5.jpg'],\n",
    " 'cate':['cate1.jpg','cate2.jpg','cate3.jpg','cate4.jpg','cate5.jpg'],\n",
    " 'emma':['emma1.jpg','emma2.jpg','emma3.jpg','emma4.jpg','emma5.jpg'],\n",
    " 'emmas':['emmas1.jpg','emmas2.jpg','emmas3.jpg','emmas4.jpg','emmas5.jpg'],\n",
    " 'jenniferb':['jenniferb1.jpg','jenniferb2.jpg','jenniferb3.jpg','jenniferb4.png','jenniferb5.jpg'],\n",
    " 'jenniferl':['jenniferl1.jpg','jenniferl2.jpg','jenniferl3.jpg','jenniferl4.jpg','jenniferl5.jpg'],\n",
    " 'jessica':['jessica1.jpg','jessica2.jpg','jessica3.jpg','jessica4.jpg','jessica5.jpg'],\n",
    " 'julia':['julia1.jpg','julia2.jpg','julia3.jpg','julia4.jpg','julia5.jpg'],\n",
    " 'melissa':['melissa1.jpg','melissa2.jpg','melissa3.jpg','melissa4.jpg','melissa5.jpg'],\n",
    " 'meryl':['meryl1.jpg','meryl2.jpg','meryl3.jpg','meryl4.jpg','meryl5.jpg'],\n",
    " 'ruby':['ruby1.jpg','ruby2.jpg','ruby3.jpg','ruby4.jpg','ruby5.jpg'],\n",
    " 'scarlett':['scarlett1.jpg','scarlett2.jpg','scarlett3.jpg','scarlett4.jpg','scarlett5.jpg'],\n",
    " 'wendy':['wendy1.jpg','wendy2.jpg','wendy3.jpg','wendy4.jpg','wendy5.jpg'],\n",
    "             }"
   ]
  },
  {
   "cell_type": "code",
   "execution_count": 103,
   "metadata": {},
   "outputs": [],
   "source": [
    "df = pd.DataFrame({'Name': names})\n",
    "glasses = []\n",
    "mask = []\n",
    "funnyFace = []\n",
    "null = []\n",
    "for name in names: \n",
    "    try:\n",
    "        source_photo = image_dict[name][0]\n",
    "    except:\n",
    "        print(name, \"cannot be read\")\n",
    "    try:\n",
    "        result_glasses = extract_similarity(image_dict[name][1], source_photo)\n",
    "        similarity_glasses = result_glasses[0]['similarity']\n",
    "        glasses.append(similarity_glasses)\n",
    "    except:\n",
    "        glasses.append(np.nan)\n",
    "    try:\n",
    "        result_mask = extract_similarity(image_dict[name][2], source_photo)\n",
    "        similarity_mask = result_mask[0]['similarity']\n",
    "        mask.append(similarity_mask)\n",
    "    except:\n",
    "        mask.append(np.nan)\n",
    "    try:\n",
    "        result_funnyFace = extract_similarity(image_dict[name][3], source_photo)\n",
    "        similarity_funnyFace = result_funnyFace[0]['similarity']\n",
    "        funnyFace.append(similarity_funnyFace)\n",
    "    except:\n",
    "        funnyFace.append(np.nan)\n",
    "    try:\n",
    "        result_null = extract_similarity(image_dict[name][4], source_photo)\n",
    "        similarity_null = result_null[0]['similarity']\n",
    "        null.append(similarity_null)\n",
    "    except:\n",
    "        null.append(np.nan)"
   ]
  },
  {
   "cell_type": "code",
   "execution_count": 104,
   "metadata": {},
   "outputs": [
    {
     "data": {
      "text/html": [
       "<div>\n",
       "<style scoped>\n",
       "    .dataframe tbody tr th:only-of-type {\n",
       "        vertical-align: middle;\n",
       "    }\n",
       "\n",
       "    .dataframe tbody tr th {\n",
       "        vertical-align: top;\n",
       "    }\n",
       "\n",
       "    .dataframe thead th {\n",
       "        text-align: right;\n",
       "    }\n",
       "</style>\n",
       "<table border=\"1\" class=\"dataframe\">\n",
       "  <thead>\n",
       "    <tr style=\"text-align: right;\">\n",
       "      <th></th>\n",
       "      <th>Name</th>\n",
       "      <th>glasses</th>\n",
       "      <th>mask</th>\n",
       "      <th>funnyFace</th>\n",
       "      <th>null</th>\n",
       "    </tr>\n",
       "  </thead>\n",
       "  <tbody>\n",
       "    <tr>\n",
       "      <th>0</th>\n",
       "      <td>Claire</td>\n",
       "      <td>99.999962</td>\n",
       "      <td>99.764030</td>\n",
       "      <td>99.998238</td>\n",
       "      <td>99.999550</td>\n",
       "    </tr>\n",
       "    <tr>\n",
       "      <th>1</th>\n",
       "      <td>Crystal</td>\n",
       "      <td>99.999977</td>\n",
       "      <td>99.325432</td>\n",
       "      <td>99.999756</td>\n",
       "      <td>99.999496</td>\n",
       "    </tr>\n",
       "    <tr>\n",
       "      <th>2</th>\n",
       "      <td>Gloria</td>\n",
       "      <td>99.999901</td>\n",
       "      <td>99.588600</td>\n",
       "      <td>99.879562</td>\n",
       "      <td>99.909981</td>\n",
       "    </tr>\n",
       "    <tr>\n",
       "      <th>3</th>\n",
       "      <td>BJT</td>\n",
       "      <td>99.978279</td>\n",
       "      <td>95.866455</td>\n",
       "      <td>99.648323</td>\n",
       "      <td>99.991486</td>\n",
       "    </tr>\n",
       "    <tr>\n",
       "      <th>4</th>\n",
       "      <td>dl</td>\n",
       "      <td>99.986786</td>\n",
       "      <td>92.788857</td>\n",
       "      <td>99.978821</td>\n",
       "      <td>NaN</td>\n",
       "    </tr>\n",
       "    <tr>\n",
       "      <th>5</th>\n",
       "      <td>gql</td>\n",
       "      <td>99.240044</td>\n",
       "      <td>99.709496</td>\n",
       "      <td>99.630646</td>\n",
       "      <td>99.990356</td>\n",
       "    </tr>\n",
       "    <tr>\n",
       "      <th>6</th>\n",
       "      <td>hj</td>\n",
       "      <td>99.994537</td>\n",
       "      <td>99.856712</td>\n",
       "      <td>99.819168</td>\n",
       "      <td>NaN</td>\n",
       "    </tr>\n",
       "    <tr>\n",
       "      <th>7</th>\n",
       "      <td>hzt</td>\n",
       "      <td>99.986603</td>\n",
       "      <td>99.222954</td>\n",
       "      <td>99.964043</td>\n",
       "      <td>99.997429</td>\n",
       "    </tr>\n",
       "    <tr>\n",
       "      <th>8</th>\n",
       "      <td>lhr</td>\n",
       "      <td>99.970398</td>\n",
       "      <td>99.539986</td>\n",
       "      <td>99.897995</td>\n",
       "      <td>99.832001</td>\n",
       "    </tr>\n",
       "    <tr>\n",
       "      <th>9</th>\n",
       "      <td>lx</td>\n",
       "      <td>99.873932</td>\n",
       "      <td>97.319206</td>\n",
       "      <td>99.973778</td>\n",
       "      <td>99.998901</td>\n",
       "    </tr>\n",
       "    <tr>\n",
       "      <th>10</th>\n",
       "      <td>mino</td>\n",
       "      <td>99.990402</td>\n",
       "      <td>97.597694</td>\n",
       "      <td>99.988792</td>\n",
       "      <td>99.972710</td>\n",
       "    </tr>\n",
       "    <tr>\n",
       "      <th>11</th>\n",
       "      <td>whd</td>\n",
       "      <td>98.465576</td>\n",
       "      <td>NaN</td>\n",
       "      <td>99.287766</td>\n",
       "      <td>99.989052</td>\n",
       "    </tr>\n",
       "    <tr>\n",
       "      <th>12</th>\n",
       "      <td>wjk</td>\n",
       "      <td>99.928070</td>\n",
       "      <td>81.538406</td>\n",
       "      <td>99.962349</td>\n",
       "      <td>99.994263</td>\n",
       "    </tr>\n",
       "    <tr>\n",
       "      <th>13</th>\n",
       "      <td>wyb</td>\n",
       "      <td>99.939987</td>\n",
       "      <td>93.051865</td>\n",
       "      <td>99.061035</td>\n",
       "      <td>99.980629</td>\n",
       "    </tr>\n",
       "    <tr>\n",
       "      <th>14</th>\n",
       "      <td>wyf</td>\n",
       "      <td>99.939362</td>\n",
       "      <td>NaN</td>\n",
       "      <td>99.987617</td>\n",
       "      <td>99.999634</td>\n",
       "    </tr>\n",
       "    <tr>\n",
       "      <th>15</th>\n",
       "      <td>yy</td>\n",
       "      <td>99.994926</td>\n",
       "      <td>81.156937</td>\n",
       "      <td>99.935822</td>\n",
       "      <td>99.996239</td>\n",
       "    </tr>\n",
       "    <tr>\n",
       "      <th>16</th>\n",
       "      <td>yyqx</td>\n",
       "      <td>99.915268</td>\n",
       "      <td>99.654938</td>\n",
       "      <td>93.648506</td>\n",
       "      <td>99.614838</td>\n",
       "    </tr>\n",
       "    <tr>\n",
       "      <th>17</th>\n",
       "      <td>zry</td>\n",
       "      <td>99.991196</td>\n",
       "      <td>NaN</td>\n",
       "      <td>99.953339</td>\n",
       "      <td>99.998024</td>\n",
       "    </tr>\n",
       "    <tr>\n",
       "      <th>18</th>\n",
       "      <td>angelina</td>\n",
       "      <td>99.928123</td>\n",
       "      <td>97.550323</td>\n",
       "      <td>99.700722</td>\n",
       "      <td>100.000000</td>\n",
       "    </tr>\n",
       "    <tr>\n",
       "      <th>19</th>\n",
       "      <td>arriana</td>\n",
       "      <td>99.705940</td>\n",
       "      <td>NaN</td>\n",
       "      <td>99.958054</td>\n",
       "      <td>100.000000</td>\n",
       "    </tr>\n",
       "    <tr>\n",
       "      <th>20</th>\n",
       "      <td>cate</td>\n",
       "      <td>99.970634</td>\n",
       "      <td>91.091553</td>\n",
       "      <td>99.561760</td>\n",
       "      <td>99.999603</td>\n",
       "    </tr>\n",
       "    <tr>\n",
       "      <th>21</th>\n",
       "      <td>emma</td>\n",
       "      <td>99.945229</td>\n",
       "      <td>NaN</td>\n",
       "      <td>97.415489</td>\n",
       "      <td>99.995323</td>\n",
       "    </tr>\n",
       "    <tr>\n",
       "      <th>22</th>\n",
       "      <td>emmas</td>\n",
       "      <td>99.230209</td>\n",
       "      <td>NaN</td>\n",
       "      <td>NaN</td>\n",
       "      <td>99.999619</td>\n",
       "    </tr>\n",
       "    <tr>\n",
       "      <th>23</th>\n",
       "      <td>jenniferb</td>\n",
       "      <td>99.509399</td>\n",
       "      <td>NaN</td>\n",
       "      <td>NaN</td>\n",
       "      <td>99.998116</td>\n",
       "    </tr>\n",
       "    <tr>\n",
       "      <th>24</th>\n",
       "      <td>jenniferl</td>\n",
       "      <td>99.948883</td>\n",
       "      <td>99.698280</td>\n",
       "      <td>99.977020</td>\n",
       "      <td>99.999969</td>\n",
       "    </tr>\n",
       "    <tr>\n",
       "      <th>25</th>\n",
       "      <td>jessica</td>\n",
       "      <td>99.992691</td>\n",
       "      <td>98.609482</td>\n",
       "      <td>99.866936</td>\n",
       "      <td>NaN</td>\n",
       "    </tr>\n",
       "    <tr>\n",
       "      <th>26</th>\n",
       "      <td>julia</td>\n",
       "      <td>99.999825</td>\n",
       "      <td>NaN</td>\n",
       "      <td>99.845093</td>\n",
       "      <td>99.999664</td>\n",
       "    </tr>\n",
       "    <tr>\n",
       "      <th>27</th>\n",
       "      <td>melissa</td>\n",
       "      <td>99.997955</td>\n",
       "      <td>99.188095</td>\n",
       "      <td>99.697838</td>\n",
       "      <td>99.543221</td>\n",
       "    </tr>\n",
       "    <tr>\n",
       "      <th>28</th>\n",
       "      <td>meryl</td>\n",
       "      <td>99.983353</td>\n",
       "      <td>NaN</td>\n",
       "      <td>99.917763</td>\n",
       "      <td>99.999489</td>\n",
       "    </tr>\n",
       "    <tr>\n",
       "      <th>29</th>\n",
       "      <td>ruby</td>\n",
       "      <td>99.972801</td>\n",
       "      <td>99.870743</td>\n",
       "      <td>99.992088</td>\n",
       "      <td>99.998230</td>\n",
       "    </tr>\n",
       "    <tr>\n",
       "      <th>30</th>\n",
       "      <td>scarlett</td>\n",
       "      <td>99.990807</td>\n",
       "      <td>NaN</td>\n",
       "      <td>82.760933</td>\n",
       "      <td>100.000000</td>\n",
       "    </tr>\n",
       "    <tr>\n",
       "      <th>31</th>\n",
       "      <td>wendy</td>\n",
       "      <td>NaN</td>\n",
       "      <td>87.025780</td>\n",
       "      <td>NaN</td>\n",
       "      <td>NaN</td>\n",
       "    </tr>\n",
       "  </tbody>\n",
       "</table>\n",
       "</div>"
      ],
      "text/plain": [
       "         Name    glasses       mask  funnyFace        null\n",
       "0      Claire  99.999962  99.764030  99.998238   99.999550\n",
       "1     Crystal  99.999977  99.325432  99.999756   99.999496\n",
       "2      Gloria  99.999901  99.588600  99.879562   99.909981\n",
       "3         BJT  99.978279  95.866455  99.648323   99.991486\n",
       "4          dl  99.986786  92.788857  99.978821         NaN\n",
       "5         gql  99.240044  99.709496  99.630646   99.990356\n",
       "6          hj  99.994537  99.856712  99.819168         NaN\n",
       "7         hzt  99.986603  99.222954  99.964043   99.997429\n",
       "8         lhr  99.970398  99.539986  99.897995   99.832001\n",
       "9          lx  99.873932  97.319206  99.973778   99.998901\n",
       "10       mino  99.990402  97.597694  99.988792   99.972710\n",
       "11        whd  98.465576        NaN  99.287766   99.989052\n",
       "12        wjk  99.928070  81.538406  99.962349   99.994263\n",
       "13        wyb  99.939987  93.051865  99.061035   99.980629\n",
       "14        wyf  99.939362        NaN  99.987617   99.999634\n",
       "15         yy  99.994926  81.156937  99.935822   99.996239\n",
       "16       yyqx  99.915268  99.654938  93.648506   99.614838\n",
       "17        zry  99.991196        NaN  99.953339   99.998024\n",
       "18   angelina  99.928123  97.550323  99.700722  100.000000\n",
       "19    arriana  99.705940        NaN  99.958054  100.000000\n",
       "20       cate  99.970634  91.091553  99.561760   99.999603\n",
       "21       emma  99.945229        NaN  97.415489   99.995323\n",
       "22      emmas  99.230209        NaN        NaN   99.999619\n",
       "23  jenniferb  99.509399        NaN        NaN   99.998116\n",
       "24  jenniferl  99.948883  99.698280  99.977020   99.999969\n",
       "25    jessica  99.992691  98.609482  99.866936         NaN\n",
       "26      julia  99.999825        NaN  99.845093   99.999664\n",
       "27    melissa  99.997955  99.188095  99.697838   99.543221\n",
       "28      meryl  99.983353        NaN  99.917763   99.999489\n",
       "29       ruby  99.972801  99.870743  99.992088   99.998230\n",
       "30   scarlett  99.990807        NaN  82.760933  100.000000\n",
       "31      wendy        NaN  87.025780        NaN         NaN"
      ]
     },
     "execution_count": 104,
     "metadata": {},
     "output_type": "execute_result"
    }
   ],
   "source": [
    "df['glasses'] = glasses\n",
    "df['mask'] = mask\n",
    "df['funnyFace'] = funnyFace\n",
    "df['null'] = null\n",
    "df"
   ]
  },
  {
   "cell_type": "markdown",
   "metadata": {},
   "source": [
    "From the dataframe, we can see that the column of 'mask' contains many nan values, which means AWS Rekognition fails to identify the person from the photo of the person wearing mask. Then, we use a boxplot to better visualize:"
   ]
  },
  {
   "cell_type": "code",
   "execution_count": 105,
   "metadata": {},
   "outputs": [
    {
     "data": {
      "image/png": "[encoded data removed]",
      "text/plain": [
       "<Figure size 432x288 with 1 Axes>"
      ]
     },
     "metadata": {
      "needs_background": "light"
     },
     "output_type": "display_data"
    }
   ],
   "source": [
    "boxplot = df.boxplot(column = ['null','glasses', 'mask', 'funnyFace'])"
   ]
  },
  {
   "cell_type": "markdown",
   "metadata": {},
   "source": [
    "\n",
    "The boxplot confirms our initial thought that each group has a different mean, especially the mask group. So we conduct a hypothesis testing:\n",
    "\n",
    "    Null Hypothesis: There is no significant difference between the means of the variables. \n",
    "    Alternative Hypothesis: There is a significant difference between the means of the variables.\n",
    "    Testing Method: One-way ANOVA Testing"
   ]
  },
  {
   "cell_type": "code",
   "execution_count": 106,
   "metadata": {},
   "outputs": [],
   "source": [
    "from scipy.stats import f_oneway"
   ]
  },
  {
   "cell_type": "code",
   "execution_count": 107,
   "metadata": {},
   "outputs": [],
   "source": [
    "F,p = f_oneway(df['null'][~np.isnan(df['null'])],df['glasses'][~np.isnan(df['glasses'])], df['mask'][~np.isnan(df['mask'])], df['funnyFace'][~np.isnan(df['funnyFace'])])"
   ]
  },
  {
   "cell_type": "code",
   "execution_count": 108,
   "metadata": {},
   "outputs": [
    {
     "data": {
      "text/plain": [
       "9.017194794507072"
      ]
     },
     "execution_count": 108,
     "metadata": {},
     "output_type": "execute_result"
    }
   ],
   "source": [
    "F"
   ]
  },
  {
   "cell_type": "code",
   "execution_count": 109,
   "metadata": {},
   "outputs": [
    {
     "data": {
      "text/plain": [
       "2.2639456311411546e-05"
      ]
     },
     "execution_count": 109,
     "metadata": {},
     "output_type": "execute_result"
    }
   ],
   "source": [
    "p"
   ]
  },
  {
   "cell_type": "markdown",
   "metadata": {},
   "source": [
    "Result: The One-way ANOVA Testing shows an output F value of 9.017 and p-value=0.0000226. Using a 5% significance level, it shows that there is a 0.00226% risk of concluding that a difference exists when there is no actual difference. Thus, we reject the null hypothesis and conclude that not all population means are equal. \n",
    "\n",
    "But the ANOVA test only shows that it is likely that the four groups have a difference in mean, but it has not signified which groups is most likely to differ or which group differs by most. Therefore, we optimize our testing method by using T tests. \n",
    "\n",
    "    Null Hypothesis: There is no significant difference between the mean in the “glasses” group and the “null group. \n",
    "    Alternative Hypothesis: There is a significant difference between the mean in the “glasses” group and the “null” group.\n",
    "    Testing Method: T-test"
   ]
  },
  {
   "cell_type": "code",
   "execution_count": 110,
   "metadata": {},
   "outputs": [],
   "source": [
    "from scipy import stats"
   ]
  },
  {
   "cell_type": "code",
   "execution_count": 111,
   "metadata": {},
   "outputs": [
    {
     "data": {
      "text/plain": [
       "Ttest_indResult(statistic=1.702134484078732, pvalue=0.09696730057681158)"
      ]
     },
     "execution_count": 111,
     "metadata": {},
     "output_type": "execute_result"
    }
   ],
   "source": [
    "stats.ttest_ind(df['null'][~np.isnan(df['null'])],df['glasses'][~np.isnan(df['glasses'])], equal_var = False)"
   ]
  },
  {
   "cell_type": "code",
   "execution_count": 112,
   "metadata": {},
   "outputs": [
    {
     "data": {
      "text/plain": [
       "Ttest_indResult(statistic=3.3054977110315362, pvalue=0.003364403260063759)"
      ]
     },
     "execution_count": 112,
     "metadata": {},
     "output_type": "execute_result"
    }
   ],
   "source": [
    "stats.ttest_ind(df['null'][~np.isnan(df['null'])],df['mask'][~np.isnan(df['mask'])], equal_var = False)"
   ]
  },
  {
   "cell_type": "code",
   "execution_count": 113,
   "metadata": {},
   "outputs": [
    {
     "data": {
      "text/plain": [
       "Ttest_indResult(statistic=1.632198656154107, pvalue=0.11380903555402896)"
      ]
     },
     "execution_count": 113,
     "metadata": {},
     "output_type": "execute_result"
    }
   ],
   "source": [
    "stats.ttest_ind(df['null'][~np.isnan(df['null'])],df['funnyFace'][~np.isnan(df['funnyFace'])], equal_var = False)"
   ]
  },
  {
   "cell_type": "markdown",
   "metadata": {},
   "source": [
    "By comparing the image of people wearing glasses, masks, and making funny faces with their daily pictures respectively, we could find that the p values are 0.097, 0.0034 and 0.114. Comparing with p=0.05, we can only reject the second group of which p=0.0034. We reject the null hypothesis that there is no difference between the mean of the group when people wear masks and when they are not. \n",
    "\n",
    "Combing our clusion with our observation from the dataframe, we finds that with the person wearing a mask in the photo, AWS Rekognition has higher probability to fail to regonize the person (by 'nan' fromt the dataframe), and for the part that AWS Rekognition match the faces with masks successfully, the mean similarity score is different from that of regular photos ('null') by T-test. This indicates that AWS Rekognition is less confident to identify people when they wear masks. \n",
    "\n"
   ]
  },
  {
   "cell_type": "markdown",
   "metadata": {},
   "source": [
    "## Conclusions\n",
    "\n",
    "Because the mean similarity is significantly different between regular photos and photos with the person wearing mask, we conclude that Amazon Rekognition is less confident to identify faces when the individuals are wearing masks. \n",
    "\n",
    "We conclude that Amazon Rekognition still recognizes the individuals when they are wearing glasses and making funny faces. We also conclude that Amazon Rekognition is able to tell the twin sisters apart. \n",
    "\n",
    "Amazon Rekognition is relatively accurate in facial recognitions. The developers can look for ways that improve facial recognition when the individuals are wearing masks."
   ]
  },
  {
   "cell_type": "code",
   "execution_count": null,
   "metadata": {},
   "outputs": [],
   "source": []
  },
  {
   "cell_type": "code",
   "execution_count": null,
   "metadata": {},
   "outputs": [],
   "source": []
  }
 ],
 "metadata": {
  "kernelspec": {
   "display_name": "conda_amazonei_tensorflow2_p36",
   "language": "python",
   "name": "conda_amazonei_tensorflow2_p36"
  },
  "language_info": {
   "codemirror_mode": {
    "name": "ipython",
    "version": 3
   },
   "file_extension": ".py",
   "mimetype": "text/x-python",
   "name": "python",
   "nbconvert_exporter": "python",
   "pygments_lexer": "ipython3",
   "version": "3.6.10"
  }
 },
 "nbformat": 4,
 "nbformat_minor": 4
}
