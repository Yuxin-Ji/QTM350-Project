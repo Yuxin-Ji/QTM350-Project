{
 "cells": [
  {
   "cell_type": "code",
   "execution_count": 1,
   "metadata": {},
   "outputs": [
    {
     "name": "stdout",
     "output_type": "stream",
     "text": [
      "REKOGNITION()                                                    REKOGNITION()\n",
      "\n",
      "\n",
      "\n",
      "\u001b[1mNAME\u001b[0m\n",
      "       rekognition -\n",
      "\n",
      "\u001b[1mDESCRIPTION\u001b[0m\n",
      "       This is the Amazon Rekognition API reference.\n",
      "\n",
      "\u001b[1mAVAILABLE COMMANDS\u001b[0m\n",
      "       o compare-faces\n",
      "\n",
      "       o create-collection\n",
      "\n",
      "       o create-project\n",
      "\n",
      "       o create-project-version\n",
      "\n",
      "       o create-stream-processor\n",
      "\n",
      "       o delete-collection\n",
      "\n",
      "       o delete-faces\n",
      "\n",
      "       o delete-project\n",
      "\n",
      "       o delete-project-version\n",
      "\n",
      "       o delete-stream-processor\n",
      "\n",
      "       o describe-collection\n",
      "\n",
      "       o describe-project-versions\n",
      "\n",
      "       o describe-projects\n",
      "\n",
      "       o describe-stream-processor\n",
      "\n",
      "       o detect-custom-labels\n",
      "\n",
      "       o detect-faces\n",
      "\n",
      "       o detect-labels\n",
      "\n",
      "       o detect-moderation-labels\n",
      "\n",
      "       o detect-protective-equipment\n",
      "\n",
      "       o detect-text\n",
      "\n",
      "       o get-celebrity-info\n",
      "\n",
      "       o get-celebrity-recognition\n",
      "\n",
      "       o get-content-moderation\n",
      "\n",
      "       o get-face-detection\n",
      "\n",
      "       o get-face-search\n",
      "\n",
      "       o get-label-detection\n",
      "\n",
      "       o get-person-tracking\n",
      "\n",
      "       o get-segment-detection\n",
      "\n",
      "       o get-text-detection\n",
      "\n",
      "       o help\n",
      "\n",
      "       o index-faces\n",
      "\n",
      "       o list-collections\n",
      "\n",
      "       o list-faces\n",
      "\n",
      "       o list-stream-processors\n",
      "\n",
      "       o recognize-celebrities\n",
      "\n",
      "       o search-faces\n",
      "\n",
      "       o search-faces-by-image\n",
      "\n",
      "       o start-celebrity-recognition\n",
      "\n",
      "       o start-content-moderation\n",
      "\n",
      "       o start-face-detection\n",
      "\n",
      "       o start-face-search\n",
      "\n",
      "       o start-label-detection\n",
      "\n",
      "       o start-person-tracking\n",
      "\n",
      "       o start-project-version\n",
      "\n",
      "       o start-segment-detection\n",
      "\n",
      "       o start-stream-processor\n",
      "\n",
      "       o start-text-detection\n",
      "\n",
      "       o stop-project-version\n",
      "\n",
      "       o stop-stream-processor\n",
      "\n",
      "       o wait\n",
      "\n",
      "\n",
      "\n",
      "                                                                 REKOGNITION()\n"
     ]
    }
   ],
   "source": [
    "!aws rekognition help"
   ]
  },
  {
   "cell_type": "code",
   "execution_count": 2,
   "metadata": {},
   "outputs": [
    {
     "name": "stdout",
     "output_type": "stream",
     "text": [
      "S3()                                                                      S3()\n",
      "\n",
      "\n",
      "\n",
      "\u001b[1mNAME\u001b[0m\n",
      "       s3 -\n",
      "\n",
      "\u001b[1mDESCRIPTION\u001b[0m\n",
      "       This  section  explains  prominent concepts and notations in the set of\n",
      "       high-level S3 commands provided.\n",
      "\n",
      "   \u001b[1mPath Argument Type\u001b[0m\n",
      "       Whenever using a command, at least one path argument must be specified.\n",
      "       There are two types of path arguments: \u001b[1mLocalPath \u001b[22mand \u001b[1mS3Uri\u001b[22m.\n",
      "\n",
      "       \u001b[1mLocalPath\u001b[22m: represents the path of a local file or directory.  It can be\n",
      "       written as an absolute path or relative path.\n",
      "\n",
      "       \u001b[1mS3Uri\u001b[22m: represents the location of a S3 object, prefix, or bucket.  This\n",
      "       must  be  written in the form \u001b[1ms3://mybucket/mykey \u001b[22mwhere \u001b[1mmybucket \u001b[22mis the\n",
      "       specified S3 bucket, \u001b[1mmykey \u001b[22mis the specified S3 key.  The path  argument\n",
      "       must  begin with \u001b[1ms3:// \u001b[22min order to denote that the path argument refers\n",
      "       to a S3 object. Note that prefixes are separated  by  forward  slashes.\n",
      "       For  example, if the S3 object \u001b[1mmyobject \u001b[22mhad the prefix \u001b[1mmyprefix\u001b[22m, the S3\n",
      "       key would be \u001b[1mmyprefix/myobject\u001b[22m, and if the object  was  in  the  bucket\n",
      "       \u001b[1mmybucket\u001b[22m, the \u001b[1mS3Uri \u001b[22mwould be \u001b[1ms3://mybucket/myprefix/myobject\u001b[22m.\n",
      "\n",
      "       \u001b[1mS3Uri  \u001b[22malso supports S3 access points. To specify an access point, this\n",
      "       value must be of the form \u001b[1ms3://<access-point-arn>/<key>\u001b[22m. For example if\n",
      "       the   access   point   \u001b[1mmyaccesspoint   \u001b[22mto   be   used   has   the  ARN:\n",
      "       \u001b[1marn:aws:s3:us-west-2:123456789012:accesspoint/myaccesspoint   \u001b[22mand   the\n",
      "       object  being  accessed has the key \u001b[1mmykey\u001b[22m, then the \u001b[1mS3URI \u001b[22mused must be:\n",
      "       \u001b[1ms3://arn:aws:s3:us-west-2:123456789012:accesspoint/myaccesspoint/mykey\u001b[22m.\n",
      "       Similar  to  bucket  names, you can also use prefixes with access point\n",
      "       ARNs        for         the         \u001b[1mS3Uri\u001b[22m.         For         example:\n",
      "       \u001b[1ms3://arn:aws:s3:us-west-2:123456789012:accesspoint/myaccesspoint/mypre-\u001b[0m\n",
      "       \u001b[1mfix/\u001b[0m\n",
      "\n",
      "       The higher level \u001b[1ms3 \u001b[22mcommands do \u001b[1mnot \u001b[22msupport access point  object  ARNs.\n",
      "       For      example,      if      the     following     was     specified:\n",
      "       \u001b[1ms3://arn:aws:s3:us-west-2:123456789012:accesspoint/myaccess-\u001b[0m\n",
      "       \u001b[1mpoint/object/mykey   \u001b[22mthe   \u001b[1mS3URI   \u001b[22mwill   resolve  to  the  object  key\n",
      "       \u001b[1mobject/mykey\u001b[0m\n",
      "\n",
      "   \u001b[1mOrder of Path Arguments\u001b[0m\n",
      "       Every command takes one or two positional path  arguments.   The  first\n",
      "       path  argument represents the source, which is the local file/directory\n",
      "       or S3 object/prefix/bucket that is being referenced.   If  there  is  a\n",
      "       second path argument, it represents the destination, which is the local\n",
      "       file/directory or S3 object/prefix/bucket that is  being  operated  on.\n",
      "       Commands  with only one path argument do not have a destination because\n",
      "       the operation is being performed only on the source.\n",
      "\n",
      "   \u001b[1mSingle Local File and S3 Object Operations\u001b[0m\n",
      "       Some commands perform operations only on single files and  S3  objects.\n",
      "       The following commands are single file/object operations if no \u001b[1m--recur-\u001b[0m\n",
      "       \u001b[1msive \u001b[22mflag is provided.\n",
      "\n",
      "          o \u001b[1mcp\u001b[0m\n",
      "\n",
      "          o \u001b[1mmv\u001b[0m\n",
      "\n",
      "          o \u001b[1mrm\u001b[0m\n",
      "\n",
      "       For this type of operation, the first path argument, the  source,  must\n",
      "       exist  and be a local file or S3 object.  The second path argument, the\n",
      "       destination, can be the name of  a  local  file,  local  directory,  S3\n",
      "       object, S3 prefix, or S3 bucket.\n",
      "\n",
      "       The  destination  is  indicated  as a local directory, S3 prefix, or S3\n",
      "       bucket if it ends with a forward slash or back slash.  The use of slash\n",
      "       depends  on  the  path argument type.  If the path argument is a \u001b[1mLocal-\u001b[0m\n",
      "       \u001b[1mPath\u001b[22m, the type of slash is the separator used by the operating  system.\n",
      "       If  the  path  is a \u001b[1mS3Uri\u001b[22m, the forward slash must always be used.  If a\n",
      "       slash is at the end of the destination, the destination file or  object\n",
      "       will  adopt the name of the source file or object.  Otherwise, if there\n",
      "       is no slash at the end, the file or object will be saved under the name\n",
      "       provided.  See examples in \u001b[1mcp \u001b[22mand \u001b[1mmv \u001b[22mto illustrate this description.\n",
      "\n",
      "   \u001b[1mDirectory and S3 Prefix Operations\u001b[0m\n",
      "       Some commands only perform operations on the contents of a local direc-\n",
      "       tory or S3 prefix/bucket.  Adding or omitting a forward slash  or  back\n",
      "       slash  to the end of any path argument, depending on its type, does not\n",
      "       affect the results of  the  operation.   The  following  commands  will\n",
      "       always result in a directory or S3 prefix/bucket operation:\n",
      "\n",
      "       o \u001b[1msync\u001b[0m\n",
      "\n",
      "       o \u001b[1mmb\u001b[0m\n",
      "\n",
      "       o \u001b[1mrb\u001b[0m\n",
      "\n",
      "       o \u001b[1mls\u001b[0m\n",
      "\n",
      "   \u001b[1mUse of Exclude and Include Filters\u001b[0m\n",
      "       Currently, there is no support for the use of UNIX style wildcards in a\n",
      "       command's  path  arguments.   However,  most  commands  have  \u001b[1m--exclude\u001b[0m\n",
      "       \u001b[1m\"<value>\"  \u001b[22mand  \u001b[1m--include  \"<value>\"  \u001b[22mparameters  that  can achieve the\n",
      "       desired result.  These parameters perform pattern  matching  to  either\n",
      "       exclude  or include a particular file or object.  The following pattern\n",
      "       symbols are supported.\n",
      "\n",
      "          o \u001b[1m*\u001b[22m: Matches everything\n",
      "\n",
      "          o \u001b[1m?\u001b[22m: Matches any single character\n",
      "\n",
      "          o \u001b[1m[sequence]\u001b[22m: Matches any character in \u001b[1msequence\u001b[0m\n",
      "\n",
      "          o \u001b[1m[!sequence]\u001b[22m: Matches any character not in \u001b[1msequence\u001b[0m\n",
      "\n",
      "       Any number of these parameters can be passed to a command.  You can  do\n",
      "       this  by  providing  an \u001b[1m--exclude \u001b[22mor \u001b[1m--include \u001b[22margument multiple times,\n",
      "       e.g.  \u001b[1m--include \"*.txt\" --include \"*.png\"\u001b[22m.   When  there  are  multiple\n",
      "       filters,  the rule is the filters that appear later in the command take\n",
      "       precedence over filters that appear earlier in the command.  For  exam-\n",
      "       ple, if the filter parameters passed to the command were\n",
      "\n",
      "          --exclude \"*\" --include \"*.txt\"\n",
      "\n",
      "       All  files  will  be  excluded from the command except for files ending\n",
      "       with \u001b[1m.txt  \u001b[22mHowever, if the order of the filter parameters  was  changed\n",
      "       to\n",
      "\n",
      "          --include \"*.txt\" --exclude \"*\"\n",
      "\n",
      "       All files will be excluded from the command.\n",
      "\n",
      "       Each  filter  is evaluated against the \u001b[1msource directory\u001b[22m.  If the source\n",
      "       location is a file instead of a directory, the directory containing the\n",
      "       file is used as the source directory.  For example, suppose you had the\n",
      "       following directory structure:\n",
      "\n",
      "          /tmp/foo/\n",
      "            .git/\n",
      "            |---config\n",
      "            |---description\n",
      "            foo.txt\n",
      "            bar.txt\n",
      "            baz.jpg\n",
      "\n",
      "       In the command \u001b[1maws s3 sync /tmp/foo s3://bucket/ \u001b[22mthe  source  directory\n",
      "       is  \u001b[1m/tmp/foo\u001b[22m.   Any  include/exclude filters will be evaluated with the\n",
      "       source directory prepended.  Below are several examples to  demonstrate\n",
      "       this.\n",
      "\n",
      "       Given  the directory structure above and the command \u001b[1maws s3 cp /tmp/foo\u001b[0m\n",
      "       \u001b[1ms3://bucket/ --recursive --exclude \".git/*\"\u001b[22m, the files \u001b[1m.git/config  \u001b[22mand\n",
      "       \u001b[1m.git/description  \u001b[22mwill be excluded from the files to upload because the\n",
      "       exclude filter \u001b[1m.git/* \u001b[22mwill have the source  prepended  to  the  filter.\n",
      "       This means that:\n",
      "\n",
      "          /tmp/foo/.git/* -> /tmp/foo/.git/config       (matches, should exclude)\n",
      "          /tmp/foo/.git/* -> /tmp/foo/.git/description  (matches, should exclude)\n",
      "          /tmp/foo/.git/* -> /tmp/foo/foo.txt  (does not match, should include)\n",
      "          /tmp/foo/.git/* -> /tmp/foo/bar.txt  (does not match, should include)\n",
      "          /tmp/foo/.git/* -> /tmp/foo/baz.jpg  (does not match, should include)\n",
      "\n",
      "       The  command  \u001b[1maws  s3  cp  /tmp/foo/ s3://bucket/ --recursive --exclude\u001b[0m\n",
      "       \u001b[1m\"ba*\" \u001b[22mwill exclude \u001b[1m/tmp/foo/bar.txt \u001b[22mand \u001b[1m/tmp/foo/baz.jpg\u001b[22m:\n",
      "\n",
      "          /tmp/foo/ba* -> /tmp/foo/.git/config      (does not match, should include)\n",
      "          /tmp/foo/ba* -> /tmp/foo/.git/description (does not match, should include)\n",
      "          /tmp/foo/ba* -> /tmp/foo/foo.txt          (does not match, should include)\n",
      "          /tmp/foo/ba* -> /tmp/foo/bar.txt  (matches, should exclude)\n",
      "          /tmp/foo/ba* -> /tmp/foo/baz.jpg  (matches, should exclude)\n",
      "\n",
      "       Note that, by default, \u001b[4mall\u001b[24m \u001b[4mfiles\u001b[24m \u001b[4mare\u001b[24m \u001b[4mincluded\u001b[24m.  This means that provid-\n",
      "       ing  \u001b[1monly  \u001b[22man  \u001b[1m--include  \u001b[22mfilter  will not change what files are trans-\n",
      "       ferred.  \u001b[1m--include \u001b[22mwill only re-include files that have  been  excluded\n",
      "       from an \u001b[1m--exclude \u001b[22mfilter.  If you only want to upload files with a par-\n",
      "       ticular extension, you need to first exclude all files, then re-include\n",
      "       the files with the particular extension.  This command will upload \u001b[1monly\u001b[0m\n",
      "       files ending with \u001b[1m.jpg\u001b[22m:\n",
      "\n",
      "          aws s3 cp /tmp/foo/ s3://bucket/ --recursive --exclude \"*\" --include \"*.jpg\"\n",
      "\n",
      "       If you wanted to include both \u001b[1m.jpg \u001b[22mfiles as well as \u001b[1m.txt \u001b[22mfiles you  can\n",
      "       run:\n",
      "\n",
      "          aws s3 cp /tmp/foo/ s3://bucket/ --recursive \\\n",
      "              --exclude \"*\" --include \"*.jpg\" --include \"*.txt\"\n",
      "\n",
      "       See 'aws help' for descriptions of global parameters.\n",
      "\n",
      "\u001b[1mSYNOPSIS\u001b[0m\n",
      "          aws s3 <Command> [<Arg> ...]\n",
      "\n",
      "\u001b[1mOPTIONS\u001b[0m\n",
      "       \u001b[4mNone\u001b[0m\n",
      "\n",
      "       See 'aws help' for descriptions of global parameters.\n",
      "\n",
      "\u001b[1mAVAILABLE COMMANDS\u001b[0m\n",
      "       o cp\n",
      "\n",
      "       o ls\n",
      "\n",
      "       o mb\n",
      "\n",
      "       o mv\n",
      "\n",
      "       o presign\n",
      "\n",
      "       o rb\n",
      "\n",
      "       o rm\n",
      "\n",
      "       o sync\n",
      "\n",
      "       o website\n",
      "\n",
      "\n",
      "\n",
      "                                                                          S3()\n"
     ]
    }
   ],
   "source": [
    "!aws s3 help"
   ]
  },
  {
   "cell_type": "code",
   "execution_count": 3,
   "metadata": {},
   "outputs": [
    {
     "name": "stdout",
     "output_type": "stream",
     "text": [
      "S3()                                                                      S3()\n",
      "\n",
      "\n",
      "\n",
      "\u001b[1mNAME\u001b[0m\n",
      "       s3 -\n",
      "\n",
      "\u001b[1mDESCRIPTION\u001b[0m\n",
      "       This  section  explains  prominent concepts and notations in the set of\n",
      "       high-level S3 commands provided.\n",
      "\n",
      "   \u001b[1mPath Argument Type\u001b[0m\n",
      "       Whenever using a command, at least one path argument must be specified.\n",
      "       There are two types of path arguments: \u001b[1mLocalPath \u001b[22mand \u001b[1mS3Uri\u001b[22m.\n",
      "\n",
      "       \u001b[1mLocalPath\u001b[22m: represents the path of a local file or directory.  It can be\n",
      "       written as an absolute path or relative path.\n",
      "\n",
      "       \u001b[1mS3Uri\u001b[22m: represents the location of a S3 object, prefix, or bucket.  This\n",
      "       must  be  written in the form \u001b[1ms3://mybucket/mykey \u001b[22mwhere \u001b[1mmybucket \u001b[22mis the\n",
      "       specified S3 bucket, \u001b[1mmykey \u001b[22mis the specified S3 key.  The path  argument\n",
      "       must  begin with \u001b[1ms3:// \u001b[22min order to denote that the path argument refers\n",
      "       to a S3 object. Note that prefixes are separated  by  forward  slashes.\n",
      "       For  example, if the S3 object \u001b[1mmyobject \u001b[22mhad the prefix \u001b[1mmyprefix\u001b[22m, the S3\n",
      "       key would be \u001b[1mmyprefix/myobject\u001b[22m, and if the object  was  in  the  bucket\n",
      "       \u001b[1mmybucket\u001b[22m, the \u001b[1mS3Uri \u001b[22mwould be \u001b[1ms3://mybucket/myprefix/myobject\u001b[22m.\n",
      "\n",
      "       \u001b[1mS3Uri  \u001b[22malso supports S3 access points. To specify an access point, this\n",
      "       value must be of the form \u001b[1ms3://<access-point-arn>/<key>\u001b[22m. For example if\n",
      "       the   access   point   \u001b[1mmyaccesspoint   \u001b[22mto   be   used   has   the  ARN:\n",
      "       \u001b[1marn:aws:s3:us-west-2:123456789012:accesspoint/myaccesspoint   \u001b[22mand   the\n",
      "       object  being  accessed has the key \u001b[1mmykey\u001b[22m, then the \u001b[1mS3URI \u001b[22mused must be:\n",
      "       \u001b[1ms3://arn:aws:s3:us-west-2:123456789012:accesspoint/myaccesspoint/mykey\u001b[22m.\n",
      "       Similar  to  bucket  names, you can also use prefixes with access point\n",
      "       ARNs        for         the         \u001b[1mS3Uri\u001b[22m.         For         example:\n",
      "       \u001b[1ms3://arn:aws:s3:us-west-2:123456789012:accesspoint/myaccesspoint/mypre-\u001b[0m\n",
      "       \u001b[1mfix/\u001b[0m\n",
      "\n",
      "       The higher level \u001b[1ms3 \u001b[22mcommands do \u001b[1mnot \u001b[22msupport access point  object  ARNs.\n",
      "       For      example,      if      the     following     was     specified:\n",
      "       \u001b[1ms3://arn:aws:s3:us-west-2:123456789012:accesspoint/myaccess-\u001b[0m\n",
      "       \u001b[1mpoint/object/mykey   \u001b[22mthe   \u001b[1mS3URI   \u001b[22mwill   resolve  to  the  object  key\n",
      "       \u001b[1mobject/mykey\u001b[0m\n",
      "\n",
      "   \u001b[1mOrder of Path Arguments\u001b[0m\n",
      "       Every command takes one or two positional path  arguments.   The  first\n",
      "       path  argument represents the source, which is the local file/directory\n",
      "       or S3 object/prefix/bucket that is being referenced.   If  there  is  a\n",
      "       second path argument, it represents the destination, which is the local\n",
      "       file/directory or S3 object/prefix/bucket that is  being  operated  on.\n",
      "       Commands  with only one path argument do not have a destination because\n",
      "       the operation is being performed only on the source.\n",
      "\n",
      "   \u001b[1mSingle Local File and S3 Object Operations\u001b[0m\n",
      "       Some commands perform operations only on single files and  S3  objects.\n",
      "       The following commands are single file/object operations if no \u001b[1m--recur-\u001b[0m\n",
      "       \u001b[1msive \u001b[22mflag is provided.\n",
      "\n",
      "          o \u001b[1mcp\u001b[0m\n",
      "\n",
      "          o \u001b[1mmv\u001b[0m\n",
      "\n",
      "          o \u001b[1mrm\u001b[0m\n",
      "\n",
      "       For this type of operation, the first path argument, the  source,  must\n",
      "       exist  and be a local file or S3 object.  The second path argument, the\n",
      "       destination, can be the name of  a  local  file,  local  directory,  S3\n",
      "       object, S3 prefix, or S3 bucket.\n",
      "\n",
      "       The  destination  is  indicated  as a local directory, S3 prefix, or S3\n",
      "       bucket if it ends with a forward slash or back slash.  The use of slash\n",
      "       depends  on  the  path argument type.  If the path argument is a \u001b[1mLocal-\u001b[0m\n",
      "       \u001b[1mPath\u001b[22m, the type of slash is the separator used by the operating  system.\n",
      "       If  the  path  is a \u001b[1mS3Uri\u001b[22m, the forward slash must always be used.  If a\n",
      "       slash is at the end of the destination, the destination file or  object\n",
      "       will  adopt the name of the source file or object.  Otherwise, if there\n",
      "       is no slash at the end, the file or object will be saved under the name\n",
      "       provided.  See examples in \u001b[1mcp \u001b[22mand \u001b[1mmv \u001b[22mto illustrate this description.\n",
      "\n",
      "   \u001b[1mDirectory and S3 Prefix Operations\u001b[0m\n",
      "       Some commands only perform operations on the contents of a local direc-\n",
      "       tory or S3 prefix/bucket.  Adding or omitting a forward slash  or  back\n",
      "       slash  to the end of any path argument, depending on its type, does not\n",
      "       affect the results of  the  operation.   The  following  commands  will\n",
      "       always result in a directory or S3 prefix/bucket operation:\n",
      "\n",
      "       o \u001b[1msync\u001b[0m\n",
      "\n",
      "       o \u001b[1mmb\u001b[0m\n",
      "\n",
      "       o \u001b[1mrb\u001b[0m\n",
      "\n",
      "       o \u001b[1mls\u001b[0m\n",
      "\n",
      "   \u001b[1mUse of Exclude and Include Filters\u001b[0m\n",
      "       Currently, there is no support for the use of UNIX style wildcards in a\n",
      "       command's  path  arguments.   However,  most  commands  have  \u001b[1m--exclude\u001b[0m\n",
      "       \u001b[1m\"<value>\"  \u001b[22mand  \u001b[1m--include  \"<value>\"  \u001b[22mparameters  that  can achieve the\n",
      "       desired result.  These parameters perform pattern  matching  to  either\n",
      "       exclude  or include a particular file or object.  The following pattern\n",
      "       symbols are supported.\n",
      "\n",
      "          o \u001b[1m*\u001b[22m: Matches everything\n",
      "\n",
      "          o \u001b[1m?\u001b[22m: Matches any single character\n",
      "\n",
      "          o \u001b[1m[sequence]\u001b[22m: Matches any character in \u001b[1msequence\u001b[0m\n",
      "\n",
      "          o \u001b[1m[!sequence]\u001b[22m: Matches any character not in \u001b[1msequence\u001b[0m\n",
      "\n",
      "       Any number of these parameters can be passed to a command.  You can  do\n",
      "       this  by  providing  an \u001b[1m--exclude \u001b[22mor \u001b[1m--include \u001b[22margument multiple times,\n",
      "       e.g.  \u001b[1m--include \"*.txt\" --include \"*.png\"\u001b[22m.   When  there  are  multiple\n",
      "       filters,  the rule is the filters that appear later in the command take\n",
      "       precedence over filters that appear earlier in the command.  For  exam-\n",
      "       ple, if the filter parameters passed to the command were\n",
      "\n",
      "          --exclude \"*\" --include \"*.txt\"\n",
      "\n",
      "       All  files  will  be  excluded from the command except for files ending\n",
      "       with \u001b[1m.txt  \u001b[22mHowever, if the order of the filter parameters  was  changed\n",
      "       to\n",
      "\n",
      "          --include \"*.txt\" --exclude \"*\"\n",
      "\n",
      "       All files will be excluded from the command.\n",
      "\n",
      "       Each  filter  is evaluated against the \u001b[1msource directory\u001b[22m.  If the source\n",
      "       location is a file instead of a directory, the directory containing the\n",
      "       file is used as the source directory.  For example, suppose you had the\n",
      "       following directory structure:\n",
      "\n",
      "          /tmp/foo/\n",
      "            .git/\n",
      "            |---config\n",
      "            |---description\n",
      "            foo.txt\n",
      "            bar.txt\n",
      "            baz.jpg\n",
      "\n",
      "       In the command \u001b[1maws s3 sync /tmp/foo s3://bucket/ \u001b[22mthe  source  directory\n",
      "       is  \u001b[1m/tmp/foo\u001b[22m.   Any  include/exclude filters will be evaluated with the\n",
      "       source directory prepended.  Below are several examples to  demonstrate\n",
      "       this.\n",
      "\n",
      "       Given  the directory structure above and the command \u001b[1maws s3 cp /tmp/foo\u001b[0m\n",
      "       \u001b[1ms3://bucket/ --recursive --exclude \".git/*\"\u001b[22m, the files \u001b[1m.git/config  \u001b[22mand\n",
      "       \u001b[1m.git/description  \u001b[22mwill be excluded from the files to upload because the\n",
      "       exclude filter \u001b[1m.git/* \u001b[22mwill have the source  prepended  to  the  filter.\n",
      "       This means that:\n",
      "\n",
      "          /tmp/foo/.git/* -> /tmp/foo/.git/config       (matches, should exclude)\n",
      "          /tmp/foo/.git/* -> /tmp/foo/.git/description  (matches, should exclude)\n",
      "          /tmp/foo/.git/* -> /tmp/foo/foo.txt  (does not match, should include)\n",
      "          /tmp/foo/.git/* -> /tmp/foo/bar.txt  (does not match, should include)\n",
      "          /tmp/foo/.git/* -> /tmp/foo/baz.jpg  (does not match, should include)\n",
      "\n",
      "       The  command  \u001b[1maws  s3  cp  /tmp/foo/ s3://bucket/ --recursive --exclude\u001b[0m\n",
      "       \u001b[1m\"ba*\" \u001b[22mwill exclude \u001b[1m/tmp/foo/bar.txt \u001b[22mand \u001b[1m/tmp/foo/baz.jpg\u001b[22m:\n",
      "\n",
      "          /tmp/foo/ba* -> /tmp/foo/.git/config      (does not match, should include)\n",
      "          /tmp/foo/ba* -> /tmp/foo/.git/description (does not match, should include)\n",
      "          /tmp/foo/ba* -> /tmp/foo/foo.txt          (does not match, should include)\n",
      "          /tmp/foo/ba* -> /tmp/foo/bar.txt  (matches, should exclude)\n",
      "          /tmp/foo/ba* -> /tmp/foo/baz.jpg  (matches, should exclude)\n",
      "\n",
      "       Note that, by default, \u001b[4mall\u001b[24m \u001b[4mfiles\u001b[24m \u001b[4mare\u001b[24m \u001b[4mincluded\u001b[24m.  This means that provid-\n",
      "       ing  \u001b[1monly  \u001b[22man  \u001b[1m--include  \u001b[22mfilter  will not change what files are trans-\n",
      "       ferred.  \u001b[1m--include \u001b[22mwill only re-include files that have  been  excluded\n",
      "       from an \u001b[1m--exclude \u001b[22mfilter.  If you only want to upload files with a par-\n",
      "       ticular extension, you need to first exclude all files, then re-include\n",
      "       the files with the particular extension.  This command will upload \u001b[1monly\u001b[0m\n",
      "       files ending with \u001b[1m.jpg\u001b[22m:\n",
      "\n",
      "          aws s3 cp /tmp/foo/ s3://bucket/ --recursive --exclude \"*\" --include \"*.jpg\"\n",
      "\n",
      "       If you wanted to include both \u001b[1m.jpg \u001b[22mfiles as well as \u001b[1m.txt \u001b[22mfiles you  can\n",
      "       run:\n",
      "\n",
      "          aws s3 cp /tmp/foo/ s3://bucket/ --recursive \\\n",
      "              --exclude \"*\" --include \"*.jpg\" --include \"*.txt\"\n",
      "\n",
      "       See 'aws help' for descriptions of global parameters.\n",
      "\n",
      "\u001b[1mSYNOPSIS\u001b[0m\n",
      "          aws s3 <Command> [<Arg> ...]\n",
      "\n",
      "\u001b[1mOPTIONS\u001b[0m\n",
      "       \u001b[4mNone\u001b[0m\n",
      "\n",
      "       See 'aws help' for descriptions of global parameters.\n",
      "\n",
      "\u001b[1mAVAILABLE COMMANDS\u001b[0m\n",
      "       o cp\n",
      "\n",
      "       o ls\n",
      "\n",
      "       o mb\n",
      "\n",
      "       o mv\n",
      "\n",
      "       o presign\n",
      "\n",
      "       o rb\n",
      "\n",
      "       o rm\n",
      "\n",
      "       o sync\n",
      "\n",
      "       o website\n",
      "\n",
      "\n",
      "\n",
      "                                                                          S3()\n"
     ]
    }
   ],
   "source": [
    "!aws s3 help"
   ]
  },
  {
   "cell_type": "code",
   "execution_count": 4,
   "metadata": {},
   "outputs": [
    {
     "name": "stdout",
     "output_type": "stream",
     "text": [
      "\n",
      "An error occurred (AccessDenied) when calling the ListObjectsV2 operation: Access Denied\n"
     ]
    }
   ],
   "source": [
    "!aws s3 ls s3://350-rekog-project"
   ]
  },
  {
   "cell_type": "code",
   "execution_count": 5,
   "metadata": {},
   "outputs": [],
   "source": [
    "import boto3"
   ]
  },
  {
   "cell_type": "code",
   "execution_count": 6,
   "metadata": {},
   "outputs": [],
   "source": [
    "client=boto3.client('rekognition')"
   ]
  },
  {
   "cell_type": "markdown",
   "metadata": {},
   "source": [
    "[beryl1](https://350-rekog-project.s3.amazonaws.com/beryl1.jpeg)"
   ]
  },
  {
   "cell_type": "markdown",
   "metadata": {},
   "source": [
    "[together1](https://350-rekog-project.s3.amazonaws.com/together1.jpeg)"
   ]
  },
  {
   "cell_type": "code",
   "execution_count": 7,
   "metadata": {},
   "outputs": [
    {
     "ename": "AccessDeniedException",
     "evalue": "An error occurred (AccessDeniedException) when calling the CompareFaces operation: User: arn:aws:sts::074181110198:assumed-role/AmazonSageMaker-ExecutionRole-20200911T012622/SageMaker is not authorized to perform: rekognition:CompareFaces",
     "output_type": "error",
     "traceback": [
      "\u001b[0;31m---------------------------------------------------------------------------\u001b[0m",
      "\u001b[0;31mAccessDeniedException\u001b[0m                     Traceback (most recent call last)",
      "\u001b[0;32m<ipython-input-7-420a65857ed9>\u001b[0m in \u001b[0;36m<module>\u001b[0;34m\u001b[0m\n\u001b[1;32m      1\u001b[0m response=client.compare_faces(SimilarityThreshold=80,\n\u001b[1;32m      2\u001b[0m                                   \u001b[0mSourceImage\u001b[0m\u001b[0;34m=\u001b[0m\u001b[0;34m{\u001b[0m\u001b[0;34m'S3Object'\u001b[0m\u001b[0;34m:\u001b[0m\u001b[0;34m{\u001b[0m\u001b[0;34m'Bucket'\u001b[0m\u001b[0;34m:\u001b[0m\u001b[0;34m\"350-rekog-project\"\u001b[0m\u001b[0;34m,\u001b[0m\u001b[0;34m'Name'\u001b[0m\u001b[0;34m:\u001b[0m\u001b[0;34m\"beryl1.jpeg\"\u001b[0m\u001b[0;34m}\u001b[0m\u001b[0;34m}\u001b[0m\u001b[0;34m,\u001b[0m\u001b[0;34m\u001b[0m\u001b[0;34m\u001b[0m\u001b[0m\n\u001b[0;32m----> 3\u001b[0;31m                                   TargetImage={'S3Object':{'Bucket':\"350-rekog-project\",'Name':\"together1.jpeg\"}})\n\u001b[0m",
      "\u001b[0;32m~/anaconda3/envs/amazonei_tensorflow2_p36/lib/python3.6/site-packages/botocore/client.py\u001b[0m in \u001b[0;36m_api_call\u001b[0;34m(self, *args, **kwargs)\u001b[0m\n\u001b[1;32m    355\u001b[0m                     \"%s() only accepts keyword arguments.\" % py_operation_name)\n\u001b[1;32m    356\u001b[0m             \u001b[0;31m# The \"self\" in this scope is referring to the BaseClient.\u001b[0m\u001b[0;34m\u001b[0m\u001b[0;34m\u001b[0m\u001b[0;34m\u001b[0m\u001b[0m\n\u001b[0;32m--> 357\u001b[0;31m             \u001b[0;32mreturn\u001b[0m \u001b[0mself\u001b[0m\u001b[0;34m.\u001b[0m\u001b[0m_make_api_call\u001b[0m\u001b[0;34m(\u001b[0m\u001b[0moperation_name\u001b[0m\u001b[0;34m,\u001b[0m \u001b[0mkwargs\u001b[0m\u001b[0;34m)\u001b[0m\u001b[0;34m\u001b[0m\u001b[0;34m\u001b[0m\u001b[0m\n\u001b[0m\u001b[1;32m    358\u001b[0m \u001b[0;34m\u001b[0m\u001b[0m\n\u001b[1;32m    359\u001b[0m         \u001b[0m_api_call\u001b[0m\u001b[0;34m.\u001b[0m\u001b[0m__name__\u001b[0m \u001b[0;34m=\u001b[0m \u001b[0mstr\u001b[0m\u001b[0;34m(\u001b[0m\u001b[0mpy_operation_name\u001b[0m\u001b[0;34m)\u001b[0m\u001b[0;34m\u001b[0m\u001b[0;34m\u001b[0m\u001b[0m\n",
      "\u001b[0;32m~/anaconda3/envs/amazonei_tensorflow2_p36/lib/python3.6/site-packages/botocore/client.py\u001b[0m in \u001b[0;36m_make_api_call\u001b[0;34m(self, operation_name, api_params)\u001b[0m\n\u001b[1;32m    674\u001b[0m             \u001b[0merror_code\u001b[0m \u001b[0;34m=\u001b[0m \u001b[0mparsed_response\u001b[0m\u001b[0;34m.\u001b[0m\u001b[0mget\u001b[0m\u001b[0;34m(\u001b[0m\u001b[0;34m\"Error\"\u001b[0m\u001b[0;34m,\u001b[0m \u001b[0;34m{\u001b[0m\u001b[0;34m}\u001b[0m\u001b[0;34m)\u001b[0m\u001b[0;34m.\u001b[0m\u001b[0mget\u001b[0m\u001b[0;34m(\u001b[0m\u001b[0;34m\"Code\"\u001b[0m\u001b[0;34m)\u001b[0m\u001b[0;34m\u001b[0m\u001b[0;34m\u001b[0m\u001b[0m\n\u001b[1;32m    675\u001b[0m             \u001b[0merror_class\u001b[0m \u001b[0;34m=\u001b[0m \u001b[0mself\u001b[0m\u001b[0;34m.\u001b[0m\u001b[0mexceptions\u001b[0m\u001b[0;34m.\u001b[0m\u001b[0mfrom_code\u001b[0m\u001b[0;34m(\u001b[0m\u001b[0merror_code\u001b[0m\u001b[0;34m)\u001b[0m\u001b[0;34m\u001b[0m\u001b[0;34m\u001b[0m\u001b[0m\n\u001b[0;32m--> 676\u001b[0;31m             \u001b[0;32mraise\u001b[0m \u001b[0merror_class\u001b[0m\u001b[0;34m(\u001b[0m\u001b[0mparsed_response\u001b[0m\u001b[0;34m,\u001b[0m \u001b[0moperation_name\u001b[0m\u001b[0;34m)\u001b[0m\u001b[0;34m\u001b[0m\u001b[0;34m\u001b[0m\u001b[0m\n\u001b[0m\u001b[1;32m    677\u001b[0m         \u001b[0;32melse\u001b[0m\u001b[0;34m:\u001b[0m\u001b[0;34m\u001b[0m\u001b[0;34m\u001b[0m\u001b[0m\n\u001b[1;32m    678\u001b[0m             \u001b[0;32mreturn\u001b[0m \u001b[0mparsed_response\u001b[0m\u001b[0;34m\u001b[0m\u001b[0;34m\u001b[0m\u001b[0m\n",
      "\u001b[0;31mAccessDeniedException\u001b[0m: An error occurred (AccessDeniedException) when calling the CompareFaces operation: User: arn:aws:sts::074181110198:assumed-role/AmazonSageMaker-ExecutionRole-20200911T012622/SageMaker is not authorized to perform: rekognition:CompareFaces"
     ]
    }
   ],
   "source": [
    "response=client.compare_faces(SimilarityThreshold=80,\n",
    "                                  SourceImage={'S3Object':{'Bucket':\"350-rekog-project\",'Name':\"beryl1.jpeg\"}},\n",
    "                                  TargetImage={'S3Object':{'Bucket':\"350-rekog-project\",'Name':\"together1.jpeg\"}})"
   ]
  },
  {
   "cell_type": "code",
   "execution_count": null,
   "metadata": {},
   "outputs": [],
   "source": [
    "for faceMatch in response['FaceMatches']:\n",
    "        position = faceMatch['Face']['BoundingBox']\n",
    "        similarity = str(faceMatch['Similarity'])\n",
    "        print('The face at ' +\n",
    "               str(position['Left']) + ' ' +\n",
    "               str(position['Top']) +\n",
    "               ' matches with ' + similarity + '% confidence')\n",
    "for faceNotMatch in response['UnmatchedFaces']:\n",
    "    position = faceNotMatch['BoundingBox']\n",
    "    confidence = str(faceNotMatch['Confidence'])\n",
    "    print('The face at ' +\n",
    "            str(position['Left']) + ' ' +\n",
    "            str(position['Top']) +\n",
    "            ' dose not match with ' + confidence + '% confidence')"
   ]
  },
  {
   "cell_type": "code",
   "execution_count": null,
   "metadata": {},
   "outputs": [],
   "source": [
    "response"
   ]
  },
  {
   "cell_type": "markdown",
   "metadata": {},
   "source": [
    "## Testing about twins"
   ]
  },
  {
   "cell_type": "code",
   "execution_count": 8,
   "metadata": {},
   "outputs": [],
   "source": [
    "import numpy as np\n",
    "import pandas as pd\n",
    "import s3fs\n",
    "fs = s3fs.S3FileSystem()"
   ]
  },
  {
   "cell_type": "markdown",
   "metadata": {},
   "source": [
    "function to extract similarity with beryl"
   ]
  },
  {
   "cell_type": "code",
   "execution_count": 9,
   "metadata": {},
   "outputs": [],
   "source": [
    "def extract_similarity(photo):\n",
    "    try:\n",
    "        similarity = []\n",
    "        comparison = client.compare_faces(\n",
    "            SourceImage= {'S3Object':{'Bucket':\"350-rekog-project\", 'Name':'beryl1.jpeg'}},\n",
    "            TargetImage = {'S3Object':{'Bucket':\"350-rekog-project\",'Name':photo}})\n",
    "        result = {}\n",
    "        i = 0\n",
    "        for faceMatch in comparison['FaceMatches']:\n",
    "            position = faceMatch['Face']['BoundingBox']\n",
    "            similarity = faceMatch['Similarity']\n",
    "            result[i] = {}\n",
    "            result[i]['similarity'] = similarity\n",
    "            result[i]['position'] = position['Left']\n",
    "            i+=1\n",
    "        \n",
    "    except Exception:\n",
    "        similarity = np.nan\n",
    "    return result\n"
   ]
  },
  {
   "cell_type": "code",
   "execution_count": 10,
   "metadata": {},
   "outputs": [
    {
     "ename": "UnboundLocalError",
     "evalue": "local variable 'result' referenced before assignment",
     "output_type": "error",
     "traceback": [
      "\u001b[0;31m---------------------------------------------------------------------------\u001b[0m",
      "\u001b[0;31mUnboundLocalError\u001b[0m                         Traceback (most recent call last)",
      "\u001b[0;32m<ipython-input-10-147419f74fa9>\u001b[0m in \u001b[0;36m<module>\u001b[0;34m\u001b[0m\n\u001b[1;32m      1\u001b[0m \u001b[0mtogether1\u001b[0m \u001b[0;34m=\u001b[0m \u001b[0;34m\"together1.jpeg\"\u001b[0m\u001b[0;34m\u001b[0m\u001b[0;34m\u001b[0m\u001b[0m\n\u001b[0;32m----> 2\u001b[0;31m \u001b[0mextract_similarity\u001b[0m\u001b[0;34m(\u001b[0m\u001b[0mtogether1\u001b[0m\u001b[0;34m)\u001b[0m\u001b[0;34m\u001b[0m\u001b[0;34m\u001b[0m\u001b[0m\n\u001b[0m",
      "\u001b[0;32m<ipython-input-9-918a715926b3>\u001b[0m in \u001b[0;36mextract_similarity\u001b[0;34m(photo)\u001b[0m\n\u001b[1;32m     17\u001b[0m     \u001b[0;32mexcept\u001b[0m \u001b[0mException\u001b[0m\u001b[0;34m:\u001b[0m\u001b[0;34m\u001b[0m\u001b[0;34m\u001b[0m\u001b[0m\n\u001b[1;32m     18\u001b[0m         \u001b[0msimilarity\u001b[0m \u001b[0;34m=\u001b[0m \u001b[0mnp\u001b[0m\u001b[0;34m.\u001b[0m\u001b[0mnan\u001b[0m\u001b[0;34m\u001b[0m\u001b[0;34m\u001b[0m\u001b[0m\n\u001b[0;32m---> 19\u001b[0;31m     \u001b[0;32mreturn\u001b[0m \u001b[0mresult\u001b[0m\u001b[0;34m\u001b[0m\u001b[0;34m\u001b[0m\u001b[0m\n\u001b[0m",
      "\u001b[0;31mUnboundLocalError\u001b[0m: local variable 'result' referenced before assignment"
     ]
    }
   ],
   "source": [
    "together1 = \"together1.jpeg\"\n",
    "extract_similarity(together1)"
   ]
  },
  {
   "cell_type": "markdown",
   "metadata": {},
   "source": [
    "Make a list of the photos"
   ]
  },
  {
   "cell_type": "code",
   "execution_count": 11,
   "metadata": {},
   "outputs": [
    {
     "ename": "ClientError",
     "evalue": "An error occurred (AccessDenied) when calling the ListObjects operation: Access Denied",
     "output_type": "error",
     "traceback": [
      "\u001b[0;31m---------------------------------------------------------------------------\u001b[0m",
      "\u001b[0;31mClientError\u001b[0m                               Traceback (most recent call last)",
      "\u001b[0;32m<ipython-input-11-9ccc7a4b6387>\u001b[0m in \u001b[0;36m<module>\u001b[0;34m\u001b[0m\n\u001b[1;32m      2\u001b[0m \u001b[0mmy_bucket\u001b[0m \u001b[0;34m=\u001b[0m \u001b[0ms3_resource\u001b[0m\u001b[0;34m.\u001b[0m\u001b[0mBucket\u001b[0m\u001b[0;34m(\u001b[0m\u001b[0;34m'350-rekog-project'\u001b[0m\u001b[0;34m)\u001b[0m\u001b[0;34m\u001b[0m\u001b[0;34m\u001b[0m\u001b[0m\n\u001b[1;32m      3\u001b[0m \u001b[0msummaries\u001b[0m \u001b[0;34m=\u001b[0m \u001b[0mmy_bucket\u001b[0m\u001b[0;34m.\u001b[0m\u001b[0mobjects\u001b[0m\u001b[0;34m.\u001b[0m\u001b[0mall\u001b[0m\u001b[0;34m(\u001b[0m\u001b[0;34m)\u001b[0m\u001b[0;34m\u001b[0m\u001b[0;34m\u001b[0m\u001b[0m\n\u001b[0;32m----> 4\u001b[0;31m \u001b[0mimage_names\u001b[0m \u001b[0;34m=\u001b[0m \u001b[0;34m[\u001b[0m\u001b[0mimage\u001b[0m\u001b[0;34m.\u001b[0m\u001b[0mkey\u001b[0m \u001b[0;32mfor\u001b[0m \u001b[0mimage\u001b[0m  \u001b[0;32min\u001b[0m \u001b[0msummaries\u001b[0m\u001b[0;34m]\u001b[0m\u001b[0;34m\u001b[0m\u001b[0;34m\u001b[0m\u001b[0m\n\u001b[0m\u001b[1;32m      5\u001b[0m \u001b[0mimage_names\u001b[0m\u001b[0;34m\u001b[0m\u001b[0;34m\u001b[0m\u001b[0m\n",
      "\u001b[0;32m<ipython-input-11-9ccc7a4b6387>\u001b[0m in \u001b[0;36m<listcomp>\u001b[0;34m(.0)\u001b[0m\n\u001b[1;32m      2\u001b[0m \u001b[0mmy_bucket\u001b[0m \u001b[0;34m=\u001b[0m \u001b[0ms3_resource\u001b[0m\u001b[0;34m.\u001b[0m\u001b[0mBucket\u001b[0m\u001b[0;34m(\u001b[0m\u001b[0;34m'350-rekog-project'\u001b[0m\u001b[0;34m)\u001b[0m\u001b[0;34m\u001b[0m\u001b[0;34m\u001b[0m\u001b[0m\n\u001b[1;32m      3\u001b[0m \u001b[0msummaries\u001b[0m \u001b[0;34m=\u001b[0m \u001b[0mmy_bucket\u001b[0m\u001b[0;34m.\u001b[0m\u001b[0mobjects\u001b[0m\u001b[0;34m.\u001b[0m\u001b[0mall\u001b[0m\u001b[0;34m(\u001b[0m\u001b[0;34m)\u001b[0m\u001b[0;34m\u001b[0m\u001b[0;34m\u001b[0m\u001b[0m\n\u001b[0;32m----> 4\u001b[0;31m \u001b[0mimage_names\u001b[0m \u001b[0;34m=\u001b[0m \u001b[0;34m[\u001b[0m\u001b[0mimage\u001b[0m\u001b[0;34m.\u001b[0m\u001b[0mkey\u001b[0m \u001b[0;32mfor\u001b[0m \u001b[0mimage\u001b[0m  \u001b[0;32min\u001b[0m \u001b[0msummaries\u001b[0m\u001b[0;34m]\u001b[0m\u001b[0;34m\u001b[0m\u001b[0;34m\u001b[0m\u001b[0m\n\u001b[0m\u001b[1;32m      5\u001b[0m \u001b[0mimage_names\u001b[0m\u001b[0;34m\u001b[0m\u001b[0;34m\u001b[0m\u001b[0m\n",
      "\u001b[0;32m~/anaconda3/envs/amazonei_tensorflow2_p36/lib/python3.6/site-packages/boto3/resources/collection.py\u001b[0m in \u001b[0;36m__iter__\u001b[0;34m(self)\u001b[0m\n\u001b[1;32m     81\u001b[0m \u001b[0;34m\u001b[0m\u001b[0m\n\u001b[1;32m     82\u001b[0m         \u001b[0mcount\u001b[0m \u001b[0;34m=\u001b[0m \u001b[0;36m0\u001b[0m\u001b[0;34m\u001b[0m\u001b[0;34m\u001b[0m\u001b[0m\n\u001b[0;32m---> 83\u001b[0;31m         \u001b[0;32mfor\u001b[0m \u001b[0mpage\u001b[0m \u001b[0;32min\u001b[0m \u001b[0mself\u001b[0m\u001b[0;34m.\u001b[0m\u001b[0mpages\u001b[0m\u001b[0;34m(\u001b[0m\u001b[0;34m)\u001b[0m\u001b[0;34m:\u001b[0m\u001b[0;34m\u001b[0m\u001b[0;34m\u001b[0m\u001b[0m\n\u001b[0m\u001b[1;32m     84\u001b[0m             \u001b[0;32mfor\u001b[0m \u001b[0mitem\u001b[0m \u001b[0;32min\u001b[0m \u001b[0mpage\u001b[0m\u001b[0;34m:\u001b[0m\u001b[0;34m\u001b[0m\u001b[0;34m\u001b[0m\u001b[0m\n\u001b[1;32m     85\u001b[0m                 \u001b[0;32myield\u001b[0m \u001b[0mitem\u001b[0m\u001b[0;34m\u001b[0m\u001b[0;34m\u001b[0m\u001b[0m\n",
      "\u001b[0;32m~/anaconda3/envs/amazonei_tensorflow2_p36/lib/python3.6/site-packages/boto3/resources/collection.py\u001b[0m in \u001b[0;36mpages\u001b[0;34m(self)\u001b[0m\n\u001b[1;32m    164\u001b[0m         \u001b[0;31m# we start processing and yielding individual items.\u001b[0m\u001b[0;34m\u001b[0m\u001b[0;34m\u001b[0m\u001b[0;34m\u001b[0m\u001b[0m\n\u001b[1;32m    165\u001b[0m         \u001b[0mcount\u001b[0m \u001b[0;34m=\u001b[0m \u001b[0;36m0\u001b[0m\u001b[0;34m\u001b[0m\u001b[0;34m\u001b[0m\u001b[0m\n\u001b[0;32m--> 166\u001b[0;31m         \u001b[0;32mfor\u001b[0m \u001b[0mpage\u001b[0m \u001b[0;32min\u001b[0m \u001b[0mpages\u001b[0m\u001b[0;34m:\u001b[0m\u001b[0;34m\u001b[0m\u001b[0;34m\u001b[0m\u001b[0m\n\u001b[0m\u001b[1;32m    167\u001b[0m             \u001b[0mpage_items\u001b[0m \u001b[0;34m=\u001b[0m \u001b[0;34m[\u001b[0m\u001b[0;34m]\u001b[0m\u001b[0;34m\u001b[0m\u001b[0;34m\u001b[0m\u001b[0m\n\u001b[1;32m    168\u001b[0m             \u001b[0;32mfor\u001b[0m \u001b[0mitem\u001b[0m \u001b[0;32min\u001b[0m \u001b[0mself\u001b[0m\u001b[0;34m.\u001b[0m\u001b[0m_handler\u001b[0m\u001b[0;34m(\u001b[0m\u001b[0mself\u001b[0m\u001b[0;34m.\u001b[0m\u001b[0m_parent\u001b[0m\u001b[0;34m,\u001b[0m \u001b[0mparams\u001b[0m\u001b[0;34m,\u001b[0m \u001b[0mpage\u001b[0m\u001b[0;34m)\u001b[0m\u001b[0;34m:\u001b[0m\u001b[0;34m\u001b[0m\u001b[0;34m\u001b[0m\u001b[0m\n",
      "\u001b[0;32m~/anaconda3/envs/amazonei_tensorflow2_p36/lib/python3.6/site-packages/botocore/paginate.py\u001b[0m in \u001b[0;36m__iter__\u001b[0;34m(self)\u001b[0m\n\u001b[1;32m    253\u001b[0m         \u001b[0mself\u001b[0m\u001b[0;34m.\u001b[0m\u001b[0m_inject_starting_params\u001b[0m\u001b[0;34m(\u001b[0m\u001b[0mcurrent_kwargs\u001b[0m\u001b[0;34m)\u001b[0m\u001b[0;34m\u001b[0m\u001b[0;34m\u001b[0m\u001b[0m\n\u001b[1;32m    254\u001b[0m         \u001b[0;32mwhile\u001b[0m \u001b[0;32mTrue\u001b[0m\u001b[0;34m:\u001b[0m\u001b[0;34m\u001b[0m\u001b[0;34m\u001b[0m\u001b[0m\n\u001b[0;32m--> 255\u001b[0;31m             \u001b[0mresponse\u001b[0m \u001b[0;34m=\u001b[0m \u001b[0mself\u001b[0m\u001b[0;34m.\u001b[0m\u001b[0m_make_request\u001b[0m\u001b[0;34m(\u001b[0m\u001b[0mcurrent_kwargs\u001b[0m\u001b[0;34m)\u001b[0m\u001b[0;34m\u001b[0m\u001b[0;34m\u001b[0m\u001b[0m\n\u001b[0m\u001b[1;32m    256\u001b[0m             \u001b[0mparsed\u001b[0m \u001b[0;34m=\u001b[0m \u001b[0mself\u001b[0m\u001b[0;34m.\u001b[0m\u001b[0m_extract_parsed_response\u001b[0m\u001b[0;34m(\u001b[0m\u001b[0mresponse\u001b[0m\u001b[0;34m)\u001b[0m\u001b[0;34m\u001b[0m\u001b[0;34m\u001b[0m\u001b[0m\n\u001b[1;32m    257\u001b[0m             \u001b[0;32mif\u001b[0m \u001b[0mfirst_request\u001b[0m\u001b[0;34m:\u001b[0m\u001b[0;34m\u001b[0m\u001b[0;34m\u001b[0m\u001b[0m\n",
      "\u001b[0;32m~/anaconda3/envs/amazonei_tensorflow2_p36/lib/python3.6/site-packages/botocore/paginate.py\u001b[0m in \u001b[0;36m_make_request\u001b[0;34m(self, current_kwargs)\u001b[0m\n\u001b[1;32m    330\u001b[0m \u001b[0;34m\u001b[0m\u001b[0m\n\u001b[1;32m    331\u001b[0m     \u001b[0;32mdef\u001b[0m \u001b[0m_make_request\u001b[0m\u001b[0;34m(\u001b[0m\u001b[0mself\u001b[0m\u001b[0;34m,\u001b[0m \u001b[0mcurrent_kwargs\u001b[0m\u001b[0;34m)\u001b[0m\u001b[0;34m:\u001b[0m\u001b[0;34m\u001b[0m\u001b[0;34m\u001b[0m\u001b[0m\n\u001b[0;32m--> 332\u001b[0;31m         \u001b[0;32mreturn\u001b[0m \u001b[0mself\u001b[0m\u001b[0;34m.\u001b[0m\u001b[0m_method\u001b[0m\u001b[0;34m(\u001b[0m\u001b[0;34m**\u001b[0m\u001b[0mcurrent_kwargs\u001b[0m\u001b[0;34m)\u001b[0m\u001b[0;34m\u001b[0m\u001b[0;34m\u001b[0m\u001b[0m\n\u001b[0m\u001b[1;32m    333\u001b[0m \u001b[0;34m\u001b[0m\u001b[0m\n\u001b[1;32m    334\u001b[0m     \u001b[0;32mdef\u001b[0m \u001b[0m_extract_parsed_response\u001b[0m\u001b[0;34m(\u001b[0m\u001b[0mself\u001b[0m\u001b[0;34m,\u001b[0m \u001b[0mresponse\u001b[0m\u001b[0;34m)\u001b[0m\u001b[0;34m:\u001b[0m\u001b[0;34m\u001b[0m\u001b[0;34m\u001b[0m\u001b[0m\n",
      "\u001b[0;32m~/anaconda3/envs/amazonei_tensorflow2_p36/lib/python3.6/site-packages/botocore/client.py\u001b[0m in \u001b[0;36m_api_call\u001b[0;34m(self, *args, **kwargs)\u001b[0m\n\u001b[1;32m    355\u001b[0m                     \"%s() only accepts keyword arguments.\" % py_operation_name)\n\u001b[1;32m    356\u001b[0m             \u001b[0;31m# The \"self\" in this scope is referring to the BaseClient.\u001b[0m\u001b[0;34m\u001b[0m\u001b[0;34m\u001b[0m\u001b[0;34m\u001b[0m\u001b[0m\n\u001b[0;32m--> 357\u001b[0;31m             \u001b[0;32mreturn\u001b[0m \u001b[0mself\u001b[0m\u001b[0;34m.\u001b[0m\u001b[0m_make_api_call\u001b[0m\u001b[0;34m(\u001b[0m\u001b[0moperation_name\u001b[0m\u001b[0;34m,\u001b[0m \u001b[0mkwargs\u001b[0m\u001b[0;34m)\u001b[0m\u001b[0;34m\u001b[0m\u001b[0;34m\u001b[0m\u001b[0m\n\u001b[0m\u001b[1;32m    358\u001b[0m \u001b[0;34m\u001b[0m\u001b[0m\n\u001b[1;32m    359\u001b[0m         \u001b[0m_api_call\u001b[0m\u001b[0;34m.\u001b[0m\u001b[0m__name__\u001b[0m \u001b[0;34m=\u001b[0m \u001b[0mstr\u001b[0m\u001b[0;34m(\u001b[0m\u001b[0mpy_operation_name\u001b[0m\u001b[0;34m)\u001b[0m\u001b[0;34m\u001b[0m\u001b[0;34m\u001b[0m\u001b[0m\n",
      "\u001b[0;32m~/anaconda3/envs/amazonei_tensorflow2_p36/lib/python3.6/site-packages/botocore/client.py\u001b[0m in \u001b[0;36m_make_api_call\u001b[0;34m(self, operation_name, api_params)\u001b[0m\n\u001b[1;32m    674\u001b[0m             \u001b[0merror_code\u001b[0m \u001b[0;34m=\u001b[0m \u001b[0mparsed_response\u001b[0m\u001b[0;34m.\u001b[0m\u001b[0mget\u001b[0m\u001b[0;34m(\u001b[0m\u001b[0;34m\"Error\"\u001b[0m\u001b[0;34m,\u001b[0m \u001b[0;34m{\u001b[0m\u001b[0;34m}\u001b[0m\u001b[0;34m)\u001b[0m\u001b[0;34m.\u001b[0m\u001b[0mget\u001b[0m\u001b[0;34m(\u001b[0m\u001b[0;34m\"Code\"\u001b[0m\u001b[0;34m)\u001b[0m\u001b[0;34m\u001b[0m\u001b[0;34m\u001b[0m\u001b[0m\n\u001b[1;32m    675\u001b[0m             \u001b[0merror_class\u001b[0m \u001b[0;34m=\u001b[0m \u001b[0mself\u001b[0m\u001b[0;34m.\u001b[0m\u001b[0mexceptions\u001b[0m\u001b[0;34m.\u001b[0m\u001b[0mfrom_code\u001b[0m\u001b[0;34m(\u001b[0m\u001b[0merror_code\u001b[0m\u001b[0;34m)\u001b[0m\u001b[0;34m\u001b[0m\u001b[0;34m\u001b[0m\u001b[0m\n\u001b[0;32m--> 676\u001b[0;31m             \u001b[0;32mraise\u001b[0m \u001b[0merror_class\u001b[0m\u001b[0;34m(\u001b[0m\u001b[0mparsed_response\u001b[0m\u001b[0;34m,\u001b[0m \u001b[0moperation_name\u001b[0m\u001b[0;34m)\u001b[0m\u001b[0;34m\u001b[0m\u001b[0;34m\u001b[0m\u001b[0m\n\u001b[0m\u001b[1;32m    677\u001b[0m         \u001b[0;32melse\u001b[0m\u001b[0;34m:\u001b[0m\u001b[0;34m\u001b[0m\u001b[0;34m\u001b[0m\u001b[0m\n\u001b[1;32m    678\u001b[0m             \u001b[0;32mreturn\u001b[0m \u001b[0mparsed_response\u001b[0m\u001b[0;34m\u001b[0m\u001b[0;34m\u001b[0m\u001b[0m\n",
      "\u001b[0;31mClientError\u001b[0m: An error occurred (AccessDenied) when calling the ListObjects operation: Access Denied"
     ]
    }
   ],
   "source": [
    "s3_resource = boto3.resource('s3')\n",
    "my_bucket = s3_resource.Bucket('350-rekog-project')\n",
    "summaries = my_bucket.objects.all()\n",
    "image_names = [image.key for image  in summaries]\n",
    "image_names"
   ]
  },
  {
   "cell_type": "code",
   "execution_count": 12,
   "metadata": {},
   "outputs": [
    {
     "ename": "NameError",
     "evalue": "name 'image_names' is not defined",
     "output_type": "error",
     "traceback": [
      "\u001b[0;31m---------------------------------------------------------------------------\u001b[0m",
      "\u001b[0;31mNameError\u001b[0m                                 Traceback (most recent call last)",
      "\u001b[0;32m<ipython-input-12-076878c438d1>\u001b[0m in \u001b[0;36m<module>\u001b[0;34m\u001b[0m\n\u001b[0;32m----> 1\u001b[0;31m \u001b[0mtogether\u001b[0m \u001b[0;34m=\u001b[0m \u001b[0mimage_names\u001b[0m\u001b[0;34m[\u001b[0m\u001b[0;34m-\u001b[0m\u001b[0;36m6\u001b[0m\u001b[0;34m:\u001b[0m\u001b[0;34m]\u001b[0m\u001b[0;34m\u001b[0m\u001b[0;34m\u001b[0m\u001b[0m\n\u001b[0m\u001b[1;32m      2\u001b[0m \u001b[0mtogether\u001b[0m\u001b[0;34m\u001b[0m\u001b[0;34m\u001b[0m\u001b[0m\n",
      "\u001b[0;31mNameError\u001b[0m: name 'image_names' is not defined"
     ]
    }
   ],
   "source": [
    "together = image_names[-6:]\n",
    "together"
   ]
  },
  {
   "cell_type": "code",
   "execution_count": 13,
   "metadata": {},
   "outputs": [
    {
     "ename": "NameError",
     "evalue": "name 'together' is not defined",
     "output_type": "error",
     "traceback": [
      "\u001b[0;31m---------------------------------------------------------------------------\u001b[0m",
      "\u001b[0;31mNameError\u001b[0m                                 Traceback (most recent call last)",
      "\u001b[0;32m<ipython-input-13-31810854552a>\u001b[0m in \u001b[0;36m<module>\u001b[0;34m\u001b[0m\n\u001b[0;32m----> 1\u001b[0;31m \u001b[0mtogetherDF\u001b[0m \u001b[0;34m=\u001b[0m \u001b[0mpd\u001b[0m\u001b[0;34m.\u001b[0m\u001b[0mDataFrame\u001b[0m\u001b[0;34m(\u001b[0m\u001b[0;34m{\u001b[0m\u001b[0;34m'Name'\u001b[0m\u001b[0;34m:\u001b[0m \u001b[0mtogether\u001b[0m\u001b[0;34m}\u001b[0m\u001b[0;34m)\u001b[0m\u001b[0;34m\u001b[0m\u001b[0;34m\u001b[0m\u001b[0m\n\u001b[0m",
      "\u001b[0;31mNameError\u001b[0m: name 'together' is not defined"
     ]
    }
   ],
   "source": [
    "togetherDF = pd.DataFrame({'Name': together})"
   ]
  },
  {
   "cell_type": "code",
   "execution_count": 14,
   "metadata": {},
   "outputs": [
    {
     "ename": "NameError",
     "evalue": "name 'together' is not defined",
     "output_type": "error",
     "traceback": [
      "\u001b[0;31m---------------------------------------------------------------------------\u001b[0m",
      "\u001b[0;31mNameError\u001b[0m                                 Traceback (most recent call last)",
      "\u001b[0;32m<ipython-input-14-8a51ff122065>\u001b[0m in \u001b[0;36m<module>\u001b[0;34m\u001b[0m\n\u001b[1;32m      3\u001b[0m \u001b[0mhigherPosition\u001b[0m \u001b[0;34m=\u001b[0m \u001b[0;34m[\u001b[0m\u001b[0;34m]\u001b[0m\u001b[0;34m\u001b[0m\u001b[0;34m\u001b[0m\u001b[0m\n\u001b[1;32m      4\u001b[0m \u001b[0mlowerPosition\u001b[0m \u001b[0;34m=\u001b[0m \u001b[0;34m[\u001b[0m\u001b[0;34m]\u001b[0m\u001b[0;34m\u001b[0m\u001b[0;34m\u001b[0m\u001b[0m\n\u001b[0;32m----> 5\u001b[0;31m \u001b[0;32mfor\u001b[0m \u001b[0mphoto\u001b[0m \u001b[0;32min\u001b[0m \u001b[0mtogether\u001b[0m\u001b[0;34m:\u001b[0m\u001b[0;34m\u001b[0m\u001b[0;34m\u001b[0m\u001b[0m\n\u001b[0m\u001b[1;32m      6\u001b[0m     \u001b[0mresult\u001b[0m \u001b[0;34m=\u001b[0m \u001b[0mextract_similarity\u001b[0m\u001b[0;34m(\u001b[0m\u001b[0mphoto\u001b[0m\u001b[0;34m)\u001b[0m\u001b[0;34m\u001b[0m\u001b[0;34m\u001b[0m\u001b[0m\n\u001b[1;32m      7\u001b[0m     \u001b[0mhigherSimilarity\u001b[0m\u001b[0;34m.\u001b[0m\u001b[0mappend\u001b[0m\u001b[0;34m(\u001b[0m\u001b[0mresult\u001b[0m\u001b[0;34m[\u001b[0m\u001b[0;36m0\u001b[0m\u001b[0;34m]\u001b[0m\u001b[0;34m[\u001b[0m\u001b[0;34m'similarity'\u001b[0m\u001b[0;34m]\u001b[0m\u001b[0;34m)\u001b[0m\u001b[0;34m\u001b[0m\u001b[0;34m\u001b[0m\u001b[0m\n",
      "\u001b[0;31mNameError\u001b[0m: name 'together' is not defined"
     ]
    }
   ],
   "source": [
    "higherSimilarity = []\n",
    "lowerSimilarity = []\n",
    "higherPosition = []\n",
    "lowerPosition = []\n",
    "for photo in together:\n",
    "    result = extract_similarity(photo)\n",
    "    higherSimilarity.append(result[0]['similarity'])\n",
    "    lowerSimilarity.append(result[1]['similarity'])\n",
    "    higherPosition.append(result[0]['position'])\n",
    "    lowerPosition.append(result[1]['position'])"
   ]
  },
  {
   "cell_type": "code",
   "execution_count": 15,
   "metadata": {},
   "outputs": [
    {
     "ename": "NameError",
     "evalue": "name 'togetherDF' is not defined",
     "output_type": "error",
     "traceback": [
      "\u001b[0;31m---------------------------------------------------------------------------\u001b[0m",
      "\u001b[0;31mNameError\u001b[0m                                 Traceback (most recent call last)",
      "\u001b[0;32m<ipython-input-15-bae8abeb7425>\u001b[0m in \u001b[0;36m<module>\u001b[0;34m\u001b[0m\n\u001b[0;32m----> 1\u001b[0;31m \u001b[0mtogetherDF\u001b[0m\u001b[0;34m[\u001b[0m\u001b[0;34m'higherSimilarity'\u001b[0m\u001b[0;34m]\u001b[0m \u001b[0;34m=\u001b[0m \u001b[0mhigherSimilarity\u001b[0m\u001b[0;34m\u001b[0m\u001b[0;34m\u001b[0m\u001b[0m\n\u001b[0m\u001b[1;32m      2\u001b[0m \u001b[0mtogetherDF\u001b[0m\u001b[0;34m[\u001b[0m\u001b[0;34m'lowerSimilarity'\u001b[0m\u001b[0;34m]\u001b[0m \u001b[0;34m=\u001b[0m \u001b[0mlowerSimilarity\u001b[0m\u001b[0;34m\u001b[0m\u001b[0;34m\u001b[0m\u001b[0m\n\u001b[1;32m      3\u001b[0m \u001b[0mtogetherDF\u001b[0m\u001b[0;34m[\u001b[0m\u001b[0;34m'higherPosition'\u001b[0m\u001b[0;34m]\u001b[0m \u001b[0;34m=\u001b[0m \u001b[0mhigherPosition\u001b[0m\u001b[0;34m\u001b[0m\u001b[0;34m\u001b[0m\u001b[0m\n\u001b[1;32m      4\u001b[0m \u001b[0mtogetherDF\u001b[0m\u001b[0;34m[\u001b[0m\u001b[0;34m'lowerPosition'\u001b[0m\u001b[0;34m]\u001b[0m \u001b[0;34m=\u001b[0m \u001b[0mlowerPosition\u001b[0m\u001b[0;34m\u001b[0m\u001b[0;34m\u001b[0m\u001b[0m\n",
      "\u001b[0;31mNameError\u001b[0m: name 'togetherDF' is not defined"
     ]
    }
   ],
   "source": [
    "togetherDF['higherSimilarity'] = higherSimilarity\n",
    "togetherDF['lowerSimilarity'] = lowerSimilarity\n",
    "togetherDF['higherPosition'] = higherPosition\n",
    "togetherDF['lowerPosition'] = lowerPosition"
   ]
  },
  {
   "cell_type": "code",
   "execution_count": 16,
   "metadata": {},
   "outputs": [
    {
     "ename": "NameError",
     "evalue": "name 'togetherDF' is not defined",
     "output_type": "error",
     "traceback": [
      "\u001b[0;31m---------------------------------------------------------------------------\u001b[0m",
      "\u001b[0;31mNameError\u001b[0m                                 Traceback (most recent call last)",
      "\u001b[0;32m<ipython-input-16-2dc552a1acd4>\u001b[0m in \u001b[0;36m<module>\u001b[0;34m\u001b[0m\n\u001b[0;32m----> 1\u001b[0;31m \u001b[0mtogetherDF\u001b[0m\u001b[0;34m\u001b[0m\u001b[0;34m\u001b[0m\u001b[0m\n\u001b[0m",
      "\u001b[0;31mNameError\u001b[0m: name 'togetherDF' is not defined"
     ]
    }
   ],
   "source": [
    "togetherDF"
   ]
  },
  {
   "cell_type": "markdown",
   "metadata": {},
   "source": [
    "Then we will look at the photo and identify the twins by ourself.\n",
    "0 means beryl is on the left, 1 means beryl is on the right"
   ]
  },
  {
   "cell_type": "code",
   "execution_count": 17,
   "metadata": {},
   "outputs": [],
   "source": [
    "berylPos = [1,0,0,0,0,1]"
   ]
  },
  {
   "cell_type": "code",
   "execution_count": 18,
   "metadata": {},
   "outputs": [
    {
     "ename": "NameError",
     "evalue": "name 'togetherDF' is not defined",
     "output_type": "error",
     "traceback": [
      "\u001b[0;31m---------------------------------------------------------------------------\u001b[0m",
      "\u001b[0;31mNameError\u001b[0m                                 Traceback (most recent call last)",
      "\u001b[0;32m<ipython-input-18-d0ff80aa403c>\u001b[0m in \u001b[0;36m<module>\u001b[0;34m\u001b[0m\n\u001b[1;32m      1\u001b[0m \u001b[0mcorrectness\u001b[0m \u001b[0;34m=\u001b[0m \u001b[0;34m[\u001b[0m\u001b[0;34m]\u001b[0m\u001b[0;34m\u001b[0m\u001b[0;34m\u001b[0m\u001b[0m\n\u001b[0;32m----> 2\u001b[0;31m \u001b[0;32mfor\u001b[0m \u001b[0mi\u001b[0m \u001b[0;32min\u001b[0m \u001b[0mrange\u001b[0m\u001b[0;34m(\u001b[0m\u001b[0mtogetherDF\u001b[0m\u001b[0;34m.\u001b[0m\u001b[0mshape\u001b[0m\u001b[0;34m[\u001b[0m\u001b[0;36m0\u001b[0m\u001b[0;34m]\u001b[0m\u001b[0;34m)\u001b[0m\u001b[0;34m:\u001b[0m\u001b[0;34m\u001b[0m\u001b[0;34m\u001b[0m\u001b[0m\n\u001b[0m\u001b[1;32m      3\u001b[0m     \u001b[0;32mif\u001b[0m \u001b[0mtogetherDF\u001b[0m\u001b[0;34m.\u001b[0m\u001b[0mloc\u001b[0m\u001b[0;34m[\u001b[0m\u001b[0mi\u001b[0m\u001b[0;34m]\u001b[0m\u001b[0;34m[\u001b[0m\u001b[0;34m'higherPosition'\u001b[0m\u001b[0;34m]\u001b[0m \u001b[0;34m<\u001b[0m \u001b[0mtogetherDF\u001b[0m\u001b[0;34m.\u001b[0m\u001b[0mloc\u001b[0m\u001b[0;34m[\u001b[0m\u001b[0mi\u001b[0m\u001b[0;34m]\u001b[0m\u001b[0;34m[\u001b[0m\u001b[0;34m'lowerPosition'\u001b[0m\u001b[0;34m]\u001b[0m \u001b[0;32mand\u001b[0m \u001b[0mberylPos\u001b[0m\u001b[0;34m[\u001b[0m\u001b[0mi\u001b[0m\u001b[0;34m]\u001b[0m \u001b[0;34m==\u001b[0m \u001b[0;36m0\u001b[0m\u001b[0;34m:\u001b[0m\u001b[0;34m\u001b[0m\u001b[0;34m\u001b[0m\u001b[0m\n\u001b[1;32m      4\u001b[0m                          \u001b[0mcorrectness\u001b[0m\u001b[0;34m.\u001b[0m\u001b[0mappend\u001b[0m\u001b[0;34m(\u001b[0m\u001b[0;36m0\u001b[0m\u001b[0;34m)\u001b[0m\u001b[0;34m\u001b[0m\u001b[0;34m\u001b[0m\u001b[0m\n\u001b[1;32m      5\u001b[0m     \u001b[0;32melif\u001b[0m \u001b[0mtogetherDF\u001b[0m\u001b[0;34m.\u001b[0m\u001b[0mloc\u001b[0m\u001b[0;34m[\u001b[0m\u001b[0mi\u001b[0m\u001b[0;34m]\u001b[0m\u001b[0;34m[\u001b[0m\u001b[0;34m'higherPosition'\u001b[0m\u001b[0;34m]\u001b[0m \u001b[0;34m>\u001b[0m \u001b[0mtogetherDF\u001b[0m\u001b[0;34m.\u001b[0m\u001b[0mloc\u001b[0m\u001b[0;34m[\u001b[0m\u001b[0mi\u001b[0m\u001b[0;34m]\u001b[0m\u001b[0;34m[\u001b[0m\u001b[0;34m'lowerPosition'\u001b[0m\u001b[0;34m]\u001b[0m \u001b[0;32mand\u001b[0m \u001b[0mberylPos\u001b[0m\u001b[0;34m[\u001b[0m\u001b[0mi\u001b[0m\u001b[0;34m]\u001b[0m \u001b[0;34m==\u001b[0m \u001b[0;36m1\u001b[0m\u001b[0;34m:\u001b[0m\u001b[0;34m\u001b[0m\u001b[0;34m\u001b[0m\u001b[0m\n",
      "\u001b[0;31mNameError\u001b[0m: name 'togetherDF' is not defined"
     ]
    }
   ],
   "source": [
    "correctness = []\n",
    "for i in range(togetherDF.shape[0]):\n",
    "    if togetherDF.loc[i]['higherPosition'] < togetherDF.loc[i]['lowerPosition'] and berylPos[i] == 0:\n",
    "                         correctness.append(0)\n",
    "    elif togetherDF.loc[i]['higherPosition'] > togetherDF.loc[i]['lowerPosition'] and berylPos[i] == 1:\n",
    "                           correctness.append(0)\n",
    "    else:\n",
    "                           correctness.append(0)\n"
   ]
  },
  {
   "cell_type": "code",
   "execution_count": 19,
   "metadata": {},
   "outputs": [
    {
     "ename": "NameError",
     "evalue": "name 'togetherDF' is not defined",
     "output_type": "error",
     "traceback": [
      "\u001b[0;31m---------------------------------------------------------------------------\u001b[0m",
      "\u001b[0;31mNameError\u001b[0m                                 Traceback (most recent call last)",
      "\u001b[0;32m<ipython-input-19-632a384f526a>\u001b[0m in \u001b[0;36m<module>\u001b[0;34m\u001b[0m\n\u001b[0;32m----> 1\u001b[0;31m \u001b[0mtogetherDF\u001b[0m\u001b[0;34m[\u001b[0m\u001b[0;34m'correctness'\u001b[0m\u001b[0;34m]\u001b[0m \u001b[0;34m=\u001b[0m \u001b[0mcorrectness\u001b[0m\u001b[0;34m\u001b[0m\u001b[0;34m\u001b[0m\u001b[0m\n\u001b[0m",
      "\u001b[0;31mNameError\u001b[0m: name 'togetherDF' is not defined"
     ]
    }
   ],
   "source": [
    "togetherDF['correctness'] = correctness"
   ]
  },
  {
   "cell_type": "code",
   "execution_count": 20,
   "metadata": {},
   "outputs": [
    {
     "ename": "NameError",
     "evalue": "name 'togetherDF' is not defined",
     "output_type": "error",
     "traceback": [
      "\u001b[0;31m---------------------------------------------------------------------------\u001b[0m",
      "\u001b[0;31mNameError\u001b[0m                                 Traceback (most recent call last)",
      "\u001b[0;32m<ipython-input-20-2dc552a1acd4>\u001b[0m in \u001b[0;36m<module>\u001b[0;34m\u001b[0m\n\u001b[0;32m----> 1\u001b[0;31m \u001b[0mtogetherDF\u001b[0m\u001b[0;34m\u001b[0m\u001b[0;34m\u001b[0m\u001b[0m\n\u001b[0m",
      "\u001b[0;31mNameError\u001b[0m: name 'togetherDF' is not defined"
     ]
    }
   ],
   "source": [
    "togetherDF"
   ]
  },
  {
   "cell_type": "code",
   "execution_count": 21,
   "metadata": {},
   "outputs": [
    {
     "ename": "NameError",
     "evalue": "name 'togetherDF' is not defined",
     "output_type": "error",
     "traceback": [
      "\u001b[0;31m---------------------------------------------------------------------------\u001b[0m",
      "\u001b[0;31mNameError\u001b[0m                                 Traceback (most recent call last)",
      "\u001b[0;32m<ipython-input-21-2c5ad2730096>\u001b[0m in \u001b[0;36m<module>\u001b[0;34m\u001b[0m\n\u001b[0;32m----> 1\u001b[0;31m \u001b[0msum\u001b[0m\u001b[0;34m(\u001b[0m\u001b[0mtogetherDF\u001b[0m\u001b[0;34m[\u001b[0m\u001b[0;34m'correctness'\u001b[0m\u001b[0;34m]\u001b[0m\u001b[0;34m)\u001b[0m\u001b[0;34m==\u001b[0m\u001b[0;36m0\u001b[0m\u001b[0;34m\u001b[0m\u001b[0;34m\u001b[0m\u001b[0m\n\u001b[0m",
      "\u001b[0;31mNameError\u001b[0m: name 'togetherDF' is not defined"
     ]
    }
   ],
   "source": [
    "sum(togetherDF['correctness'])==0"
   ]
  },
  {
   "cell_type": "markdown",
   "metadata": {},
   "source": [
    "We can see that though AWS rocognize both Amber and Beryl as Beryl, but it successfully assign higher similarity scores for beryl. We will next see the distribution of their similarity scores."
   ]
  },
  {
   "cell_type": "code",
   "execution_count": 22,
   "metadata": {},
   "outputs": [
    {
     "ename": "NameError",
     "evalue": "name 'togetherDF' is not defined",
     "output_type": "error",
     "traceback": [
      "\u001b[0;31m---------------------------------------------------------------------------\u001b[0m",
      "\u001b[0;31mNameError\u001b[0m                                 Traceback (most recent call last)",
      "\u001b[0;32m<ipython-input-22-1f7447ac88c9>\u001b[0m in \u001b[0;36m<module>\u001b[0;34m\u001b[0m\n\u001b[0;32m----> 1\u001b[0;31m \u001b[0mboxplot\u001b[0m \u001b[0;34m=\u001b[0m \u001b[0mtogetherDF\u001b[0m\u001b[0;34m.\u001b[0m\u001b[0mboxplot\u001b[0m\u001b[0;34m(\u001b[0m\u001b[0mcolumn\u001b[0m \u001b[0;34m=\u001b[0m \u001b[0;34m[\u001b[0m\u001b[0;34m'higherSimilarity'\u001b[0m\u001b[0;34m,\u001b[0m \u001b[0;34m'lowerSimilarity'\u001b[0m\u001b[0;34m]\u001b[0m\u001b[0;34m)\u001b[0m\u001b[0;34m\u001b[0m\u001b[0;34m\u001b[0m\u001b[0m\n\u001b[0m",
      "\u001b[0;31mNameError\u001b[0m: name 'togetherDF' is not defined"
     ]
    }
   ],
   "source": [
    "boxplot = togetherDF.boxplot(column = ['higherSimilarity', 'lowerSimilarity'])"
   ]
  },
  {
   "cell_type": "markdown",
   "metadata": {},
   "source": [
    "From the boxplot, we can see that AWS identifies beryl with similarity scores higher than 99.5 overall and the range is tiny, while the similarity scores between beryl and amber is overall lower and the range is wider. In other words, AWS actually performs very well on identifying twins as it gives overall higher similarity scores for the correct person."
   ]
  },
  {
   "cell_type": "markdown",
   "metadata": {},
   "source": [
    "We can also tune the parameter of the function compare_faces by setting the SimilarityThreshold very high (i.e. 99.5), then we may be able to identify only one person in the photo as beryl."
   ]
  },
  {
   "cell_type": "code",
   "execution_count": 23,
   "metadata": {},
   "outputs": [
    {
     "ename": "AccessDeniedException",
     "evalue": "An error occurred (AccessDeniedException) when calling the CompareFaces operation: User: arn:aws:sts::074181110198:assumed-role/AmazonSageMaker-ExecutionRole-20200911T012622/SageMaker is not authorized to perform: rekognition:CompareFaces",
     "output_type": "error",
     "traceback": [
      "\u001b[0;31m---------------------------------------------------------------------------\u001b[0m",
      "\u001b[0;31mAccessDeniedException\u001b[0m                     Traceback (most recent call last)",
      "\u001b[0;32m<ipython-input-23-cc7b1bed861f>\u001b[0m in \u001b[0;36m<module>\u001b[0;34m\u001b[0m\n\u001b[1;32m      1\u001b[0m response=client.compare_faces(SimilarityThreshold=99.5,\n\u001b[1;32m      2\u001b[0m                                   \u001b[0mSourceImage\u001b[0m\u001b[0;34m=\u001b[0m\u001b[0;34m{\u001b[0m\u001b[0;34m'S3Object'\u001b[0m\u001b[0;34m:\u001b[0m\u001b[0;34m{\u001b[0m\u001b[0;34m'Bucket'\u001b[0m\u001b[0;34m:\u001b[0m\u001b[0;34m\"350-rekog-project\"\u001b[0m\u001b[0;34m,\u001b[0m\u001b[0;34m'Name'\u001b[0m\u001b[0;34m:\u001b[0m\u001b[0;34m\"beryl1.jpeg\"\u001b[0m\u001b[0;34m}\u001b[0m\u001b[0;34m}\u001b[0m\u001b[0;34m,\u001b[0m\u001b[0;34m\u001b[0m\u001b[0;34m\u001b[0m\u001b[0m\n\u001b[0;32m----> 3\u001b[0;31m                                   TargetImage={'S3Object':{'Bucket':\"350-rekog-project\",'Name':\"together1.jpeg\"}})\n\u001b[0m\u001b[1;32m      4\u001b[0m \u001b[0;32mfor\u001b[0m \u001b[0mfaceMatch\u001b[0m \u001b[0;32min\u001b[0m \u001b[0mresponse\u001b[0m\u001b[0;34m[\u001b[0m\u001b[0;34m'FaceMatches'\u001b[0m\u001b[0;34m]\u001b[0m\u001b[0;34m:\u001b[0m\u001b[0;34m\u001b[0m\u001b[0;34m\u001b[0m\u001b[0m\n\u001b[1;32m      5\u001b[0m         \u001b[0mposition\u001b[0m \u001b[0;34m=\u001b[0m \u001b[0mfaceMatch\u001b[0m\u001b[0;34m[\u001b[0m\u001b[0;34m'Face'\u001b[0m\u001b[0;34m]\u001b[0m\u001b[0;34m[\u001b[0m\u001b[0;34m'BoundingBox'\u001b[0m\u001b[0;34m]\u001b[0m\u001b[0;34m\u001b[0m\u001b[0;34m\u001b[0m\u001b[0m\n",
      "\u001b[0;32m~/anaconda3/envs/amazonei_tensorflow2_p36/lib/python3.6/site-packages/botocore/client.py\u001b[0m in \u001b[0;36m_api_call\u001b[0;34m(self, *args, **kwargs)\u001b[0m\n\u001b[1;32m    355\u001b[0m                     \"%s() only accepts keyword arguments.\" % py_operation_name)\n\u001b[1;32m    356\u001b[0m             \u001b[0;31m# The \"self\" in this scope is referring to the BaseClient.\u001b[0m\u001b[0;34m\u001b[0m\u001b[0;34m\u001b[0m\u001b[0;34m\u001b[0m\u001b[0m\n\u001b[0;32m--> 357\u001b[0;31m             \u001b[0;32mreturn\u001b[0m \u001b[0mself\u001b[0m\u001b[0;34m.\u001b[0m\u001b[0m_make_api_call\u001b[0m\u001b[0;34m(\u001b[0m\u001b[0moperation_name\u001b[0m\u001b[0;34m,\u001b[0m \u001b[0mkwargs\u001b[0m\u001b[0;34m)\u001b[0m\u001b[0;34m\u001b[0m\u001b[0;34m\u001b[0m\u001b[0m\n\u001b[0m\u001b[1;32m    358\u001b[0m \u001b[0;34m\u001b[0m\u001b[0m\n\u001b[1;32m    359\u001b[0m         \u001b[0m_api_call\u001b[0m\u001b[0;34m.\u001b[0m\u001b[0m__name__\u001b[0m \u001b[0;34m=\u001b[0m \u001b[0mstr\u001b[0m\u001b[0;34m(\u001b[0m\u001b[0mpy_operation_name\u001b[0m\u001b[0;34m)\u001b[0m\u001b[0;34m\u001b[0m\u001b[0;34m\u001b[0m\u001b[0m\n",
      "\u001b[0;32m~/anaconda3/envs/amazonei_tensorflow2_p36/lib/python3.6/site-packages/botocore/client.py\u001b[0m in \u001b[0;36m_make_api_call\u001b[0;34m(self, operation_name, api_params)\u001b[0m\n\u001b[1;32m    674\u001b[0m             \u001b[0merror_code\u001b[0m \u001b[0;34m=\u001b[0m \u001b[0mparsed_response\u001b[0m\u001b[0;34m.\u001b[0m\u001b[0mget\u001b[0m\u001b[0;34m(\u001b[0m\u001b[0;34m\"Error\"\u001b[0m\u001b[0;34m,\u001b[0m \u001b[0;34m{\u001b[0m\u001b[0;34m}\u001b[0m\u001b[0;34m)\u001b[0m\u001b[0;34m.\u001b[0m\u001b[0mget\u001b[0m\u001b[0;34m(\u001b[0m\u001b[0;34m\"Code\"\u001b[0m\u001b[0;34m)\u001b[0m\u001b[0;34m\u001b[0m\u001b[0;34m\u001b[0m\u001b[0m\n\u001b[1;32m    675\u001b[0m             \u001b[0merror_class\u001b[0m \u001b[0;34m=\u001b[0m \u001b[0mself\u001b[0m\u001b[0;34m.\u001b[0m\u001b[0mexceptions\u001b[0m\u001b[0;34m.\u001b[0m\u001b[0mfrom_code\u001b[0m\u001b[0;34m(\u001b[0m\u001b[0merror_code\u001b[0m\u001b[0;34m)\u001b[0m\u001b[0;34m\u001b[0m\u001b[0;34m\u001b[0m\u001b[0m\n\u001b[0;32m--> 676\u001b[0;31m             \u001b[0;32mraise\u001b[0m \u001b[0merror_class\u001b[0m\u001b[0;34m(\u001b[0m\u001b[0mparsed_response\u001b[0m\u001b[0;34m,\u001b[0m \u001b[0moperation_name\u001b[0m\u001b[0;34m)\u001b[0m\u001b[0;34m\u001b[0m\u001b[0;34m\u001b[0m\u001b[0m\n\u001b[0m\u001b[1;32m    677\u001b[0m         \u001b[0;32melse\u001b[0m\u001b[0;34m:\u001b[0m\u001b[0;34m\u001b[0m\u001b[0;34m\u001b[0m\u001b[0m\n\u001b[1;32m    678\u001b[0m             \u001b[0;32mreturn\u001b[0m \u001b[0mparsed_response\u001b[0m\u001b[0;34m\u001b[0m\u001b[0;34m\u001b[0m\u001b[0m\n",
      "\u001b[0;31mAccessDeniedException\u001b[0m: An error occurred (AccessDeniedException) when calling the CompareFaces operation: User: arn:aws:sts::074181110198:assumed-role/AmazonSageMaker-ExecutionRole-20200911T012622/SageMaker is not authorized to perform: rekognition:CompareFaces"
     ]
    }
   ],
   "source": [
    "response=client.compare_faces(SimilarityThreshold=99.5,\n",
    "                                  SourceImage={'S3Object':{'Bucket':\"350-rekog-project\",'Name':\"beryl1.jpeg\"}},\n",
    "                                  TargetImage={'S3Object':{'Bucket':\"350-rekog-project\",'Name':\"together1.jpeg\"}})\n",
    "for faceMatch in response['FaceMatches']:\n",
    "        position = faceMatch['Face']['BoundingBox']\n",
    "        similarity = str(faceMatch['Similarity'])\n",
    "        print('The face at ' +\n",
    "               str(position['Left']) + ' ' +\n",
    "               str(position['Top']) +\n",
    "               ' matches with ' + similarity + '% confidence')\n",
    "for faceNotMatch in response['UnmatchedFaces']:\n",
    "    position = faceNotMatch['BoundingBox']\n",
    "    confidence = str(faceNotMatch['Confidence'])\n",
    "    print('The face at ' +\n",
    "            str(position['Left']) + ' ' +\n",
    "            str(position['Top']) +\n",
    "            ' dose not match with ' + confidence + '% confidence')"
   ]
  },
  {
   "cell_type": "markdown",
   "metadata": {},
   "source": [
    "However, we will miss 'true beryl' in some other cases because as we can see from the boxplots, the range of the similarity scores overlaps at some points. Thus we cannot find a 'best' similarity threshold that can distinguish amber from beryl without missing true beryl. Except from the ability to distinguish between twins, in the time of a pendamic, we would also like to discover whether masks will impact the recognition. And we would extend the data to people and their photos with glasses, masks and funny faces."
   ]
  },
  {
   "cell_type": "code",
   "execution_count": 24,
   "metadata": {},
   "outputs": [],
   "source": [
    "## Warmup and Setup on minor facial variations"
   ]
  },
  {
   "cell_type": "code",
   "execution_count": 25,
   "metadata": {},
   "outputs": [
    {
     "name": "stdout",
     "output_type": "stream",
     "text": [
      "\n",
      "An error occurred (AccessDenied) when calling the ListObjectsV2 operation: Access Denied\n"
     ]
    }
   ],
   "source": [
    "!aws s3 ls s3://350project-image"
   ]
  },
  {
   "cell_type": "code",
   "execution_count": 26,
   "metadata": {},
   "outputs": [],
   "source": [
    "import boto3"
   ]
  },
  {
   "cell_type": "code",
   "execution_count": 27,
   "metadata": {},
   "outputs": [],
   "source": [
    "client = boto3.client('rekognition')"
   ]
  },
  {
   "cell_type": "code",
   "execution_count": 28,
   "metadata": {},
   "outputs": [
    {
     "ename": "AccessDeniedException",
     "evalue": "An error occurred (AccessDeniedException) when calling the DetectLabels operation: User: arn:aws:sts::074181110198:assumed-role/AmazonSageMaker-ExecutionRole-20200911T012622/SageMaker is not authorized to perform: rekognition:DetectLabels",
     "output_type": "error",
     "traceback": [
      "\u001b[0;31m---------------------------------------------------------------------------\u001b[0m",
      "\u001b[0;31mAccessDeniedException\u001b[0m                     Traceback (most recent call last)",
      "\u001b[0;32m<ipython-input-28-8370450476cf>\u001b[0m in \u001b[0;36m<module>\u001b[0;34m\u001b[0m\n\u001b[0;32m----> 1\u001b[0;31m \u001b[0mclient\u001b[0m\u001b[0;34m.\u001b[0m\u001b[0mdetect_labels\u001b[0m\u001b[0;34m(\u001b[0m\u001b[0mImage\u001b[0m \u001b[0;34m=\u001b[0m \u001b[0;34m{\u001b[0m\u001b[0;34m'S3Object'\u001b[0m\u001b[0;34m:\u001b[0m\u001b[0;34m{\u001b[0m\u001b[0;34m'Bucket'\u001b[0m\u001b[0;34m:\u001b[0m\u001b[0;34m'350project-image'\u001b[0m\u001b[0;34m,\u001b[0m \u001b[0;34m'Name'\u001b[0m\u001b[0;34m:\u001b[0m\u001b[0;34m'a1.jpg'\u001b[0m\u001b[0;34m}\u001b[0m\u001b[0;34m}\u001b[0m\u001b[0;34m)\u001b[0m\u001b[0;34m\u001b[0m\u001b[0;34m\u001b[0m\u001b[0m\n\u001b[0m",
      "\u001b[0;32m~/anaconda3/envs/amazonei_tensorflow2_p36/lib/python3.6/site-packages/botocore/client.py\u001b[0m in \u001b[0;36m_api_call\u001b[0;34m(self, *args, **kwargs)\u001b[0m\n\u001b[1;32m    355\u001b[0m                     \"%s() only accepts keyword arguments.\" % py_operation_name)\n\u001b[1;32m    356\u001b[0m             \u001b[0;31m# The \"self\" in this scope is referring to the BaseClient.\u001b[0m\u001b[0;34m\u001b[0m\u001b[0;34m\u001b[0m\u001b[0;34m\u001b[0m\u001b[0m\n\u001b[0;32m--> 357\u001b[0;31m             \u001b[0;32mreturn\u001b[0m \u001b[0mself\u001b[0m\u001b[0;34m.\u001b[0m\u001b[0m_make_api_call\u001b[0m\u001b[0;34m(\u001b[0m\u001b[0moperation_name\u001b[0m\u001b[0;34m,\u001b[0m \u001b[0mkwargs\u001b[0m\u001b[0;34m)\u001b[0m\u001b[0;34m\u001b[0m\u001b[0;34m\u001b[0m\u001b[0m\n\u001b[0m\u001b[1;32m    358\u001b[0m \u001b[0;34m\u001b[0m\u001b[0m\n\u001b[1;32m    359\u001b[0m         \u001b[0m_api_call\u001b[0m\u001b[0;34m.\u001b[0m\u001b[0m__name__\u001b[0m \u001b[0;34m=\u001b[0m \u001b[0mstr\u001b[0m\u001b[0;34m(\u001b[0m\u001b[0mpy_operation_name\u001b[0m\u001b[0;34m)\u001b[0m\u001b[0;34m\u001b[0m\u001b[0;34m\u001b[0m\u001b[0m\n",
      "\u001b[0;32m~/anaconda3/envs/amazonei_tensorflow2_p36/lib/python3.6/site-packages/botocore/client.py\u001b[0m in \u001b[0;36m_make_api_call\u001b[0;34m(self, operation_name, api_params)\u001b[0m\n\u001b[1;32m    674\u001b[0m             \u001b[0merror_code\u001b[0m \u001b[0;34m=\u001b[0m \u001b[0mparsed_response\u001b[0m\u001b[0;34m.\u001b[0m\u001b[0mget\u001b[0m\u001b[0;34m(\u001b[0m\u001b[0;34m\"Error\"\u001b[0m\u001b[0;34m,\u001b[0m \u001b[0;34m{\u001b[0m\u001b[0;34m}\u001b[0m\u001b[0;34m)\u001b[0m\u001b[0;34m.\u001b[0m\u001b[0mget\u001b[0m\u001b[0;34m(\u001b[0m\u001b[0;34m\"Code\"\u001b[0m\u001b[0;34m)\u001b[0m\u001b[0;34m\u001b[0m\u001b[0;34m\u001b[0m\u001b[0m\n\u001b[1;32m    675\u001b[0m             \u001b[0merror_class\u001b[0m \u001b[0;34m=\u001b[0m \u001b[0mself\u001b[0m\u001b[0;34m.\u001b[0m\u001b[0mexceptions\u001b[0m\u001b[0;34m.\u001b[0m\u001b[0mfrom_code\u001b[0m\u001b[0;34m(\u001b[0m\u001b[0merror_code\u001b[0m\u001b[0;34m)\u001b[0m\u001b[0;34m\u001b[0m\u001b[0;34m\u001b[0m\u001b[0m\n\u001b[0;32m--> 676\u001b[0;31m             \u001b[0;32mraise\u001b[0m \u001b[0merror_class\u001b[0m\u001b[0;34m(\u001b[0m\u001b[0mparsed_response\u001b[0m\u001b[0;34m,\u001b[0m \u001b[0moperation_name\u001b[0m\u001b[0;34m)\u001b[0m\u001b[0;34m\u001b[0m\u001b[0;34m\u001b[0m\u001b[0m\n\u001b[0m\u001b[1;32m    677\u001b[0m         \u001b[0;32melse\u001b[0m\u001b[0;34m:\u001b[0m\u001b[0;34m\u001b[0m\u001b[0;34m\u001b[0m\u001b[0m\n\u001b[1;32m    678\u001b[0m             \u001b[0;32mreturn\u001b[0m \u001b[0mparsed_response\u001b[0m\u001b[0;34m\u001b[0m\u001b[0;34m\u001b[0m\u001b[0m\n",
      "\u001b[0;31mAccessDeniedException\u001b[0m: An error occurred (AccessDeniedException) when calling the DetectLabels operation: User: arn:aws:sts::074181110198:assumed-role/AmazonSageMaker-ExecutionRole-20200911T012622/SageMaker is not authorized to perform: rekognition:DetectLabels"
     ]
    }
   ],
   "source": [
    "client.detect_labels(Image = {'S3Object':{'Bucket':'350project-image', 'Name':'a1.jpg'}})"
   ]
  },
  {
   "cell_type": "code",
   "execution_count": null,
   "metadata": {},
   "outputs": [],
   "source": [
    "## Compare faces when 1) original 2) glass-wearing 3) mask-covering 4) making funny faces"
   ]
  },
  {
   "cell_type": "code",
   "execution_count": null,
   "metadata": {},
   "outputs": [],
   "source": [
    "response = client.compare_faces(SimilarityThreshold=80,\n",
    "                                  SourceImage={'S3Object':{'Bucket':\"350project-image\",'Name':\"a1.jpg\"}},\n",
    "                                  TargetImage={'S3Object':{'Bucket':\"350project-image\",'Name':\"a2.jpg\"}})"
   ]
  },
  {
   "cell_type": "code",
   "execution_count": null,
   "metadata": {},
   "outputs": [],
   "source": [
    "for faceMatch in response['FaceMatches']:\n",
    "        position = faceMatch['Face']['BoundingBox']\n",
    "        similarity = str(faceMatch['Similarity'])\n",
    "        print('The face at ' +\n",
    "               str(position['Left']) + ' ' +\n",
    "               str(position['Top']) +\n",
    "               ' matches with ' + similarity + '% confidence')"
   ]
  },
  {
   "cell_type": "code",
   "execution_count": null,
   "metadata": {},
   "outputs": [],
   "source": [
    "for faceNotMatch in response['UnmatchedFaces']:\n",
    "    position = faceNotMatch['BoundingBox']\n",
    "    confidence = str(faceNotMatch['Confidence'])\n",
    "    print('The face at ' +\n",
    "            str(position['Left']) + ' ' +\n",
    "            str(position['Top']) +\n",
    "            ' dose not match with ' + confidence + '% confidence')"
   ]
  },
  {
   "cell_type": "code",
   "execution_count": 29,
   "metadata": {},
   "outputs": [
    {
     "ename": "NameError",
     "evalue": "name 'response' is not defined",
     "output_type": "error",
     "traceback": [
      "\u001b[0;31m---------------------------------------------------------------------------\u001b[0m",
      "\u001b[0;31mNameError\u001b[0m                                 Traceback (most recent call last)",
      "\u001b[0;32m<ipython-input-29-ab0153f39f33>\u001b[0m in \u001b[0;36m<module>\u001b[0;34m\u001b[0m\n\u001b[0;32m----> 1\u001b[0;31m \u001b[0mresponse\u001b[0m\u001b[0;34m\u001b[0m\u001b[0;34m\u001b[0m\u001b[0m\n\u001b[0m",
      "\u001b[0;31mNameError\u001b[0m: name 'response' is not defined"
     ]
    }
   ],
   "source": [
    "response"
   ]
  },
  {
   "cell_type": "code",
   "execution_count": 30,
   "metadata": {},
   "outputs": [],
   "source": [
    "import numpy as np\n",
    "import pandas as pd\n",
    "import s3fs\n",
    "fs = s3fs.S3FileSystem()"
   ]
  },
  {
   "cell_type": "code",
   "execution_count": 31,
   "metadata": {},
   "outputs": [],
   "source": [
    "#Case for picture a group"
   ]
  },
  {
   "cell_type": "code",
   "execution_count": 32,
   "metadata": {},
   "outputs": [],
   "source": [
    "def extract_similarity(photo):\n",
    "    try:\n",
    "        similarity = []\n",
    "        comparison = client.compare_faces(\n",
    "            SourceImage= {'S3Object':{'Bucket':\"350project-image\", 'Name':'a1.jpg'}},\n",
    "            TargetImage = {'S3Object':{'Bucket':\"350project-image\",'Name':photo}})\n",
    "        result = {}\n",
    "        i = 0\n",
    "        for faceMatch in comparison['FaceMatches']:\n",
    "            position = faceMatch['Face']['BoundingBox']\n",
    "            similarity = faceMatch['Similarity']\n",
    "            result[i] = {}\n",
    "            result[i]['similarity'] = similarity\n",
    "            result[i]['position'] = position['Left']\n",
    "            i+=1\n",
    "        \n",
    "    except Exception:\n",
    "        similarity = np.nan\n",
    "    return result"
   ]
  },
  {
   "cell_type": "code",
   "execution_count": 33,
   "metadata": {},
   "outputs": [
    {
     "ename": "UnboundLocalError",
     "evalue": "local variable 'result' referenced before assignment",
     "output_type": "error",
     "traceback": [
      "\u001b[0;31m---------------------------------------------------------------------------\u001b[0m",
      "\u001b[0;31mUnboundLocalError\u001b[0m                         Traceback (most recent call last)",
      "\u001b[0;32m<ipython-input-33-1a43ff809e45>\u001b[0m in \u001b[0;36m<module>\u001b[0;34m\u001b[0m\n\u001b[1;32m      1\u001b[0m \u001b[0mcl1\u001b[0m \u001b[0;34m=\u001b[0m \u001b[0;34m\"a2.jpg\"\u001b[0m\u001b[0;34m\u001b[0m\u001b[0;34m\u001b[0m\u001b[0m\n\u001b[0;32m----> 2\u001b[0;31m \u001b[0mextract_similarity\u001b[0m\u001b[0;34m(\u001b[0m\u001b[0mcl1\u001b[0m\u001b[0;34m)\u001b[0m\u001b[0;34m\u001b[0m\u001b[0;34m\u001b[0m\u001b[0m\n\u001b[0m",
      "\u001b[0;32m<ipython-input-32-9cc71842e2f0>\u001b[0m in \u001b[0;36mextract_similarity\u001b[0;34m(photo)\u001b[0m\n\u001b[1;32m     17\u001b[0m     \u001b[0;32mexcept\u001b[0m \u001b[0mException\u001b[0m\u001b[0;34m:\u001b[0m\u001b[0;34m\u001b[0m\u001b[0;34m\u001b[0m\u001b[0m\n\u001b[1;32m     18\u001b[0m         \u001b[0msimilarity\u001b[0m \u001b[0;34m=\u001b[0m \u001b[0mnp\u001b[0m\u001b[0;34m.\u001b[0m\u001b[0mnan\u001b[0m\u001b[0;34m\u001b[0m\u001b[0;34m\u001b[0m\u001b[0m\n\u001b[0;32m---> 19\u001b[0;31m     \u001b[0;32mreturn\u001b[0m \u001b[0mresult\u001b[0m\u001b[0;34m\u001b[0m\u001b[0;34m\u001b[0m\u001b[0m\n\u001b[0m",
      "\u001b[0;31mUnboundLocalError\u001b[0m: local variable 'result' referenced before assignment"
     ]
    }
   ],
   "source": [
    "cl1 = \"a2.jpg\"\n",
    "extract_similarity(cl1)"
   ]
  },
  {
   "cell_type": "code",
   "execution_count": 34,
   "metadata": {},
   "outputs": [],
   "source": [
    "#Make a list of photoes"
   ]
  },
  {
   "cell_type": "code",
   "execution_count": 35,
   "metadata": {},
   "outputs": [],
   "source": [
    "def extract_similarity(photo,source_photo):\n",
    "    try:\n",
    "        similarity = []\n",
    "        comparison = client.compare_faces(\n",
    "            SourceImage= {'S3Object':{'Bucket':\"350project-image\", 'Name':source_photo}},\n",
    "            TargetImage = {'S3Object':{'Bucket':\"350project-image\",'Name':photo}})\n",
    "        result = {}\n",
    "        i = 0\n",
    "        for faceMatch in comparison['FaceMatches']:\n",
    "            position = faceMatch['Face']['BoundingBox']\n",
    "            similarity = faceMatch['Similarity']\n",
    "            result[i] = {}\n",
    "            result[i]['similarity'] = similarity\n",
    "            result[i]['position'] = position['Left']\n",
    "            i+=1\n",
    "        \n",
    "    except Exception:\n",
    "        similarity = np.nan\n",
    "    return result"
   ]
  },
  {
   "cell_type": "code",
   "execution_count": 36,
   "metadata": {},
   "outputs": [
    {
     "ename": "UnboundLocalError",
     "evalue": "local variable 'result' referenced before assignment",
     "output_type": "error",
     "traceback": [
      "\u001b[0;31m---------------------------------------------------------------------------\u001b[0m",
      "\u001b[0;31mUnboundLocalError\u001b[0m                         Traceback (most recent call last)",
      "\u001b[0;32m<ipython-input-36-c7cf836633ef>\u001b[0m in \u001b[0;36m<module>\u001b[0;34m\u001b[0m\n\u001b[0;32m----> 1\u001b[0;31m \u001b[0mextract_similarity\u001b[0m\u001b[0;34m(\u001b[0m\u001b[0;34m'c2.jpg'\u001b[0m\u001b[0;34m,\u001b[0m\u001b[0;34m'c1.jpg'\u001b[0m\u001b[0;34m)\u001b[0m\u001b[0;34m\u001b[0m\u001b[0;34m\u001b[0m\u001b[0m\n\u001b[0m",
      "\u001b[0;32m<ipython-input-35-caa5eb16c90f>\u001b[0m in \u001b[0;36mextract_similarity\u001b[0;34m(photo, source_photo)\u001b[0m\n\u001b[1;32m     17\u001b[0m     \u001b[0;32mexcept\u001b[0m \u001b[0mException\u001b[0m\u001b[0;34m:\u001b[0m\u001b[0;34m\u001b[0m\u001b[0;34m\u001b[0m\u001b[0m\n\u001b[1;32m     18\u001b[0m         \u001b[0msimilarity\u001b[0m \u001b[0;34m=\u001b[0m \u001b[0mnp\u001b[0m\u001b[0;34m.\u001b[0m\u001b[0mnan\u001b[0m\u001b[0;34m\u001b[0m\u001b[0;34m\u001b[0m\u001b[0m\n\u001b[0;32m---> 19\u001b[0;31m     \u001b[0;32mreturn\u001b[0m \u001b[0mresult\u001b[0m\u001b[0;34m\u001b[0m\u001b[0;34m\u001b[0m\u001b[0m\n\u001b[0m",
      "\u001b[0;31mUnboundLocalError\u001b[0m: local variable 'result' referenced before assignment"
     ]
    }
   ],
   "source": [
    "extract_similarity('c2.jpg','c1.jpg')"
   ]
  },
  {
   "cell_type": "code",
   "execution_count": 37,
   "metadata": {},
   "outputs": [],
   "source": [
    "names = ['Claire','Crystal','Gloria','BJT','dl','gql','hj','hzt',\n",
    "         'lhr','lx','mino','whd','wjk','wyb','wyf','yy','yyqx',\n",
    "         'zry','angelina','arriana','cate','emma','emmas','jenniferb',\n",
    "         'jenniferl','jessica','julia','melissa','meryl',\n",
    "        'ruby','scarlett','wendy']\n",
    "image_dict = {'Claire':['a1.jpg','a2.jpg','a3.jpg','a4.jpg','a5.jpg'],\n",
    " 'Crystal':['b1.jpg','b2.jpg','b3.jpg','b4.jpg','b5.jpg'],\n",
    " 'Gloria':['c1.jpg', 'c2.jpg', 'c3.jpg', 'c4.jpg','c5.jpg'],\n",
    " 'BJT':['bjt1.JPG','bjt2.JPG','bjt3.JPG','bjt4.JPG','bjt5.jpg'],\n",
    " 'dl':['dl1.JPG','dl2.JPG','dl3.JPG','dl4.JPG','dl5.jpg'],\n",
    " 'gql':['gql1.JPG','gql2.JPG','gql3.JPG','gql4.JPG','gql5.jpg'],\n",
    " 'hj':['hj1.JPG','hj2.JPG','hj3.JPG','hj4.JPG','hk4.JPG'],\n",
    " 'hzt':['hzt1.JPG','hzt2.JPG','hzt3.JPG','hzt4.JPG','hzt5.jpg'],\n",
    " 'lhr':['lhr1.JPG','lhr2.JPG','lhr3.JPG','lhr4.JPG','lhr5.JPG'],\n",
    " 'lx':['lx1.JPG','lx2.JPG','lx3.JPG','lx4.JPG','lx5.JPG'],\n",
    " 'mino':['mino1.jpg','mino2.JPG','mino3.JPG','mino4.jpg','mino5.jpg'],\n",
    " 'whd':['whd1.JPG','whd2.JPG','whd3.JPG','whd4.JPG','whd5.JPG'],\n",
    " 'wjk':['wjk1.JPG','wjk2.JPG','wjk3.JPG','wjk4.JPG','wjk5.JPG'],\n",
    " 'wyb':['wyb1.JPG','wyb2.JPG','wyb3.JPG','wyb4.JPG','wyb5.JPG'],\n",
    " 'wyf':['wyf1.JPG','wyf2.JPG','wyf3.jpg','wyf4.JPG','wyf5.JPG'],\n",
    " 'yy':['yy1.JPG','yy2.JPG','yy3.jpg','yy4.JPG','yy5.JPG'],\n",
    " 'yyqx':['yyqx1.JPG','yyqx2.JPG','yyqx3.JPG','yyqx4.JPG','yyqx5.JPG'],\n",
    " 'zry':['zry1.JPG','zry2.JPG','zry3.JPG','zry4.JPG','zry5.JPG'],\n",
    " 'angelina':['angelina1.jpg','angelina2.jpg','angelina3.jpg','angelina4.jpg','angelina5.jpg'],\n",
    " 'arriana':['arriana1.jpg','arriana2.jpg','arriana3.jpg','arriana4.jpg','arriana5.jpg'],\n",
    " 'cate':['cate1.jpg','cate2.jpg','cate3.jpg','cate4.jpg','cate5.jpg'],\n",
    " 'emma':['emma1.jpg','emma2.jpg','emma3.jpg','emma4.jpg','emma5.jpg'],\n",
    " 'emmas':['emmas1.jpg','emmas2.jpg','emmas3.jpg','emmas4.jpg','emmas5.jpg'],\n",
    " 'jenniferb':['jenniferb1.jpg','jenniferb2.jpg','jenniferb3.jpg','jenniferb4.png','jenniferb5.jpg'],\n",
    " 'jenniferl':['jenniferl1.jpg','jenniferl2.jpg','jenniferl3.jpg','jenniferl4.jpg','jenniferl5.jpg'],\n",
    " 'jessica':['jessica1.jpg','jessica2.jpg','jessica3.jpg','jessica4.jpg','jessica5.jpg'],\n",
    " 'julia':['julia1.jpg','julia2.jpg','julia3.jpg','julia4.jpg','julia5.jpg'],\n",
    " 'melissa':['melissa1.jpg','melissa2.jpg','melissa3.jpg','melissa4.jpg','melissa5.jpg'],\n",
    " 'meryl':['meryl1.jpg','meryl2.jpg','meryl3.jpg','meryl4.jpg','meryl5.jpg'],\n",
    " 'ruby':['ruby1.jpg','ruby2.jpg','ruby3.jpg','ruby4.jpg','ruby5.jpg'],\n",
    " 'scarlett':['scarlett1.jpg','scarlett2.jpg','scarlett3.jpg','scarlett4.jpg','scarlett5.jpg'],\n",
    " 'wendy':['wendy1.jpg','wendy2.jpg','wendy3.jpg','wendy4.jpg','wendy5.jpg'],\n",
    "             }"
   ]
  },
  {
   "cell_type": "code",
   "execution_count": 38,
   "metadata": {},
   "outputs": [],
   "source": [
    "df = pd.DataFrame({'Name': names})\n",
    "glasses = []\n",
    "mask = []\n",
    "funnyFace = []\n",
    "null = []\n",
    "for name in names: \n",
    "    try:\n",
    "        source_photo = image_dict[name][0]\n",
    "    except:\n",
    "        print(name, \"cannot be read\")\n",
    "    try:\n",
    "        result_glasses = extract_similarity(image_dict[name][1], source_photo)\n",
    "        similarity_glasses = result_glasses[0]['similarity']\n",
    "        glasses.append(similarity_glasses)\n",
    "    except:\n",
    "        glasses.append(np.nan)\n",
    "    try:\n",
    "        result_mask = extract_similarity(image_dict[name][2], source_photo)\n",
    "        similarity_mask = result_mask[0]['similarity']\n",
    "        mask.append(similarity_mask)\n",
    "    except:\n",
    "        mask.append(np.nan)\n",
    "    try:\n",
    "        result_funnyFace = extract_similarity(image_dict[name][3], source_photo)\n",
    "        similarity_funnyFace = result_funnyFace[0]['similarity']\n",
    "        funnyFace.append(similarity_funnyFace)\n",
    "    except:\n",
    "        funnyFace.append(np.nan)\n",
    "    try:\n",
    "        result_null = extract_similarity(image_dict[name][4], source_photo)\n",
    "        similarity_null = result_null[0]['similarity']\n",
    "        null.append(similarity_null)\n",
    "    except:\n",
    "        null.append(np.nan)"
   ]
  },
  {
   "cell_type": "code",
   "execution_count": 39,
   "metadata": {},
   "outputs": [
    {
     "data": {
      "text/html": [
       "<div>\n",
       "<style scoped>\n",
       "    .dataframe tbody tr th:only-of-type {\n",
       "        vertical-align: middle;\n",
       "    }\n",
       "\n",
       "    .dataframe tbody tr th {\n",
       "        vertical-align: top;\n",
       "    }\n",
       "\n",
       "    .dataframe thead th {\n",
       "        text-align: right;\n",
       "    }\n",
       "</style>\n",
       "<table border=\"1\" class=\"dataframe\">\n",
       "  <thead>\n",
       "    <tr style=\"text-align: right;\">\n",
       "      <th></th>\n",
       "      <th>Name</th>\n",
       "      <th>glasses</th>\n",
       "      <th>mask</th>\n",
       "      <th>funnyFace</th>\n",
       "      <th>null</th>\n",
       "    </tr>\n",
       "  </thead>\n",
       "  <tbody>\n",
       "    <tr>\n",
       "      <th>0</th>\n",
       "      <td>Claire</td>\n",
       "      <td>NaN</td>\n",
       "      <td>NaN</td>\n",
       "      <td>NaN</td>\n",
       "      <td>NaN</td>\n",
       "    </tr>\n",
       "    <tr>\n",
       "      <th>1</th>\n",
       "      <td>Crystal</td>\n",
       "      <td>NaN</td>\n",
       "      <td>NaN</td>\n",
       "      <td>NaN</td>\n",
       "      <td>NaN</td>\n",
       "    </tr>\n",
       "    <tr>\n",
       "      <th>2</th>\n",
       "      <td>Gloria</td>\n",
       "      <td>NaN</td>\n",
       "      <td>NaN</td>\n",
       "      <td>NaN</td>\n",
       "      <td>NaN</td>\n",
       "    </tr>\n",
       "    <tr>\n",
       "      <th>3</th>\n",
       "      <td>BJT</td>\n",
       "      <td>NaN</td>\n",
       "      <td>NaN</td>\n",
       "      <td>NaN</td>\n",
       "      <td>NaN</td>\n",
       "    </tr>\n",
       "    <tr>\n",
       "      <th>4</th>\n",
       "      <td>dl</td>\n",
       "      <td>NaN</td>\n",
       "      <td>NaN</td>\n",
       "      <td>NaN</td>\n",
       "      <td>NaN</td>\n",
       "    </tr>\n",
       "    <tr>\n",
       "      <th>5</th>\n",
       "      <td>gql</td>\n",
       "      <td>NaN</td>\n",
       "      <td>NaN</td>\n",
       "      <td>NaN</td>\n",
       "      <td>NaN</td>\n",
       "    </tr>\n",
       "    <tr>\n",
       "      <th>6</th>\n",
       "      <td>hj</td>\n",
       "      <td>NaN</td>\n",
       "      <td>NaN</td>\n",
       "      <td>NaN</td>\n",
       "      <td>NaN</td>\n",
       "    </tr>\n",
       "    <tr>\n",
       "      <th>7</th>\n",
       "      <td>hzt</td>\n",
       "      <td>NaN</td>\n",
       "      <td>NaN</td>\n",
       "      <td>NaN</td>\n",
       "      <td>NaN</td>\n",
       "    </tr>\n",
       "    <tr>\n",
       "      <th>8</th>\n",
       "      <td>lhr</td>\n",
       "      <td>NaN</td>\n",
       "      <td>NaN</td>\n",
       "      <td>NaN</td>\n",
       "      <td>NaN</td>\n",
       "    </tr>\n",
       "    <tr>\n",
       "      <th>9</th>\n",
       "      <td>lx</td>\n",
       "      <td>NaN</td>\n",
       "      <td>NaN</td>\n",
       "      <td>NaN</td>\n",
       "      <td>NaN</td>\n",
       "    </tr>\n",
       "    <tr>\n",
       "      <th>10</th>\n",
       "      <td>mino</td>\n",
       "      <td>NaN</td>\n",
       "      <td>NaN</td>\n",
       "      <td>NaN</td>\n",
       "      <td>NaN</td>\n",
       "    </tr>\n",
       "    <tr>\n",
       "      <th>11</th>\n",
       "      <td>whd</td>\n",
       "      <td>NaN</td>\n",
       "      <td>NaN</td>\n",
       "      <td>NaN</td>\n",
       "      <td>NaN</td>\n",
       "    </tr>\n",
       "    <tr>\n",
       "      <th>12</th>\n",
       "      <td>wjk</td>\n",
       "      <td>NaN</td>\n",
       "      <td>NaN</td>\n",
       "      <td>NaN</td>\n",
       "      <td>NaN</td>\n",
       "    </tr>\n",
       "    <tr>\n",
       "      <th>13</th>\n",
       "      <td>wyb</td>\n",
       "      <td>NaN</td>\n",
       "      <td>NaN</td>\n",
       "      <td>NaN</td>\n",
       "      <td>NaN</td>\n",
       "    </tr>\n",
       "    <tr>\n",
       "      <th>14</th>\n",
       "      <td>wyf</td>\n",
       "      <td>NaN</td>\n",
       "      <td>NaN</td>\n",
       "      <td>NaN</td>\n",
       "      <td>NaN</td>\n",
       "    </tr>\n",
       "    <tr>\n",
       "      <th>15</th>\n",
       "      <td>yy</td>\n",
       "      <td>NaN</td>\n",
       "      <td>NaN</td>\n",
       "      <td>NaN</td>\n",
       "      <td>NaN</td>\n",
       "    </tr>\n",
       "    <tr>\n",
       "      <th>16</th>\n",
       "      <td>yyqx</td>\n",
       "      <td>NaN</td>\n",
       "      <td>NaN</td>\n",
       "      <td>NaN</td>\n",
       "      <td>NaN</td>\n",
       "    </tr>\n",
       "    <tr>\n",
       "      <th>17</th>\n",
       "      <td>zry</td>\n",
       "      <td>NaN</td>\n",
       "      <td>NaN</td>\n",
       "      <td>NaN</td>\n",
       "      <td>NaN</td>\n",
       "    </tr>\n",
       "    <tr>\n",
       "      <th>18</th>\n",
       "      <td>angelina</td>\n",
       "      <td>NaN</td>\n",
       "      <td>NaN</td>\n",
       "      <td>NaN</td>\n",
       "      <td>NaN</td>\n",
       "    </tr>\n",
       "    <tr>\n",
       "      <th>19</th>\n",
       "      <td>arriana</td>\n",
       "      <td>NaN</td>\n",
       "      <td>NaN</td>\n",
       "      <td>NaN</td>\n",
       "      <td>NaN</td>\n",
       "    </tr>\n",
       "    <tr>\n",
       "      <th>20</th>\n",
       "      <td>cate</td>\n",
       "      <td>NaN</td>\n",
       "      <td>NaN</td>\n",
       "      <td>NaN</td>\n",
       "      <td>NaN</td>\n",
       "    </tr>\n",
       "    <tr>\n",
       "      <th>21</th>\n",
       "      <td>emma</td>\n",
       "      <td>NaN</td>\n",
       "      <td>NaN</td>\n",
       "      <td>NaN</td>\n",
       "      <td>NaN</td>\n",
       "    </tr>\n",
       "    <tr>\n",
       "      <th>22</th>\n",
       "      <td>emmas</td>\n",
       "      <td>NaN</td>\n",
       "      <td>NaN</td>\n",
       "      <td>NaN</td>\n",
       "      <td>NaN</td>\n",
       "    </tr>\n",
       "    <tr>\n",
       "      <th>23</th>\n",
       "      <td>jenniferb</td>\n",
       "      <td>NaN</td>\n",
       "      <td>NaN</td>\n",
       "      <td>NaN</td>\n",
       "      <td>NaN</td>\n",
       "    </tr>\n",
       "    <tr>\n",
       "      <th>24</th>\n",
       "      <td>jenniferl</td>\n",
       "      <td>NaN</td>\n",
       "      <td>NaN</td>\n",
       "      <td>NaN</td>\n",
       "      <td>NaN</td>\n",
       "    </tr>\n",
       "    <tr>\n",
       "      <th>25</th>\n",
       "      <td>jessica</td>\n",
       "      <td>NaN</td>\n",
       "      <td>NaN</td>\n",
       "      <td>NaN</td>\n",
       "      <td>NaN</td>\n",
       "    </tr>\n",
       "    <tr>\n",
       "      <th>26</th>\n",
       "      <td>julia</td>\n",
       "      <td>NaN</td>\n",
       "      <td>NaN</td>\n",
       "      <td>NaN</td>\n",
       "      <td>NaN</td>\n",
       "    </tr>\n",
       "    <tr>\n",
       "      <th>27</th>\n",
       "      <td>melissa</td>\n",
       "      <td>NaN</td>\n",
       "      <td>NaN</td>\n",
       "      <td>NaN</td>\n",
       "      <td>NaN</td>\n",
       "    </tr>\n",
       "    <tr>\n",
       "      <th>28</th>\n",
       "      <td>meryl</td>\n",
       "      <td>NaN</td>\n",
       "      <td>NaN</td>\n",
       "      <td>NaN</td>\n",
       "      <td>NaN</td>\n",
       "    </tr>\n",
       "    <tr>\n",
       "      <th>29</th>\n",
       "      <td>ruby</td>\n",
       "      <td>NaN</td>\n",
       "      <td>NaN</td>\n",
       "      <td>NaN</td>\n",
       "      <td>NaN</td>\n",
       "    </tr>\n",
       "    <tr>\n",
       "      <th>30</th>\n",
       "      <td>scarlett</td>\n",
       "      <td>NaN</td>\n",
       "      <td>NaN</td>\n",
       "      <td>NaN</td>\n",
       "      <td>NaN</td>\n",
       "    </tr>\n",
       "    <tr>\n",
       "      <th>31</th>\n",
       "      <td>wendy</td>\n",
       "      <td>NaN</td>\n",
       "      <td>NaN</td>\n",
       "      <td>NaN</td>\n",
       "      <td>NaN</td>\n",
       "    </tr>\n",
       "  </tbody>\n",
       "</table>\n",
       "</div>"
      ],
      "text/plain": [
       "         Name  glasses  mask  funnyFace  null\n",
       "0      Claire      NaN   NaN        NaN   NaN\n",
       "1     Crystal      NaN   NaN        NaN   NaN\n",
       "2      Gloria      NaN   NaN        NaN   NaN\n",
       "3         BJT      NaN   NaN        NaN   NaN\n",
       "4          dl      NaN   NaN        NaN   NaN\n",
       "5         gql      NaN   NaN        NaN   NaN\n",
       "6          hj      NaN   NaN        NaN   NaN\n",
       "7         hzt      NaN   NaN        NaN   NaN\n",
       "8         lhr      NaN   NaN        NaN   NaN\n",
       "9          lx      NaN   NaN        NaN   NaN\n",
       "10       mino      NaN   NaN        NaN   NaN\n",
       "11        whd      NaN   NaN        NaN   NaN\n",
       "12        wjk      NaN   NaN        NaN   NaN\n",
       "13        wyb      NaN   NaN        NaN   NaN\n",
       "14        wyf      NaN   NaN        NaN   NaN\n",
       "15         yy      NaN   NaN        NaN   NaN\n",
       "16       yyqx      NaN   NaN        NaN   NaN\n",
       "17        zry      NaN   NaN        NaN   NaN\n",
       "18   angelina      NaN   NaN        NaN   NaN\n",
       "19    arriana      NaN   NaN        NaN   NaN\n",
       "20       cate      NaN   NaN        NaN   NaN\n",
       "21       emma      NaN   NaN        NaN   NaN\n",
       "22      emmas      NaN   NaN        NaN   NaN\n",
       "23  jenniferb      NaN   NaN        NaN   NaN\n",
       "24  jenniferl      NaN   NaN        NaN   NaN\n",
       "25    jessica      NaN   NaN        NaN   NaN\n",
       "26      julia      NaN   NaN        NaN   NaN\n",
       "27    melissa      NaN   NaN        NaN   NaN\n",
       "28      meryl      NaN   NaN        NaN   NaN\n",
       "29       ruby      NaN   NaN        NaN   NaN\n",
       "30   scarlett      NaN   NaN        NaN   NaN\n",
       "31      wendy      NaN   NaN        NaN   NaN"
      ]
     },
     "execution_count": 39,
     "metadata": {},
     "output_type": "execute_result"
    }
   ],
   "source": [
    "df['glasses'] = glasses\n",
    "df['mask'] = mask\n",
    "df['funnyFace'] = funnyFace\n",
    "df['null'] = null\n",
    "df"
   ]
  },
  {
   "cell_type": "code",
   "execution_count": 41,
   "metadata": {},
   "outputs": [
    {
     "ename": "SyntaxError",
     "evalue": "invalid syntax (<ipython-input-41-d11223b9ec42>, line 1)",
     "output_type": "error",
     "traceback": [
      "\u001b[0;36m  File \u001b[0;32m\"<ipython-input-41-d11223b9ec42>\"\u001b[0;36m, line \u001b[0;32m1\u001b[0m\n\u001b[0;31m    The result shows that differet facial appearances does not significantly change the similarity since all of the photoes have 99%+ similarity.\u001b[0m\n\u001b[0m             ^\u001b[0m\n\u001b[0;31mSyntaxError\u001b[0m\u001b[0;31m:\u001b[0m invalid syntax\n"
     ]
    }
   ],
   "source": [
    "The result shows that differet facial appearances does not significantly change the similarity since all of the photoes have 99%+ similarity."
   ]
  },
  {
   "cell_type": "code",
   "execution_count": 42,
   "metadata": {},
   "outputs": [
    {
     "data": {
      "image/png": "[encoded data removed]",
      "text/plain": [
       "<Figure size 432x288 with 1 Axes>"
      ]
     },
     "metadata": {
      "needs_background": "light"
     },
     "output_type": "display_data"
    }
   ],
   "source": [
    "boxplot = df.boxplot(column = ['null','glasses', 'mask', 'funnyFace'])"
   ]
  },
  {
   "cell_type": "code",
   "execution_count": 43,
   "metadata": {},
   "outputs": [
    {
     "ename": "SyntaxError",
     "evalue": "invalid syntax (<ipython-input-43-586a1e264255>, line 1)",
     "output_type": "error",
     "traceback": [
      "\u001b[0;36m  File \u001b[0;32m\"<ipython-input-43-586a1e264255>\"\u001b[0;36m, line \u001b[0;32m1\u001b[0m\n\u001b[0;31m    The boxplot shows that wearing masks affects the overall identification of persons, much more than wearing glasses or giving funny faces. If empirical evidence matches with the result, then minor facial changes in characteristics would not change the result significantly (for example, iPhone should be able to still unlock using facial identification\".\u001b[0m\n\u001b[0m              ^\u001b[0m\n\u001b[0;31mSyntaxError\u001b[0m\u001b[0;31m:\u001b[0m invalid syntax\n"
     ]
    }
   ],
   "source": [
    "The boxplot shows that wearing masks affects the overall identification of persons, much more than wearing glasses or giving funny faces. If empirical evidence matches with the result, then minor facial changes in characteristics would not change the result significantly (for example, iPhone should be able to still unlock using facial identification\"."
   ]
  },
  {
   "cell_type": "code",
   "execution_count": null,
   "metadata": {},
   "outputs": [],
   "source": [
    "from scipy.stats import f_oneway"
   ]
  },
  {
   "cell_type": "code",
   "execution_count": null,
   "metadata": {},
   "outputs": [],
   "source": [
    "F,p = f_oneway(df['null'][~np.isnan(df['null'])],df['glasses'][~np.isnan(df['glasses'])], df['mask'][~np.isnan(df['mask'])], df['funnyFace'][~np.isnan(df['funnyFace'])])"
   ]
  },
  {
   "cell_type": "code",
   "execution_count": null,
   "metadata": {},
   "outputs": [],
   "source": [
    "F"
   ]
  },
  {
   "cell_type": "code",
   "execution_count": null,
   "metadata": {},
   "outputs": [],
   "source": [
    "P"
   ]
  },
  {
   "cell_type": "code",
   "execution_count": null,
   "metadata": {},
   "outputs": [],
   "source": [
    "from scipy import stats"
   ]
  },
  {
   "cell_type": "code",
   "execution_count": 44,
   "metadata": {},
   "outputs": [
    {
     "ename": "NameError",
     "evalue": "name 'stats' is not defined",
     "output_type": "error",
     "traceback": [
      "\u001b[0;31m---------------------------------------------------------------------------\u001b[0m",
      "\u001b[0;31mNameError\u001b[0m                                 Traceback (most recent call last)",
      "\u001b[0;32m<ipython-input-44-0eec5ee16c6a>\u001b[0m in \u001b[0;36m<module>\u001b[0;34m\u001b[0m\n\u001b[0;32m----> 1\u001b[0;31m \u001b[0mstats\u001b[0m\u001b[0;34m.\u001b[0m\u001b[0mttest_ind\u001b[0m\u001b[0;34m(\u001b[0m\u001b[0mdf\u001b[0m\u001b[0;34m[\u001b[0m\u001b[0;34m'null'\u001b[0m\u001b[0;34m]\u001b[0m\u001b[0;34m[\u001b[0m\u001b[0;34m~\u001b[0m\u001b[0mnp\u001b[0m\u001b[0;34m.\u001b[0m\u001b[0misnan\u001b[0m\u001b[0;34m(\u001b[0m\u001b[0mdf\u001b[0m\u001b[0;34m[\u001b[0m\u001b[0;34m'null'\u001b[0m\u001b[0;34m]\u001b[0m\u001b[0;34m)\u001b[0m\u001b[0;34m]\u001b[0m\u001b[0;34m,\u001b[0m\u001b[0mdf\u001b[0m\u001b[0;34m[\u001b[0m\u001b[0;34m'glasses'\u001b[0m\u001b[0;34m]\u001b[0m\u001b[0;34m[\u001b[0m\u001b[0;34m~\u001b[0m\u001b[0mnp\u001b[0m\u001b[0;34m.\u001b[0m\u001b[0misnan\u001b[0m\u001b[0;34m(\u001b[0m\u001b[0mdf\u001b[0m\u001b[0;34m[\u001b[0m\u001b[0;34m'glasses'\u001b[0m\u001b[0;34m]\u001b[0m\u001b[0;34m)\u001b[0m\u001b[0;34m]\u001b[0m\u001b[0;34m,\u001b[0m \u001b[0mequal_var\u001b[0m \u001b[0;34m=\u001b[0m \u001b[0;32mFalse\u001b[0m\u001b[0;34m)\u001b[0m\u001b[0;34m\u001b[0m\u001b[0;34m\u001b[0m\u001b[0m\n\u001b[0m",
      "\u001b[0;31mNameError\u001b[0m: name 'stats' is not defined"
     ]
    }
   ],
   "source": [
    "stats.ttest_ind(df['null'][~np.isnan(df['null'])],df['glasses'][~np.isnan(df['glasses'])], equal_var = False)"
   ]
  },
  {
   "cell_type": "code",
   "execution_count": 45,
   "metadata": {},
   "outputs": [
    {
     "ename": "NameError",
     "evalue": "name 'stats' is not defined",
     "output_type": "error",
     "traceback": [
      "\u001b[0;31m---------------------------------------------------------------------------\u001b[0m",
      "\u001b[0;31mNameError\u001b[0m                                 Traceback (most recent call last)",
      "\u001b[0;32m<ipython-input-45-ad7606b60bb5>\u001b[0m in \u001b[0;36m<module>\u001b[0;34m\u001b[0m\n\u001b[0;32m----> 1\u001b[0;31m \u001b[0mstats\u001b[0m\u001b[0;34m.\u001b[0m\u001b[0mttest_ind\u001b[0m\u001b[0;34m(\u001b[0m\u001b[0mdf\u001b[0m\u001b[0;34m[\u001b[0m\u001b[0;34m'null'\u001b[0m\u001b[0;34m]\u001b[0m\u001b[0;34m[\u001b[0m\u001b[0;34m~\u001b[0m\u001b[0mnp\u001b[0m\u001b[0;34m.\u001b[0m\u001b[0misnan\u001b[0m\u001b[0;34m(\u001b[0m\u001b[0mdf\u001b[0m\u001b[0;34m[\u001b[0m\u001b[0;34m'null'\u001b[0m\u001b[0;34m]\u001b[0m\u001b[0;34m)\u001b[0m\u001b[0;34m]\u001b[0m\u001b[0;34m,\u001b[0m\u001b[0mdf\u001b[0m\u001b[0;34m[\u001b[0m\u001b[0;34m'mask'\u001b[0m\u001b[0;34m]\u001b[0m\u001b[0;34m[\u001b[0m\u001b[0;34m~\u001b[0m\u001b[0mnp\u001b[0m\u001b[0;34m.\u001b[0m\u001b[0misnan\u001b[0m\u001b[0;34m(\u001b[0m\u001b[0mdf\u001b[0m\u001b[0;34m[\u001b[0m\u001b[0;34m'mask'\u001b[0m\u001b[0;34m]\u001b[0m\u001b[0;34m)\u001b[0m\u001b[0;34m]\u001b[0m\u001b[0;34m,\u001b[0m \u001b[0mequal_var\u001b[0m \u001b[0;34m=\u001b[0m \u001b[0;32mFalse\u001b[0m\u001b[0;34m)\u001b[0m\u001b[0;34m\u001b[0m\u001b[0;34m\u001b[0m\u001b[0m\n\u001b[0m",
      "\u001b[0;31mNameError\u001b[0m: name 'stats' is not defined"
     ]
    }
   ],
   "source": [
    "stats.ttest_ind(df['null'][~np.isnan(df['null'])],df['mask'][~np.isnan(df['mask'])], equal_var = False)"
   ]
  },
  {
   "cell_type": "code",
   "execution_count": 46,
   "metadata": {},
   "outputs": [
    {
     "ename": "NameError",
     "evalue": "name 'stats' is not defined",
     "output_type": "error",
     "traceback": [
      "\u001b[0;31m---------------------------------------------------------------------------\u001b[0m",
      "\u001b[0;31mNameError\u001b[0m                                 Traceback (most recent call last)",
      "\u001b[0;32m<ipython-input-46-23f9e329ba2e>\u001b[0m in \u001b[0;36m<module>\u001b[0;34m\u001b[0m\n\u001b[0;32m----> 1\u001b[0;31m \u001b[0mstats\u001b[0m\u001b[0;34m.\u001b[0m\u001b[0mttest_ind\u001b[0m\u001b[0;34m(\u001b[0m\u001b[0mdf\u001b[0m\u001b[0;34m[\u001b[0m\u001b[0;34m'null'\u001b[0m\u001b[0;34m]\u001b[0m\u001b[0;34m[\u001b[0m\u001b[0;34m~\u001b[0m\u001b[0mnp\u001b[0m\u001b[0;34m.\u001b[0m\u001b[0misnan\u001b[0m\u001b[0;34m(\u001b[0m\u001b[0mdf\u001b[0m\u001b[0;34m[\u001b[0m\u001b[0;34m'null'\u001b[0m\u001b[0;34m]\u001b[0m\u001b[0;34m)\u001b[0m\u001b[0;34m]\u001b[0m\u001b[0;34m,\u001b[0m\u001b[0mdf\u001b[0m\u001b[0;34m[\u001b[0m\u001b[0;34m'funnyFace'\u001b[0m\u001b[0;34m]\u001b[0m\u001b[0;34m[\u001b[0m\u001b[0;34m~\u001b[0m\u001b[0mnp\u001b[0m\u001b[0;34m.\u001b[0m\u001b[0misnan\u001b[0m\u001b[0;34m(\u001b[0m\u001b[0mdf\u001b[0m\u001b[0;34m[\u001b[0m\u001b[0;34m'funnyFace'\u001b[0m\u001b[0;34m]\u001b[0m\u001b[0;34m)\u001b[0m\u001b[0;34m]\u001b[0m\u001b[0;34m,\u001b[0m \u001b[0mequal_var\u001b[0m \u001b[0;34m=\u001b[0m \u001b[0;32mFalse\u001b[0m\u001b[0;34m)\u001b[0m\u001b[0;34m\u001b[0m\u001b[0;34m\u001b[0m\u001b[0m\n\u001b[0m",
      "\u001b[0;31mNameError\u001b[0m: name 'stats' is not defined"
     ]
    }
   ],
   "source": [
    "stats.ttest_ind(df['null'][~np.isnan(df['null'])],df['funnyFace'][~np.isnan(df['funnyFace'])], equal_var = False)"
   ]
  },
  {
   "cell_type": "code",
   "execution_count": null,
   "metadata": {},
   "outputs": [],
   "source": [
    "According to the T test, by comparing the image of people wearing glasses, masks, and making funny faces with their daily pictures respectively. We could find that the p values are 0.09, 0.003 and 0.114. Comparing with p=0.05, since 0.003 is less than 0.05, we reject the null hypothesis that there is no difference in the person with masks on with themself, indicating that AWS Rekognition fails to identify people with masks and the themselves as the same individual.And for the part that AWS Rekognition match the faces with masks successfully, the mean similarity score is different from that of regular photos ('null') by T-test. "
   ]
  }
 ],
 "metadata": {
  "kernelspec": {
   "display_name": "conda_amazonei_tensorflow2_p36",
   "language": "python",
   "name": "conda_amazonei_tensorflow2_p36"
  },
  "language_info": {
   "codemirror_mode": {
    "name": "ipython",
    "version": 3
   },
   "file_extension": ".py",
   "mimetype": "text/x-python",
   "name": "python",
   "nbconvert_exporter": "python",
   "pygments_lexer": "ipython3",
   "version": "3.6.10"
  }
 },
 "nbformat": 4,
 "nbformat_minor": 4
}
